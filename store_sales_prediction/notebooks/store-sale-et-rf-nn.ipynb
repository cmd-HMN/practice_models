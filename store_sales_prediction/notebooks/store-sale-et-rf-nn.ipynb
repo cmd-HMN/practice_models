{
 "cells": [
  {
   "cell_type": "markdown",
   "id": "73df6a99",
   "metadata": {
    "papermill": {
     "duration": 0.012177,
     "end_time": "2025-02-22T13:30:06.595165",
     "exception": false,
     "start_time": "2025-02-22T13:30:06.582988",
     "status": "completed"
    },
    "tags": []
   },
   "source": [
    "# Store Sales "
   ]
  },
  {
   "cell_type": "code",
   "execution_count": 1,
   "id": "8a6f0d2e",
   "metadata": {
    "_cell_guid": "b1076dfc-b9ad-4769-8c92-a6c4dae69d19",
    "_uuid": "8f2839f25d086af736a60e9eeb907d3b93b6e0e5",
    "execution": {
     "iopub.execute_input": "2025-02-22T13:30:06.618240Z",
     "iopub.status.busy": "2025-02-22T13:30:06.617733Z",
     "iopub.status.idle": "2025-02-22T13:30:26.395458Z",
     "shell.execute_reply": "2025-02-22T13:30:26.394075Z"
    },
    "papermill": {
     "duration": 19.792517,
     "end_time": "2025-02-22T13:30:26.397616",
     "exception": false,
     "start_time": "2025-02-22T13:30:06.605099",
     "status": "completed"
    },
    "tags": []
   },
   "outputs": [
    {
     "name": "stdout",
     "output_type": "stream",
     "text": [
      "/kaggle/input/store-sales-time-series-forecasting/oil.csv\n",
      "/kaggle/input/store-sales-time-series-forecasting/sample_submission.csv\n",
      "/kaggle/input/store-sales-time-series-forecasting/holidays_events.csv\n",
      "/kaggle/input/store-sales-time-series-forecasting/stores.csv\n",
      "/kaggle/input/store-sales-time-series-forecasting/train.csv\n",
      "/kaggle/input/store-sales-time-series-forecasting/test.csv\n",
      "/kaggle/input/store-sales-time-series-forecasting/transactions.csv\n"
     ]
    }
   ],
   "source": [
    "# This Python 3 environment comes with many helpful analytics libraries installed\n",
    "# It is defined by the kaggle/python Docker image: https://github.com/kaggle/docker-python\n",
    "# For example, here's several helpful packages to load\n",
    "\n",
    "import numpy as np # linear algebra\n",
    "import pandas as pd # data processing, CSV file I/O (e.g. pd.read_csv)\n",
    "import seaborn as sns\n",
    "from keras.models import Sequential\n",
    "from keras.layers import Dense, Activation, Flatten\n",
    "from xgboost import XGBRegressor\n",
    "\n",
    "# Input data files are available in the read-only \"../input/\" directory\n",
    "# For example, running this (by clicking run or pressing Shift+Enter) will list all files under the input directory\n",
    "\n",
    "import os\n",
    "for dirname, _, filenames in os.walk('/kaggle/input'):\n",
    "    for filename in filenames:\n",
    "        print(os.path.join(dirname, filename))\n",
    "\n",
    "# You can write up to 20GB to the current directory (/kaggle/working/) that gets preserved as output when you create a version using \"Save & Run All\" \n",
    "# You can also write temporary files to /kaggle/temp/, but they won't be saved outside of the current session"
   ]
  },
  {
   "cell_type": "markdown",
   "id": "fa65e66a",
   "metadata": {
    "papermill": {
     "duration": 0.009183,
     "end_time": "2025-02-22T13:30:26.417178",
     "exception": false,
     "start_time": "2025-02-22T13:30:26.407995",
     "status": "completed"
    },
    "tags": []
   },
   "source": [
    "# Importing CSV"
   ]
  },
  {
   "cell_type": "code",
   "execution_count": 2,
   "id": "1e89d178",
   "metadata": {
    "execution": {
     "iopub.execute_input": "2025-02-22T13:30:26.438152Z",
     "iopub.status.busy": "2025-02-22T13:30:26.437411Z",
     "iopub.status.idle": "2025-02-22T13:30:30.178042Z",
     "shell.execute_reply": "2025-02-22T13:30:30.176923Z"
    },
    "papermill": {
     "duration": 3.753482,
     "end_time": "2025-02-22T13:30:30.180090",
     "exception": false,
     "start_time": "2025-02-22T13:30:26.426608",
     "status": "completed"
    },
    "tags": []
   },
   "outputs": [],
   "source": [
    "df_train = pd.read_csv(\"/kaggle/input/store-sales-time-series-forecasting/train.csv\")\n",
    "df_test = pd.read_csv(\"/kaggle/input/store-sales-time-series-forecasting/test.csv\")\n",
    "df_store = pd.read_csv(\"/kaggle/input/store-sales-time-series-forecasting/stores.csv\")\n",
    "\n",
    "# df_oil = pd.read_csv(\"/kaggle/input/store-sales-time-series-forecasting/oil.csv/\n",
    "# df_events = pd.read_csv(\"/kaggle/input/store-sales-time-series-forecasting/holidays_events.csv\")\n",
    "# df_trans = pd.read_csv(\"/kaggle/input/store-sales-time-series-forecasting/transactions.csv\")"
   ]
  },
  {
   "cell_type": "markdown",
   "id": "9e56577c",
   "metadata": {
    "papermill": {
     "duration": 0.010058,
     "end_time": "2025-02-22T13:30:30.200080",
     "exception": false,
     "start_time": "2025-02-22T13:30:30.190022",
     "status": "completed"
    },
    "tags": []
   },
   "source": [
    "## Dropping Id"
   ]
  },
  {
   "cell_type": "code",
   "execution_count": 3,
   "id": "e67d09e7",
   "metadata": {
    "execution": {
     "iopub.execute_input": "2025-02-22T13:30:30.221886Z",
     "iopub.status.busy": "2025-02-22T13:30:30.221465Z",
     "iopub.status.idle": "2025-02-22T13:30:30.324955Z",
     "shell.execute_reply": "2025-02-22T13:30:30.323783Z"
    },
    "papermill": {
     "duration": 0.116739,
     "end_time": "2025-02-22T13:30:30.326989",
     "exception": false,
     "start_time": "2025-02-22T13:30:30.210250",
     "status": "completed"
    },
    "tags": []
   },
   "outputs": [],
   "source": [
    "id_ = df_test.id\n",
    "df_test = df_test.drop(['id'], axis=1)\n",
    "df_train = df_train.drop(['id'], axis=1)"
   ]
  },
  {
   "cell_type": "markdown",
   "id": "ee5904ff",
   "metadata": {
    "papermill": {
     "duration": 0.01086,
     "end_time": "2025-02-22T13:30:30.348077",
     "exception": false,
     "start_time": "2025-02-22T13:30:30.337217",
     "status": "completed"
    },
    "tags": []
   },
   "source": [
    "# Data Analysis"
   ]
  },
  {
   "cell_type": "markdown",
   "id": "ea9f22e9",
   "metadata": {
    "papermill": {
     "duration": 0.01001,
     "end_time": "2025-02-22T13:30:30.368379",
     "exception": false,
     "start_time": "2025-02-22T13:30:30.358369",
     "status": "completed"
    },
    "tags": []
   },
   "source": [
    "Both events and store has the *\"type\"* columns, so after careful understanding and some guts feeling i thought of dropping the *type* columns in the store one and then merge the both to the train and test DataFrame, so it's my initial guess---\n",
    "\n",
    "P.S:- and that was wrong the date seems to be odd and both type represents differnet values or events, so dates might not be a good way to concat the events with the test and train df's"
   ]
  },
  {
   "cell_type": "code",
   "execution_count": 4,
   "id": "640657da",
   "metadata": {
    "execution": {
     "iopub.execute_input": "2025-02-22T13:30:30.389924Z",
     "iopub.status.busy": "2025-02-22T13:30:30.389439Z",
     "iopub.status.idle": "2025-02-22T13:30:30.875034Z",
     "shell.execute_reply": "2025-02-22T13:30:30.873808Z"
    },
    "papermill": {
     "duration": 0.498316,
     "end_time": "2025-02-22T13:30:30.877193",
     "exception": false,
     "start_time": "2025-02-22T13:30:30.378877",
     "status": "completed"
    },
    "tags": []
   },
   "outputs": [],
   "source": [
    "df_train = df_train.merge(df_store, on='store_nbr')\n",
    "df_test = df_test.merge(df_store, on='store_nbr')"
   ]
  },
  {
   "cell_type": "markdown",
   "id": "651163b8",
   "metadata": {
    "papermill": {
     "duration": 0.00944,
     "end_time": "2025-02-22T13:30:30.896400",
     "exception": false,
     "start_time": "2025-02-22T13:30:30.886960",
     "status": "completed"
    },
    "tags": []
   },
   "source": [
    "## Dropping Missing Values"
   ]
  },
  {
   "cell_type": "code",
   "execution_count": 5,
   "id": "0b3d5bbf",
   "metadata": {
    "execution": {
     "iopub.execute_input": "2025-02-22T13:30:30.916656Z",
     "iopub.status.busy": "2025-02-22T13:30:30.916294Z",
     "iopub.status.idle": "2025-02-22T13:30:33.141871Z",
     "shell.execute_reply": "2025-02-22T13:30:33.140731Z"
    },
    "papermill": {
     "duration": 2.237944,
     "end_time": "2025-02-22T13:30:33.143837",
     "exception": false,
     "start_time": "2025-02-22T13:30:30.905893",
     "status": "completed"
    },
    "tags": []
   },
   "outputs": [
    {
     "data": {
      "text/plain": [
       "date           0\n",
       "store_nbr      0\n",
       "family         0\n",
       "sales          0\n",
       "onpromotion    0\n",
       "city           0\n",
       "state          0\n",
       "type           0\n",
       "cluster        0\n",
       "dtype: int64"
      ]
     },
     "execution_count": 5,
     "metadata": {},
     "output_type": "execute_result"
    }
   ],
   "source": [
    "df_train = df_train.dropna()\n",
    "df_train.isna().sum()"
   ]
  },
  {
   "cell_type": "markdown",
   "id": "eab0dd17",
   "metadata": {
    "papermill": {
     "duration": 0.009305,
     "end_time": "2025-02-22T13:30:33.163481",
     "exception": false,
     "start_time": "2025-02-22T13:30:33.154176",
     "status": "completed"
    },
    "tags": []
   },
   "source": [
    "# Feature Engineering"
   ]
  },
  {
   "cell_type": "markdown",
   "id": "f98f0ec4",
   "metadata": {
    "papermill": {
     "duration": 0.009293,
     "end_time": "2025-02-22T13:30:33.182466",
     "exception": false,
     "start_time": "2025-02-22T13:30:33.173173",
     "status": "completed"
    },
    "tags": []
   },
   "source": [
    "## Conveting the cat data to numerical"
   ]
  },
  {
   "cell_type": "code",
   "execution_count": 6,
   "id": "815a4f8d",
   "metadata": {
    "execution": {
     "iopub.execute_input": "2025-02-22T13:30:33.203892Z",
     "iopub.status.busy": "2025-02-22T13:30:33.203508Z",
     "iopub.status.idle": "2025-02-22T13:30:33.220828Z",
     "shell.execute_reply": "2025-02-22T13:30:33.219501Z"
    },
    "papermill": {
     "duration": 0.030754,
     "end_time": "2025-02-22T13:30:33.222790",
     "exception": false,
     "start_time": "2025-02-22T13:30:33.192036",
     "status": "completed"
    },
    "tags": []
   },
   "outputs": [
    {
     "name": "stdout",
     "output_type": "stream",
     "text": [
      "<class 'pandas.core.frame.DataFrame'>\n",
      "RangeIndex: 3000888 entries, 0 to 3000887\n",
      "Data columns (total 9 columns):\n",
      " #   Column       Dtype  \n",
      "---  ------       -----  \n",
      " 0   date         object \n",
      " 1   store_nbr    int64  \n",
      " 2   family       object \n",
      " 3   sales        float64\n",
      " 4   onpromotion  int64  \n",
      " 5   city         object \n",
      " 6   state        object \n",
      " 7   type         object \n",
      " 8   cluster      int64  \n",
      "dtypes: float64(1), int64(3), object(5)\n",
      "memory usage: 206.1+ MB\n"
     ]
    }
   ],
   "source": [
    "df_train.info()"
   ]
  },
  {
   "cell_type": "code",
   "execution_count": 7,
   "id": "df3cf397",
   "metadata": {
    "execution": {
     "iopub.execute_input": "2025-02-22T13:30:33.243921Z",
     "iopub.status.busy": "2025-02-22T13:30:33.243476Z",
     "iopub.status.idle": "2025-02-22T13:30:33.247886Z",
     "shell.execute_reply": "2025-02-22T13:30:33.246818Z"
    },
    "papermill": {
     "duration": 0.016979,
     "end_time": "2025-02-22T13:30:33.249604",
     "exception": false,
     "start_time": "2025-02-22T13:30:33.232625",
     "status": "completed"
    },
    "tags": []
   },
   "outputs": [],
   "source": [
    "cat_cols = ['family', 'city', 'state', 'type']"
   ]
  },
  {
   "cell_type": "code",
   "execution_count": 8,
   "id": "11764708",
   "metadata": {
    "execution": {
     "iopub.execute_input": "2025-02-22T13:30:33.270969Z",
     "iopub.status.busy": "2025-02-22T13:30:33.270560Z",
     "iopub.status.idle": "2025-02-22T13:30:35.425857Z",
     "shell.execute_reply": "2025-02-22T13:30:35.424819Z"
    },
    "papermill": {
     "duration": 2.168087,
     "end_time": "2025-02-22T13:30:35.427606",
     "exception": false,
     "start_time": "2025-02-22T13:30:33.259519",
     "status": "completed"
    },
    "tags": []
   },
   "outputs": [],
   "source": [
    "from sklearn.preprocessing import LabelEncoder\n",
    "\n",
    "le = LabelEncoder()\n",
    "\n",
    "\n",
    "for col in cat_cols:\n",
    "    df_train[col] = le.fit_transform(df_train[col])\n",
    "    df_test[col] = le.fit_transform(df_test[col])"
   ]
  },
  {
   "cell_type": "code",
   "execution_count": 9,
   "id": "5c8e3487",
   "metadata": {
    "execution": {
     "iopub.execute_input": "2025-02-22T13:30:35.449173Z",
     "iopub.status.busy": "2025-02-22T13:30:35.448785Z",
     "iopub.status.idle": "2025-02-22T13:30:35.454550Z",
     "shell.execute_reply": "2025-02-22T13:30:35.453616Z"
    },
    "papermill": {
     "duration": 0.018149,
     "end_time": "2025-02-22T13:30:35.456168",
     "exception": false,
     "start_time": "2025-02-22T13:30:35.438019",
     "status": "completed"
    },
    "tags": []
   },
   "outputs": [
    {
     "data": {
      "text/plain": [
       "array(['A', 'B', 'C', 'D', 'E'], dtype=object)"
      ]
     },
     "execution_count": 9,
     "metadata": {},
     "output_type": "execute_result"
    }
   ],
   "source": [
    "le.classes_"
   ]
  },
  {
   "cell_type": "markdown",
   "id": "a06a61ad",
   "metadata": {
    "papermill": {
     "duration": 0.009472,
     "end_time": "2025-02-22T13:30:35.475900",
     "exception": false,
     "start_time": "2025-02-22T13:30:35.466428",
     "status": "completed"
    },
    "tags": []
   },
   "source": [
    "## Separating Date to day year and months"
   ]
  },
  {
   "cell_type": "code",
   "execution_count": 10,
   "id": "55904ee8",
   "metadata": {
    "execution": {
     "iopub.execute_input": "2025-02-22T13:30:35.496953Z",
     "iopub.status.busy": "2025-02-22T13:30:35.496532Z",
     "iopub.status.idle": "2025-02-22T13:30:35.502114Z",
     "shell.execute_reply": "2025-02-22T13:30:35.500816Z"
    },
    "papermill": {
     "duration": 0.018353,
     "end_time": "2025-02-22T13:30:35.504138",
     "exception": false,
     "start_time": "2025-02-22T13:30:35.485785",
     "status": "completed"
    },
    "tags": []
   },
   "outputs": [],
   "source": [
    "def date_to_cols(data, splitter):\n",
    "    splitted = pd.DataFrame()\n",
    "    splitted = data.date.str.split(splitter, expand=True)\n",
    "    splitted.rename(columns={0:'year', 1:'month', 2:'day'},inplace=True)\n",
    "    data = pd.concat([splitted, data], axis=1)\n",
    "    data.drop(['date'],axis=1, inplace=True)\n",
    "\n",
    "    return data"
   ]
  },
  {
   "cell_type": "code",
   "execution_count": 11,
   "id": "730437d7",
   "metadata": {
    "execution": {
     "iopub.execute_input": "2025-02-22T13:30:35.525489Z",
     "iopub.status.busy": "2025-02-22T13:30:35.525152Z",
     "iopub.status.idle": "2025-02-22T13:30:45.531235Z",
     "shell.execute_reply": "2025-02-22T13:30:45.530168Z"
    },
    "papermill": {
     "duration": 10.019258,
     "end_time": "2025-02-22T13:30:45.533348",
     "exception": false,
     "start_time": "2025-02-22T13:30:35.514090",
     "status": "completed"
    },
    "tags": []
   },
   "outputs": [],
   "source": [
    "splitter = '-'\n",
    "df_train = date_to_cols(df_train, splitter)"
   ]
  },
  {
   "cell_type": "code",
   "execution_count": 12,
   "id": "2233b342",
   "metadata": {
    "execution": {
     "iopub.execute_input": "2025-02-22T13:30:45.555353Z",
     "iopub.status.busy": "2025-02-22T13:30:45.555012Z",
     "iopub.status.idle": "2025-02-22T13:30:45.622945Z",
     "shell.execute_reply": "2025-02-22T13:30:45.621770Z"
    },
    "papermill": {
     "duration": 0.080861,
     "end_time": "2025-02-22T13:30:45.624870",
     "exception": false,
     "start_time": "2025-02-22T13:30:45.544009",
     "status": "completed"
    },
    "tags": []
   },
   "outputs": [],
   "source": [
    "df_test = date_to_cols(df_test, splitter)"
   ]
  },
  {
   "cell_type": "code",
   "execution_count": 13,
   "id": "ac2ac6d8",
   "metadata": {
    "execution": {
     "iopub.execute_input": "2025-02-22T13:30:45.647001Z",
     "iopub.status.busy": "2025-02-22T13:30:45.646598Z",
     "iopub.status.idle": "2025-02-22T13:30:46.917924Z",
     "shell.execute_reply": "2025-02-22T13:30:46.916569Z"
    },
    "papermill": {
     "duration": 1.284671,
     "end_time": "2025-02-22T13:30:46.920072",
     "exception": false,
     "start_time": "2025-02-22T13:30:45.635401",
     "status": "completed"
    },
    "tags": []
   },
   "outputs": [],
   "source": [
    "df_train['year'] = df_train['year'].astype(int)\n",
    "df_train['month'] = df_train['month'].astype(int)\n",
    "df_train['day'] = df_train['day'].astype(int)\n",
    "\n",
    "df_test['year'] = df_test['year'].astype(int)\n",
    "df_test['month'] = df_test['month'].astype(int)\n",
    "df_test['day'] = df_test['day'].astype(int)"
   ]
  },
  {
   "cell_type": "markdown",
   "id": "7b381cf5",
   "metadata": {
    "papermill": {
     "duration": 0.00965,
     "end_time": "2025-02-22T13:30:46.939870",
     "exception": false,
     "start_time": "2025-02-22T13:30:46.930220",
     "status": "completed"
    },
    "tags": []
   },
   "source": [
    "# Seeing Corr"
   ]
  },
  {
   "cell_type": "markdown",
   "id": "b8d1c141",
   "metadata": {
    "papermill": {
     "duration": 0.010133,
     "end_time": "2025-02-22T13:30:46.959752",
     "exception": false,
     "start_time": "2025-02-22T13:30:46.949619",
     "status": "completed"
    },
    "tags": []
   },
   "source": [
    "Only *\"family\"* and *\"onpromontion\"* has some linear relation "
   ]
  },
  {
   "cell_type": "code",
   "execution_count": 14,
   "id": "77049034",
   "metadata": {
    "execution": {
     "iopub.execute_input": "2025-02-22T13:30:46.980374Z",
     "iopub.status.busy": "2025-02-22T13:30:46.980022Z",
     "iopub.status.idle": "2025-02-22T13:30:48.275121Z",
     "shell.execute_reply": "2025-02-22T13:30:48.273780Z"
    },
    "papermill": {
     "duration": 1.307452,
     "end_time": "2025-02-22T13:30:48.276894",
     "exception": false,
     "start_time": "2025-02-22T13:30:46.969442",
     "status": "completed"
    },
    "tags": []
   },
   "outputs": [
    {
     "data": {
      "text/plain": [
       "year           0.08\n",
       "month          0.02\n",
       "day           -0.01\n",
       "store_nbr      0.04\n",
       "family        -0.11\n",
       "sales          1.00\n",
       "onpromotion    0.43\n",
       "city           0.05\n",
       "state          0.07\n",
       "type          -0.10\n",
       "cluster        0.04\n",
       "Name: sales, dtype: float64"
      ]
     },
     "execution_count": 14,
     "metadata": {},
     "output_type": "execute_result"
    }
   ],
   "source": [
    "df_train.corr().round(2)['sales']"
   ]
  },
  {
   "cell_type": "code",
   "execution_count": 15,
   "id": "cca31e50",
   "metadata": {
    "execution": {
     "iopub.execute_input": "2025-02-22T13:30:48.298270Z",
     "iopub.status.busy": "2025-02-22T13:30:48.297919Z",
     "iopub.status.idle": "2025-02-22T13:30:48.321124Z",
     "shell.execute_reply": "2025-02-22T13:30:48.320011Z"
    },
    "papermill": {
     "duration": 0.035603,
     "end_time": "2025-02-22T13:30:48.322811",
     "exception": false,
     "start_time": "2025-02-22T13:30:48.287208",
     "status": "completed"
    },
    "tags": []
   },
   "outputs": [
    {
     "data": {
      "text/html": [
       "<div>\n",
       "<style scoped>\n",
       "    .dataframe tbody tr th:only-of-type {\n",
       "        vertical-align: middle;\n",
       "    }\n",
       "\n",
       "    .dataframe tbody tr th {\n",
       "        vertical-align: top;\n",
       "    }\n",
       "\n",
       "    .dataframe thead th {\n",
       "        text-align: right;\n",
       "    }\n",
       "</style>\n",
       "<table border=\"1\" class=\"dataframe\">\n",
       "  <thead>\n",
       "    <tr style=\"text-align: right;\">\n",
       "      <th></th>\n",
       "      <th>year</th>\n",
       "      <th>month</th>\n",
       "      <th>day</th>\n",
       "      <th>store_nbr</th>\n",
       "      <th>family</th>\n",
       "      <th>sales</th>\n",
       "      <th>onpromotion</th>\n",
       "      <th>city</th>\n",
       "      <th>state</th>\n",
       "      <th>type</th>\n",
       "      <th>cluster</th>\n",
       "    </tr>\n",
       "  </thead>\n",
       "  <tbody>\n",
       "    <tr>\n",
       "      <th>0</th>\n",
       "      <td>2013</td>\n",
       "      <td>1</td>\n",
       "      <td>1</td>\n",
       "      <td>1</td>\n",
       "      <td>0</td>\n",
       "      <td>0.0</td>\n",
       "      <td>0</td>\n",
       "      <td>18</td>\n",
       "      <td>12</td>\n",
       "      <td>3</td>\n",
       "      <td>13</td>\n",
       "    </tr>\n",
       "    <tr>\n",
       "      <th>1</th>\n",
       "      <td>2013</td>\n",
       "      <td>1</td>\n",
       "      <td>1</td>\n",
       "      <td>1</td>\n",
       "      <td>1</td>\n",
       "      <td>0.0</td>\n",
       "      <td>0</td>\n",
       "      <td>18</td>\n",
       "      <td>12</td>\n",
       "      <td>3</td>\n",
       "      <td>13</td>\n",
       "    </tr>\n",
       "    <tr>\n",
       "      <th>2</th>\n",
       "      <td>2013</td>\n",
       "      <td>1</td>\n",
       "      <td>1</td>\n",
       "      <td>1</td>\n",
       "      <td>2</td>\n",
       "      <td>0.0</td>\n",
       "      <td>0</td>\n",
       "      <td>18</td>\n",
       "      <td>12</td>\n",
       "      <td>3</td>\n",
       "      <td>13</td>\n",
       "    </tr>\n",
       "    <tr>\n",
       "      <th>3</th>\n",
       "      <td>2013</td>\n",
       "      <td>1</td>\n",
       "      <td>1</td>\n",
       "      <td>1</td>\n",
       "      <td>3</td>\n",
       "      <td>0.0</td>\n",
       "      <td>0</td>\n",
       "      <td>18</td>\n",
       "      <td>12</td>\n",
       "      <td>3</td>\n",
       "      <td>13</td>\n",
       "    </tr>\n",
       "    <tr>\n",
       "      <th>4</th>\n",
       "      <td>2013</td>\n",
       "      <td>1</td>\n",
       "      <td>1</td>\n",
       "      <td>1</td>\n",
       "      <td>4</td>\n",
       "      <td>0.0</td>\n",
       "      <td>0</td>\n",
       "      <td>18</td>\n",
       "      <td>12</td>\n",
       "      <td>3</td>\n",
       "      <td>13</td>\n",
       "    </tr>\n",
       "  </tbody>\n",
       "</table>\n",
       "</div>"
      ],
      "text/plain": [
       "   year  month  day  store_nbr  family  sales  onpromotion  city  state  type  \\\n",
       "0  2013      1    1          1       0    0.0            0    18     12     3   \n",
       "1  2013      1    1          1       1    0.0            0    18     12     3   \n",
       "2  2013      1    1          1       2    0.0            0    18     12     3   \n",
       "3  2013      1    1          1       3    0.0            0    18     12     3   \n",
       "4  2013      1    1          1       4    0.0            0    18     12     3   \n",
       "\n",
       "   cluster  \n",
       "0       13  \n",
       "1       13  \n",
       "2       13  \n",
       "3       13  \n",
       "4       13  "
      ]
     },
     "execution_count": 15,
     "metadata": {},
     "output_type": "execute_result"
    }
   ],
   "source": [
    "df_train.head()"
   ]
  },
  {
   "cell_type": "code",
   "execution_count": 16,
   "id": "9437647e",
   "metadata": {
    "execution": {
     "iopub.execute_input": "2025-02-22T13:30:48.344887Z",
     "iopub.status.busy": "2025-02-22T13:30:48.344424Z",
     "iopub.status.idle": "2025-02-22T13:30:51.223227Z",
     "shell.execute_reply": "2025-02-22T13:30:51.221984Z"
    },
    "papermill": {
     "duration": 2.891746,
     "end_time": "2025-02-22T13:30:51.225049",
     "exception": false,
     "start_time": "2025-02-22T13:30:48.333303",
     "status": "completed"
    },
    "tags": []
   },
   "outputs": [
    {
     "data": {
      "text/plain": [
       "array([[<Axes: title={'center': 'year'}>,\n",
       "        <Axes: title={'center': 'month'}>,\n",
       "        <Axes: title={'center': 'day'}>],\n",
       "       [<Axes: title={'center': 'store_nbr'}>,\n",
       "        <Axes: title={'center': 'family'}>,\n",
       "        <Axes: title={'center': 'sales'}>],\n",
       "       [<Axes: title={'center': 'onpromotion'}>,\n",
       "        <Axes: title={'center': 'city'}>,\n",
       "        <Axes: title={'center': 'state'}>],\n",
       "       [<Axes: title={'center': 'type'}>,\n",
       "        <Axes: title={'center': 'cluster'}>, <Axes: >]], dtype=object)"
      ]
     },
     "execution_count": 16,
     "metadata": {},
     "output_type": "execute_result"
    },
    {
     "data": {
      "image/png": "[encoded data removed]",
      "text/plain": [
       "<Figure size 640x480 with 12 Axes>"
      ]
     },
     "metadata": {},
     "output_type": "display_data"
    }
   ],
   "source": [
    "df_train.hist()"
   ]
  },
  {
   "cell_type": "code",
   "execution_count": 17,
   "id": "e176f607",
   "metadata": {
    "execution": {
     "iopub.execute_input": "2025-02-22T13:30:51.250417Z",
     "iopub.status.busy": "2025-02-22T13:30:51.249919Z",
     "iopub.status.idle": "2025-02-22T13:31:03.961721Z",
     "shell.execute_reply": "2025-02-22T13:31:03.960585Z"
    },
    "papermill": {
     "duration": 12.726809,
     "end_time": "2025-02-22T13:31:03.963581",
     "exception": false,
     "start_time": "2025-02-22T13:30:51.236772",
     "status": "completed"
    },
    "tags": []
   },
   "outputs": [
    {
     "data": {
      "text/plain": [
       "<Axes: ylabel='sales'>"
      ]
     },
     "execution_count": 17,
     "metadata": {},
     "output_type": "execute_result"
    },
    {
     "data": {
      "image/png": "[encoded data removed]",
      "text/plain": [
       "<Figure size 640x480 with 1 Axes>"
      ]
     },
     "metadata": {},
     "output_type": "display_data"
    }
   ],
   "source": [
    "sns.scatterplot(df_train['sales'])"
   ]
  },
  {
   "cell_type": "code",
   "execution_count": 18,
   "id": "0f02fe05",
   "metadata": {
    "execution": {
     "iopub.execute_input": "2025-02-22T13:31:03.991335Z",
     "iopub.status.busy": "2025-02-22T13:31:03.990974Z",
     "iopub.status.idle": "2025-02-22T13:31:03.994949Z",
     "shell.execute_reply": "2025-02-22T13:31:03.993837Z"
    },
    "papermill": {
     "duration": 0.019438,
     "end_time": "2025-02-22T13:31:03.996621",
     "exception": false,
     "start_time": "2025-02-22T13:31:03.977183",
     "status": "completed"
    },
    "tags": []
   },
   "outputs": [],
   "source": [
    "# pd.plotting.scatter_matrix(df_train)"
   ]
  },
  {
   "cell_type": "markdown",
   "id": "f8bcfeed",
   "metadata": {
    "papermill": {
     "duration": 0.012388,
     "end_time": "2025-02-22T13:31:04.022585",
     "exception": false,
     "start_time": "2025-02-22T13:31:04.010197",
     "status": "completed"
    },
    "tags": []
   },
   "source": [
    "# Separating Data"
   ]
  },
  {
   "cell_type": "code",
   "execution_count": 19,
   "id": "275378c0",
   "metadata": {
    "execution": {
     "iopub.execute_input": "2025-02-22T13:31:04.050411Z",
     "iopub.status.busy": "2025-02-22T13:31:04.050018Z",
     "iopub.status.idle": "2025-02-22T13:31:04.142238Z",
     "shell.execute_reply": "2025-02-22T13:31:04.140993Z"
    },
    "papermill": {
     "duration": 0.108431,
     "end_time": "2025-02-22T13:31:04.144321",
     "exception": false,
     "start_time": "2025-02-22T13:31:04.035890",
     "status": "completed"
    },
    "tags": []
   },
   "outputs": [],
   "source": [
    "X = df_train.drop(['sales'], axis=1)\n",
    "y = df_train['sales']"
   ]
  },
  {
   "cell_type": "markdown",
   "id": "ea6ccec3",
   "metadata": {
    "papermill": {
     "duration": 0.01381,
     "end_time": "2025-02-22T13:31:04.171660",
     "exception": false,
     "start_time": "2025-02-22T13:31:04.157850",
     "status": "completed"
    },
    "tags": []
   },
   "source": [
    "# Model Selection"
   ]
  },
  {
   "cell_type": "code",
   "execution_count": 20,
   "id": "f5089486",
   "metadata": {
    "execution": {
     "iopub.execute_input": "2025-02-22T13:31:04.198907Z",
     "iopub.status.busy": "2025-02-22T13:31:04.198398Z",
     "iopub.status.idle": "2025-02-22T13:31:04.202996Z",
     "shell.execute_reply": "2025-02-22T13:31:04.201561Z"
    },
    "papermill": {
     "duration": 0.020969,
     "end_time": "2025-02-22T13:31:04.205567",
     "exception": false,
     "start_time": "2025-02-22T13:31:04.184598",
     "status": "completed"
    },
    "tags": []
   },
   "outputs": [],
   "source": [
    "# from sklearn.model_selection import train_test_split\n",
    "# from sklearn.metrics import mean_squared_error\n",
    "\n",
    "# X_train, X_test, y_train, y_test = train_test_split(X, y, test_size=0.3, shuffle=True)"
   ]
  },
  {
   "cell_type": "markdown",
   "id": "a48fd17b",
   "metadata": {
    "papermill": {
     "duration": 0.012372,
     "end_time": "2025-02-22T13:31:04.231451",
     "exception": false,
     "start_time": "2025-02-22T13:31:04.219079",
     "status": "completed"
    },
    "tags": []
   },
   "source": [
    "# Testing Model"
   ]
  },
  {
   "cell_type": "markdown",
   "id": "8d4c336a",
   "metadata": {
    "papermill": {
     "duration": 0.012236,
     "end_time": "2025-02-22T13:31:04.256394",
     "exception": false,
     "start_time": "2025-02-22T13:31:04.244158",
     "status": "completed"
    },
    "tags": []
   },
   "source": [
    "## Extra Tree"
   ]
  },
  {
   "cell_type": "code",
   "execution_count": 21,
   "id": "0f3aba2d",
   "metadata": {
    "execution": {
     "iopub.execute_input": "2025-02-22T13:31:04.346362Z",
     "iopub.status.busy": "2025-02-22T13:31:04.345961Z",
     "iopub.status.idle": "2025-02-22T13:37:34.320407Z",
     "shell.execute_reply": "2025-02-22T13:37:34.319306Z"
    },
    "papermill": {
     "duration": 390.066107,
     "end_time": "2025-02-22T13:37:34.335600",
     "exception": false,
     "start_time": "2025-02-22T13:31:04.269493",
     "status": "completed"
    },
    "tags": []
   },
   "outputs": [
    {
     "data": {
      "text/html": [
       "<style>#sk-container-id-1 {color: black;background-color: white;}#sk-container-id-1 pre{padding: 0;}#sk-container-id-1 div.sk-toggleable {background-color: white;}#sk-container-id-1 label.sk-toggleable__label {cursor: pointer;display: block;width: 100%;margin-bottom: 0;padding: 0.3em;box-sizing: border-box;text-align: center;}#sk-container-id-1 label.sk-toggleable__label-arrow:before {content: \"▸\";float: left;margin-right: 0.25em;color: #696969;}#sk-container-id-1 label.sk-toggleable__label-arrow:hover:before {color: black;}#sk-container-id-1 div.sk-estimator:hover label.sk-toggleable__label-arrow:before {color: black;}#sk-container-id-1 div.sk-toggleable__content {max-height: 0;max-width: 0;overflow: hidden;text-align: left;background-color: #f0f8ff;}#sk-container-id-1 div.sk-toggleable__content pre {margin: 0.2em;color: black;border-radius: 0.25em;background-color: #f0f8ff;}#sk-container-id-1 input.sk-toggleable__control:checked~div.sk-toggleable__content {max-height: 200px;max-width: 100%;overflow: auto;}#sk-container-id-1 input.sk-toggleable__control:checked~label.sk-toggleable__label-arrow:before {content: \"▾\";}#sk-container-id-1 div.sk-estimator input.sk-toggleable__control:checked~label.sk-toggleable__label {background-color: #d4ebff;}#sk-container-id-1 div.sk-label input.sk-toggleable__control:checked~label.sk-toggleable__label {background-color: #d4ebff;}#sk-container-id-1 input.sk-hidden--visually {border: 0;clip: rect(1px 1px 1px 1px);clip: rect(1px, 1px, 1px, 1px);height: 1px;margin: -1px;overflow: hidden;padding: 0;position: absolute;width: 1px;}#sk-container-id-1 div.sk-estimator {font-family: monospace;background-color: #f0f8ff;border: 1px dotted black;border-radius: 0.25em;box-sizing: border-box;margin-bottom: 0.5em;}#sk-container-id-1 div.sk-estimator:hover {background-color: #d4ebff;}#sk-container-id-1 div.sk-parallel-item::after {content: \"\";width: 100%;border-bottom: 1px solid gray;flex-grow: 1;}#sk-container-id-1 div.sk-label:hover label.sk-toggleable__label {background-color: #d4ebff;}#sk-container-id-1 div.sk-serial::before {content: \"\";position: absolute;border-left: 1px solid gray;box-sizing: border-box;top: 0;bottom: 0;left: 50%;z-index: 0;}#sk-container-id-1 div.sk-serial {display: flex;flex-direction: column;align-items: center;background-color: white;padding-right: 0.2em;padding-left: 0.2em;position: relative;}#sk-container-id-1 div.sk-item {position: relative;z-index: 1;}#sk-container-id-1 div.sk-parallel {display: flex;align-items: stretch;justify-content: center;background-color: white;position: relative;}#sk-container-id-1 div.sk-item::before, #sk-container-id-1 div.sk-parallel-item::before {content: \"\";position: absolute;border-left: 1px solid gray;box-sizing: border-box;top: 0;bottom: 0;left: 50%;z-index: -1;}#sk-container-id-1 div.sk-parallel-item {display: flex;flex-direction: column;z-index: 1;position: relative;background-color: white;}#sk-container-id-1 div.sk-parallel-item:first-child::after {align-self: flex-end;width: 50%;}#sk-container-id-1 div.sk-parallel-item:last-child::after {align-self: flex-start;width: 50%;}#sk-container-id-1 div.sk-parallel-item:only-child::after {width: 0;}#sk-container-id-1 div.sk-dashed-wrapped {border: 1px dashed gray;margin: 0 0.4em 0.5em 0.4em;box-sizing: border-box;padding-bottom: 0.4em;background-color: white;}#sk-container-id-1 div.sk-label label {font-family: monospace;font-weight: bold;display: inline-block;line-height: 1.2em;}#sk-container-id-1 div.sk-label-container {text-align: center;}#sk-container-id-1 div.sk-container {/* jupyter's `normalize.less` sets `[hidden] { display: none; }` but bootstrap.min.css set `[hidden] { display: none !important; }` so we also need the `!important` here to be able to override the default hidden behavior on the sphinx rendered scikit-learn.org. See: https://github.com/scikit-learn/scikit-learn/issues/21755 */display: inline-block !important;position: relative;}#sk-container-id-1 div.sk-text-repr-fallback {display: none;}</style><div id=\"sk-container-id-1\" class=\"sk-top-container\"><div class=\"sk-text-repr-fallback\"><pre>ExtraTreesRegressor(n_jobs=-1)</pre><b>In a Jupyter environment, please rerun this cell to show the HTML representation or trust the notebook. <br />On GitHub, the HTML representation is unable to render, please try loading this page with nbviewer.org.</b></div><div class=\"sk-container\" hidden><div class=\"sk-item\"><div class=\"sk-estimator sk-toggleable\"><input class=\"sk-toggleable__control sk-hidden--visually\" id=\"sk-estimator-id-1\" type=\"checkbox\" checked><label for=\"sk-estimator-id-1\" class=\"sk-toggleable__label sk-toggleable__label-arrow\">ExtraTreesRegressor</label><div class=\"sk-toggleable__content\"><pre>ExtraTreesRegressor(n_jobs=-1)</pre></div></div></div></div></div>"
      ],
      "text/plain": [
       "ExtraTreesRegressor(n_jobs=-1)"
      ]
     },
     "execution_count": 21,
     "metadata": {},
     "output_type": "execute_result"
    }
   ],
   "source": [
    "from sklearn.ensemble import ExtraTreesRegressor\n",
    "\n",
    "etr = ExtraTreesRegressor(n_jobs=-1)\n",
    "\n",
    "etr.fit(X, y)"
   ]
  },
  {
   "cell_type": "code",
   "execution_count": 22,
   "id": "13df20d9",
   "metadata": {
    "execution": {
     "iopub.execute_input": "2025-02-22T13:37:34.363308Z",
     "iopub.status.busy": "2025-02-22T13:37:34.362941Z",
     "iopub.status.idle": "2025-02-22T13:37:34.367016Z",
     "shell.execute_reply": "2025-02-22T13:37:34.365947Z"
    },
    "papermill": {
     "duration": 0.019859,
     "end_time": "2025-02-22T13:37:34.368771",
     "exception": false,
     "start_time": "2025-02-22T13:37:34.348912",
     "status": "completed"
    },
    "tags": []
   },
   "outputs": [],
   "source": [
    "# mean_squared_error(y_test, etr.predict(X_test))"
   ]
  },
  {
   "cell_type": "markdown",
   "id": "2f1e1ad7",
   "metadata": {
    "papermill": {
     "duration": 0.012626,
     "end_time": "2025-02-22T13:37:34.394535",
     "exception": false,
     "start_time": "2025-02-22T13:37:34.381909",
     "status": "completed"
    },
    "tags": []
   },
   "source": [
    "## Random Forest Regressor"
   ]
  },
  {
   "cell_type": "code",
   "execution_count": 23,
   "id": "5165aab7",
   "metadata": {
    "execution": {
     "iopub.execute_input": "2025-02-22T13:37:34.422706Z",
     "iopub.status.busy": "2025-02-22T13:37:34.422303Z",
     "iopub.status.idle": "2025-02-22T13:37:34.426564Z",
     "shell.execute_reply": "2025-02-22T13:37:34.425408Z"
    },
    "papermill": {
     "duration": 0.020656,
     "end_time": "2025-02-22T13:37:34.428405",
     "exception": false,
     "start_time": "2025-02-22T13:37:34.407749",
     "status": "completed"
    },
    "tags": []
   },
   "outputs": [],
   "source": [
    "# from sklearn.ensemble import RandomForestRegressor\n",
    "\n",
    "# re = RandomForestRegressor(n_jobs=-1)"
   ]
  },
  {
   "cell_type": "code",
   "execution_count": 24,
   "id": "afc75c42",
   "metadata": {
    "execution": {
     "iopub.execute_input": "2025-02-22T13:37:34.457206Z",
     "iopub.status.busy": "2025-02-22T13:37:34.456762Z",
     "iopub.status.idle": "2025-02-22T13:37:34.461255Z",
     "shell.execute_reply": "2025-02-22T13:37:34.460106Z"
    },
    "papermill": {
     "duration": 0.020854,
     "end_time": "2025-02-22T13:37:34.463145",
     "exception": false,
     "start_time": "2025-02-22T13:37:34.442291",
     "status": "completed"
    },
    "tags": []
   },
   "outputs": [],
   "source": [
    "# re.fit(X_train, y_train)"
   ]
  },
  {
   "cell_type": "code",
   "execution_count": 25,
   "id": "d12e4d3f",
   "metadata": {
    "execution": {
     "iopub.execute_input": "2025-02-22T13:37:34.491237Z",
     "iopub.status.busy": "2025-02-22T13:37:34.490838Z",
     "iopub.status.idle": "2025-02-22T13:37:34.494839Z",
     "shell.execute_reply": "2025-02-22T13:37:34.493781Z"
    },
    "papermill": {
     "duration": 0.02007,
     "end_time": "2025-02-22T13:37:34.496605",
     "exception": false,
     "start_time": "2025-02-22T13:37:34.476535",
     "status": "completed"
    },
    "tags": []
   },
   "outputs": [],
   "source": [
    "# mean_squared_error(y_test, re.predict(X_test))"
   ]
  },
  {
   "cell_type": "markdown",
   "id": "91ecd105",
   "metadata": {
    "papermill": {
     "duration": 0.013474,
     "end_time": "2025-02-22T13:37:34.523574",
     "exception": false,
     "start_time": "2025-02-22T13:37:34.510100",
     "status": "completed"
    },
    "tags": []
   },
   "source": [
    "## Neural Network"
   ]
  },
  {
   "cell_type": "code",
   "execution_count": 26,
   "id": "2838a459",
   "metadata": {
    "execution": {
     "iopub.execute_input": "2025-02-22T13:37:34.552243Z",
     "iopub.status.busy": "2025-02-22T13:37:34.551862Z",
     "iopub.status.idle": "2025-02-22T13:37:34.556122Z",
     "shell.execute_reply": "2025-02-22T13:37:34.554946Z"
    },
    "papermill": {
     "duration": 0.020074,
     "end_time": "2025-02-22T13:37:34.557943",
     "exception": false,
     "start_time": "2025-02-22T13:37:34.537869",
     "status": "completed"
    },
    "tags": []
   },
   "outputs": [],
   "source": [
    "# model_NN = Sequential()"
   ]
  },
  {
   "cell_type": "code",
   "execution_count": 27,
   "id": "6f67f2b9",
   "metadata": {
    "execution": {
     "iopub.execute_input": "2025-02-22T13:37:34.585636Z",
     "iopub.status.busy": "2025-02-22T13:37:34.585305Z",
     "iopub.status.idle": "2025-02-22T13:37:34.589194Z",
     "shell.execute_reply": "2025-02-22T13:37:34.588081Z"
    },
    "papermill": {
     "duration": 0.019577,
     "end_time": "2025-02-22T13:37:34.590826",
     "exception": false,
     "start_time": "2025-02-22T13:37:34.571249",
     "status": "completed"
    },
    "tags": []
   },
   "outputs": [],
   "source": [
    "# model_NN.add(Dense(128, kernel_initializer='normal',input_dim = X.shape[1], activation='relu'))\n",
    "\n",
    "# model_NN.add(Dense(256, kernel_initializer='normal',activation='relu'))\n",
    "# model_NN.add(Dense(256, kernel_initializer='normal',activation='relu'))\n",
    "# model_NN.add(Dense(256, kernel_initializer='normal',activation='relu'))\n",
    "\n",
    "# model_NN.add(Dense(1, kernel_initializer='normal',activation='linear'))"
   ]
  },
  {
   "cell_type": "code",
   "execution_count": 28,
   "id": "c546cb9e",
   "metadata": {
    "execution": {
     "iopub.execute_input": "2025-02-22T13:37:34.618463Z",
     "iopub.status.busy": "2025-02-22T13:37:34.618074Z",
     "iopub.status.idle": "2025-02-22T13:37:34.621902Z",
     "shell.execute_reply": "2025-02-22T13:37:34.620820Z"
    },
    "papermill": {
     "duration": 0.019588,
     "end_time": "2025-02-22T13:37:34.623587",
     "exception": false,
     "start_time": "2025-02-22T13:37:34.603999",
     "status": "completed"
    },
    "tags": []
   },
   "outputs": [],
   "source": [
    "# model_NN.compile(loss='mean_squared_error', optimizer='adam', metrics=['mean_squared_error'])\n",
    "# model_NN.summary()"
   ]
  },
  {
   "cell_type": "code",
   "execution_count": 29,
   "id": "e7f7636b",
   "metadata": {
    "execution": {
     "iopub.execute_input": "2025-02-22T13:37:34.651443Z",
     "iopub.status.busy": "2025-02-22T13:37:34.651056Z",
     "iopub.status.idle": "2025-02-22T13:37:34.654912Z",
     "shell.execute_reply": "2025-02-22T13:37:34.653803Z"
    },
    "papermill": {
     "duration": 0.019747,
     "end_time": "2025-02-22T13:37:34.656695",
     "exception": false,
     "start_time": "2025-02-22T13:37:34.636948",
     "status": "completed"
    },
    "tags": []
   },
   "outputs": [],
   "source": [
    "# x_train = np.asarray(X_train).astype('float32')\n",
    "# x_test = np.asarray(X_test).astype('float32')\n",
    "\n",
    "# Y_test = np.asarray(y_test).astype('float32')\n",
    "# Y_train = np.asarray(y_train).astype('float32')\n",
    "\n",
    "# X_ = np.asarray(X).astype('float32')\n",
    "# y_ = np.asarray(y).astype('float32')"
   ]
  },
  {
   "cell_type": "code",
   "execution_count": 30,
   "id": "8ed5e820",
   "metadata": {
    "execution": {
     "iopub.execute_input": "2025-02-22T13:37:34.684390Z",
     "iopub.status.busy": "2025-02-22T13:37:34.683907Z",
     "iopub.status.idle": "2025-02-22T13:37:34.688515Z",
     "shell.execute_reply": "2025-02-22T13:37:34.687487Z"
    },
    "papermill": {
     "duration": 0.020284,
     "end_time": "2025-02-22T13:37:34.690169",
     "exception": false,
     "start_time": "2025-02-22T13:37:34.669885",
     "status": "completed"
    },
    "tags": []
   },
   "outputs": [],
   "source": [
    "# model_NN.fit(X_, y_, epochs=3, validation_split=0.2, shuffle=True)"
   ]
  },
  {
   "cell_type": "markdown",
   "id": "abe1c35c",
   "metadata": {
    "papermill": {
     "duration": 0.012813,
     "end_time": "2025-02-22T13:37:34.716190",
     "exception": false,
     "start_time": "2025-02-22T13:37:34.703377",
     "status": "completed"
    },
    "tags": []
   },
   "source": [
    "## XGBoost"
   ]
  },
  {
   "cell_type": "code",
   "execution_count": 31,
   "id": "15575e95",
   "metadata": {
    "execution": {
     "iopub.execute_input": "2025-02-22T13:37:34.743652Z",
     "iopub.status.busy": "2025-02-22T13:37:34.743273Z",
     "iopub.status.idle": "2025-02-22T13:37:34.750396Z",
     "shell.execute_reply": "2025-02-22T13:37:34.749549Z"
    },
    "papermill": {
     "duration": 0.02268,
     "end_time": "2025-02-22T13:37:34.751954",
     "exception": false,
     "start_time": "2025-02-22T13:37:34.729274",
     "status": "completed"
    },
    "tags": []
   },
   "outputs": [
    {
     "data": {
      "text/plain": [
       "year           int64\n",
       "month          int64\n",
       "day            int64\n",
       "store_nbr      int64\n",
       "family         int64\n",
       "onpromotion    int64\n",
       "city           int64\n",
       "state          int64\n",
       "type           int64\n",
       "cluster        int64\n",
       "dtype: object"
      ]
     },
     "execution_count": 31,
     "metadata": {},
     "output_type": "execute_result"
    }
   ],
   "source": [
    "X.dtypes"
   ]
  },
  {
   "cell_type": "code",
   "execution_count": 32,
   "id": "455d42b5",
   "metadata": {
    "execution": {
     "iopub.execute_input": "2025-02-22T13:37:34.779570Z",
     "iopub.status.busy": "2025-02-22T13:37:34.779218Z",
     "iopub.status.idle": "2025-02-22T13:37:34.783081Z",
     "shell.execute_reply": "2025-02-22T13:37:34.781973Z"
    },
    "papermill": {
     "duration": 0.019485,
     "end_time": "2025-02-22T13:37:34.784656",
     "exception": false,
     "start_time": "2025-02-22T13:37:34.765171",
     "status": "completed"
    },
    "tags": []
   },
   "outputs": [],
   "source": [
    "# model_xgboost = XGBRegressor()\n",
    "\n",
    "# model_xgboost.fit(X, y)"
   ]
  },
  {
   "cell_type": "code",
   "execution_count": 33,
   "id": "f85fcf82",
   "metadata": {
    "execution": {
     "iopub.execute_input": "2025-02-22T13:37:34.812295Z",
     "iopub.status.busy": "2025-02-22T13:37:34.811955Z",
     "iopub.status.idle": "2025-02-22T13:37:34.815819Z",
     "shell.execute_reply": "2025-02-22T13:37:34.814802Z"
    },
    "papermill": {
     "duration": 0.01958,
     "end_time": "2025-02-22T13:37:34.817540",
     "exception": false,
     "start_time": "2025-02-22T13:37:34.797960",
     "status": "completed"
    },
    "tags": []
   },
   "outputs": [],
   "source": [
    "# mean_squared_error(y_test, model_xgboost.predict(X_test))"
   ]
  },
  {
   "cell_type": "markdown",
   "id": "8d0d1f28",
   "metadata": {
    "papermill": {
     "duration": 0.012733,
     "end_time": "2025-02-22T13:37:34.843625",
     "exception": false,
     "start_time": "2025-02-22T13:37:34.830892",
     "status": "completed"
    },
    "tags": []
   },
   "source": [
    "# Using the Extra Tree"
   ]
  },
  {
   "cell_type": "markdown",
   "id": "daa541ee",
   "metadata": {
    "papermill": {
     "duration": 0.014689,
     "end_time": "2025-02-22T13:37:34.871460",
     "exception": false,
     "start_time": "2025-02-22T13:37:34.856771",
     "status": "completed"
    },
    "tags": []
   },
   "source": [
    "This model performs best, in this scenario"
   ]
  },
  {
   "cell_type": "code",
   "execution_count": 34,
   "id": "bb0853e9",
   "metadata": {
    "execution": {
     "iopub.execute_input": "2025-02-22T13:37:34.899166Z",
     "iopub.status.busy": "2025-02-22T13:37:34.898807Z",
     "iopub.status.idle": "2025-02-22T13:37:34.904654Z",
     "shell.execute_reply": "2025-02-22T13:37:34.903571Z"
    },
    "papermill": {
     "duration": 0.021468,
     "end_time": "2025-02-22T13:37:34.906239",
     "exception": false,
     "start_time": "2025-02-22T13:37:34.884771",
     "status": "completed"
    },
    "tags": []
   },
   "outputs": [
    {
     "data": {
      "text/plain": [
       "(28512, 10)"
      ]
     },
     "execution_count": 34,
     "metadata": {},
     "output_type": "execute_result"
    }
   ],
   "source": [
    "df_test.shape"
   ]
  },
  {
   "cell_type": "code",
   "execution_count": 35,
   "id": "675ccae9",
   "metadata": {
    "execution": {
     "iopub.execute_input": "2025-02-22T13:37:34.934398Z",
     "iopub.status.busy": "2025-02-22T13:37:34.934006Z",
     "iopub.status.idle": "2025-02-22T13:37:34.937875Z",
     "shell.execute_reply": "2025-02-22T13:37:34.936611Z"
    },
    "papermill": {
     "duration": 0.019756,
     "end_time": "2025-02-22T13:37:34.939483",
     "exception": false,
     "start_time": "2025-02-22T13:37:34.919727",
     "status": "completed"
    },
    "tags": []
   },
   "outputs": [],
   "source": [
    "# pred = model_NN.predict(np.asarray(df_test).astype('float32'))\n",
    "# pred = pred.flatten()"
   ]
  },
  {
   "cell_type": "code",
   "execution_count": 36,
   "id": "6117848f",
   "metadata": {
    "execution": {
     "iopub.execute_input": "2025-02-22T13:37:34.967588Z",
     "iopub.status.busy": "2025-02-22T13:37:34.967184Z",
     "iopub.status.idle": "2025-02-22T13:37:35.604655Z",
     "shell.execute_reply": "2025-02-22T13:37:35.603533Z"
    },
    "papermill": {
     "duration": 0.653587,
     "end_time": "2025-02-22T13:37:35.606598",
     "exception": false,
     "start_time": "2025-02-22T13:37:34.953011",
     "status": "completed"
    },
    "tags": []
   },
   "outputs": [],
   "source": [
    "pred = etr.predict(df_test)"
   ]
  },
  {
   "cell_type": "code",
   "execution_count": 37,
   "id": "17e9247d",
   "metadata": {
    "execution": {
     "iopub.execute_input": "2025-02-22T13:37:35.635700Z",
     "iopub.status.busy": "2025-02-22T13:37:35.635294Z",
     "iopub.status.idle": "2025-02-22T13:37:35.640509Z",
     "shell.execute_reply": "2025-02-22T13:37:35.639475Z"
    },
    "papermill": {
     "duration": 0.021564,
     "end_time": "2025-02-22T13:37:35.642436",
     "exception": false,
     "start_time": "2025-02-22T13:37:35.620872",
     "status": "completed"
    },
    "tags": []
   },
   "outputs": [],
   "source": [
    "out = pd.DataFrame({'id':id_, 'sales':pred})"
   ]
  },
  {
   "cell_type": "code",
   "execution_count": 38,
   "id": "9d406c4e",
   "metadata": {
    "execution": {
     "iopub.execute_input": "2025-02-22T13:37:35.670546Z",
     "iopub.status.busy": "2025-02-22T13:37:35.670159Z",
     "iopub.status.idle": "2025-02-22T13:37:35.725900Z",
     "shell.execute_reply": "2025-02-22T13:37:35.724611Z"
    },
    "papermill": {
     "duration": 0.071816,
     "end_time": "2025-02-22T13:37:35.727921",
     "exception": false,
     "start_time": "2025-02-22T13:37:35.656105",
     "status": "completed"
    },
    "tags": []
   },
   "outputs": [
    {
     "name": "stdout",
     "output_type": "stream",
     "text": [
      "Submitted\n"
     ]
    }
   ],
   "source": [
    "out.to_csv('submission.csv', index=False)\n",
    "print(\"Submitted\")"
   ]
  },
  {
   "cell_type": "markdown",
   "id": "3bbe9bd3",
   "metadata": {
    "papermill": {
     "duration": 0.012895,
     "end_time": "2025-02-22T13:37:35.754432",
     "exception": false,
     "start_time": "2025-02-22T13:37:35.741537",
     "status": "completed"
    },
    "tags": []
   },
   "source": [
    "# Note"
   ]
  },
  {
   "cell_type": "markdown",
   "id": "a0954b12",
   "metadata": {
    "papermill": {
     "duration": 0.013122,
     "end_time": "2025-02-22T13:37:35.781037",
     "exception": false,
     "start_time": "2025-02-22T13:37:35.767915",
     "status": "completed"
    },
    "tags": []
   },
   "source": [
    "I am learner, so if u find any error and has any kind ot suggestion, please do enliten me.. Thx "
   ]
  }
 ],
 "metadata": {
  "kaggle": {
   "accelerator": "none",
   "dataSources": [
    {
     "databundleVersionId": 2887556,
     "sourceId": 29781,
     "sourceType": "competition"
    }
   ],
   "dockerImageVersionId": 30886,
   "isGpuEnabled": false,
   "isInternetEnabled": true,
   "language": "python",
   "sourceType": "notebook"
  },
  "kernelspec": {
   "display_name": "Python 3",
   "language": "python",
   "name": "python3"
  },
  "language_info": {
   "codemirror_mode": {
    "name": "ipython",
    "version": 3
   },
   "file_extension": ".py",
   "mimetype": "text/x-python",
   "name": "python",
   "nbconvert_exporter": "python",
   "pygments_lexer": "ipython3",
   "version": "3.10.12"
  },
  "papermill": {
   "default_parameters": {},
   "duration": 455.9185,
   "end_time": "2025-02-22T13:37:39.319648",
   "environment_variables": {},
   "exception": null,
   "input_path": "__notebook__.ipynb",
   "output_path": "__notebook__.ipynb",
   "parameters": {},
   "start_time": "2025-02-22T13:30:03.401148",
   "version": "2.6.0"
  }
 },
 "nbformat": 4,
 "nbformat_minor": 5
}
