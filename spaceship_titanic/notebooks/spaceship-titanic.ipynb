{
 "cells": [
  {
   "cell_type": "markdown",
   "id": "cacd83c5",
   "metadata": {
    "papermill": {
     "duration": 0.01496,
     "end_time": "2025-01-31T18:40:25.160215",
     "exception": false,
     "start_time": "2025-01-31T18:40:25.145255",
     "status": "completed"
    },
    "tags": []
   },
   "source": [
    "# Spaceship Titanic Data Analysis and Engineering"
   ]
  },
  {
   "cell_type": "code",
   "execution_count": 1,
   "id": "d86749d9",
   "metadata": {
    "_cell_guid": "b1076dfc-b9ad-4769-8c92-a6c4dae69d19",
    "_uuid": "8f2839f25d086af736a60e9eeb907d3b93b6e0e5",
    "execution": {
     "iopub.execute_input": "2025-01-31T18:40:25.190021Z",
     "iopub.status.busy": "2025-01-31T18:40:25.189627Z",
     "iopub.status.idle": "2025-01-31T18:40:27.868219Z",
     "shell.execute_reply": "2025-01-31T18:40:27.866902Z"
    },
    "papermill": {
     "duration": 2.695597,
     "end_time": "2025-01-31T18:40:27.870203",
     "exception": false,
     "start_time": "2025-01-31T18:40:25.174606",
     "status": "completed"
    },
    "tags": []
   },
   "outputs": [
    {
     "name": "stdout",
     "output_type": "stream",
     "text": [
      "/kaggle/input/spaceship-titanic/sample_submission.csv\n",
      "/kaggle/input/spaceship-titanic/train.csv\n",
      "/kaggle/input/spaceship-titanic/test.csv\n"
     ]
    }
   ],
   "source": [
    "# This Python 3 environment comes with many helpful analytics libraries installed\n",
    "# It is defined by the kaggle/python Docker image: https://github.com/kaggle/docker-python\n",
    "# For example, here's several helpful packages to load\n",
    "\n",
    "import numpy as np # linear algebra\n",
    "import pandas as pd # data processing, CSV file I/O (e.g. pd.read_csv)\n",
    "import seaborn as sns\n",
    "import matplotlib.pyplot as plt\n",
    "import warnings\n",
    "warnings.filterwarnings(\"ignore\")\n",
    "\n",
    "# Input data files are available in the read-only \"../input/\" directory\n",
    "# For example, running this (by clicking run or pressing Shift+Enter) will list all files under the input directory\n",
    "\n",
    "import os\n",
    "for dirname, _, filenames in os.walk('/kaggle/input'):\n",
    "    for filename in filenames:\n",
    "        print(os.path.join(dirname, filename))\n",
    "\n",
    "# You can write up to 20GB to the current directory (/kaggle/working/) that gets preserved as output when you create a version using \"Save & Run All\" \n",
    "# You can also write temporary files to /kaggle/temp/, but they won't be saved outside of the current session"
   ]
  },
  {
   "cell_type": "code",
   "execution_count": 2,
   "id": "01fd7785",
   "metadata": {
    "execution": {
     "iopub.execute_input": "2025-01-31T18:40:27.898981Z",
     "iopub.status.busy": "2025-01-31T18:40:27.898400Z",
     "iopub.status.idle": "2025-01-31T18:40:27.905253Z",
     "shell.execute_reply": "2025-01-31T18:40:27.903951Z"
    },
    "papermill": {
     "duration": 0.02286,
     "end_time": "2025-01-31T18:40:27.906825",
     "exception": false,
     "start_time": "2025-01-31T18:40:27.883965",
     "status": "completed"
    },
    "tags": []
   },
   "outputs": [
    {
     "data": {
      "text/plain": [
       "'0.12.2'"
      ]
     },
     "execution_count": 2,
     "metadata": {},
     "output_type": "execute_result"
    }
   ],
   "source": [
    "sns.__version__"
   ]
  },
  {
   "cell_type": "code",
   "execution_count": 3,
   "id": "644c5ab8",
   "metadata": {
    "execution": {
     "iopub.execute_input": "2025-01-31T18:40:27.935485Z",
     "iopub.status.busy": "2025-01-31T18:40:27.935123Z",
     "iopub.status.idle": "2025-01-31T18:40:28.053714Z",
     "shell.execute_reply": "2025-01-31T18:40:28.052342Z"
    },
    "papermill": {
     "duration": 0.135016,
     "end_time": "2025-01-31T18:40:28.055548",
     "exception": false,
     "start_time": "2025-01-31T18:40:27.920532",
     "status": "completed"
    },
    "tags": []
   },
   "outputs": [
    {
     "data": {
      "text/html": [
       "<div>\n",
       "<style scoped>\n",
       "    .dataframe tbody tr th:only-of-type {\n",
       "        vertical-align: middle;\n",
       "    }\n",
       "\n",
       "    .dataframe tbody tr th {\n",
       "        vertical-align: top;\n",
       "    }\n",
       "\n",
       "    .dataframe thead th {\n",
       "        text-align: right;\n",
       "    }\n",
       "</style>\n",
       "<table border=\"1\" class=\"dataframe\">\n",
       "  <thead>\n",
       "    <tr style=\"text-align: right;\">\n",
       "      <th></th>\n",
       "      <th>PassengerId</th>\n",
       "      <th>HomePlanet</th>\n",
       "      <th>CryoSleep</th>\n",
       "      <th>Cabin</th>\n",
       "      <th>Destination</th>\n",
       "      <th>Age</th>\n",
       "      <th>VIP</th>\n",
       "      <th>RoomService</th>\n",
       "      <th>FoodCourt</th>\n",
       "      <th>ShoppingMall</th>\n",
       "      <th>Spa</th>\n",
       "      <th>VRDeck</th>\n",
       "      <th>Name</th>\n",
       "      <th>Transported</th>\n",
       "    </tr>\n",
       "  </thead>\n",
       "  <tbody>\n",
       "    <tr>\n",
       "      <th>0</th>\n",
       "      <td>0001_01</td>\n",
       "      <td>Europa</td>\n",
       "      <td>False</td>\n",
       "      <td>B/0/P</td>\n",
       "      <td>TRAPPIST-1e</td>\n",
       "      <td>39.0</td>\n",
       "      <td>False</td>\n",
       "      <td>0.0</td>\n",
       "      <td>0.0</td>\n",
       "      <td>0.0</td>\n",
       "      <td>0.0</td>\n",
       "      <td>0.0</td>\n",
       "      <td>Maham Ofracculy</td>\n",
       "      <td>0</td>\n",
       "    </tr>\n",
       "    <tr>\n",
       "      <th>1</th>\n",
       "      <td>0002_01</td>\n",
       "      <td>Earth</td>\n",
       "      <td>False</td>\n",
       "      <td>F/0/S</td>\n",
       "      <td>TRAPPIST-1e</td>\n",
       "      <td>24.0</td>\n",
       "      <td>False</td>\n",
       "      <td>109.0</td>\n",
       "      <td>9.0</td>\n",
       "      <td>25.0</td>\n",
       "      <td>549.0</td>\n",
       "      <td>44.0</td>\n",
       "      <td>Juanna Vines</td>\n",
       "      <td>1</td>\n",
       "    </tr>\n",
       "    <tr>\n",
       "      <th>2</th>\n",
       "      <td>0003_01</td>\n",
       "      <td>Europa</td>\n",
       "      <td>False</td>\n",
       "      <td>A/0/S</td>\n",
       "      <td>TRAPPIST-1e</td>\n",
       "      <td>58.0</td>\n",
       "      <td>True</td>\n",
       "      <td>43.0</td>\n",
       "      <td>3576.0</td>\n",
       "      <td>0.0</td>\n",
       "      <td>6715.0</td>\n",
       "      <td>49.0</td>\n",
       "      <td>Altark Susent</td>\n",
       "      <td>0</td>\n",
       "    </tr>\n",
       "    <tr>\n",
       "      <th>3</th>\n",
       "      <td>0003_02</td>\n",
       "      <td>Europa</td>\n",
       "      <td>False</td>\n",
       "      <td>A/0/S</td>\n",
       "      <td>TRAPPIST-1e</td>\n",
       "      <td>33.0</td>\n",
       "      <td>False</td>\n",
       "      <td>0.0</td>\n",
       "      <td>1283.0</td>\n",
       "      <td>371.0</td>\n",
       "      <td>3329.0</td>\n",
       "      <td>193.0</td>\n",
       "      <td>Solam Susent</td>\n",
       "      <td>0</td>\n",
       "    </tr>\n",
       "    <tr>\n",
       "      <th>4</th>\n",
       "      <td>0004_01</td>\n",
       "      <td>Earth</td>\n",
       "      <td>False</td>\n",
       "      <td>F/1/S</td>\n",
       "      <td>TRAPPIST-1e</td>\n",
       "      <td>16.0</td>\n",
       "      <td>False</td>\n",
       "      <td>303.0</td>\n",
       "      <td>70.0</td>\n",
       "      <td>151.0</td>\n",
       "      <td>565.0</td>\n",
       "      <td>2.0</td>\n",
       "      <td>Willy Santantines</td>\n",
       "      <td>1</td>\n",
       "    </tr>\n",
       "  </tbody>\n",
       "</table>\n",
       "</div>"
      ],
      "text/plain": [
       "  PassengerId HomePlanet CryoSleep  Cabin  Destination   Age    VIP  \\\n",
       "0     0001_01     Europa     False  B/0/P  TRAPPIST-1e  39.0  False   \n",
       "1     0002_01      Earth     False  F/0/S  TRAPPIST-1e  24.0  False   \n",
       "2     0003_01     Europa     False  A/0/S  TRAPPIST-1e  58.0   True   \n",
       "3     0003_02     Europa     False  A/0/S  TRAPPIST-1e  33.0  False   \n",
       "4     0004_01      Earth     False  F/1/S  TRAPPIST-1e  16.0  False   \n",
       "\n",
       "   RoomService  FoodCourt  ShoppingMall     Spa  VRDeck               Name  \\\n",
       "0          0.0        0.0           0.0     0.0     0.0    Maham Ofracculy   \n",
       "1        109.0        9.0          25.0   549.0    44.0       Juanna Vines   \n",
       "2         43.0     3576.0           0.0  6715.0    49.0      Altark Susent   \n",
       "3          0.0     1283.0         371.0  3329.0   193.0       Solam Susent   \n",
       "4        303.0       70.0         151.0   565.0     2.0  Willy Santantines   \n",
       "\n",
       "   Transported  \n",
       "0            0  \n",
       "1            1  \n",
       "2            0  \n",
       "3            0  \n",
       "4            1  "
      ]
     },
     "execution_count": 3,
     "metadata": {},
     "output_type": "execute_result"
    }
   ],
   "source": [
    "train_df = pd.read_csv(\"/kaggle/input/spaceship-titanic/train.csv\")\n",
    "test_df = pd.read_csv(\"/kaggle/input/spaceship-titanic/test.csv\")\n",
    "PID = test_df.PassengerId\n",
    "train_df['Transported'] = train_df['Transported'].astype(int)\n",
    "train_df.head(5)"
   ]
  },
  {
   "cell_type": "markdown",
   "id": "b1fc9509",
   "metadata": {
    "papermill": {
     "duration": 0.013327,
     "end_time": "2025-01-31T18:40:28.083220",
     "exception": false,
     "start_time": "2025-01-31T18:40:28.069893",
     "status": "completed"
    },
    "tags": []
   },
   "source": [
    "## __PassengerId__\n",
    "\n",
    "---\n",
    "\n",
    "A unique Id for each passenger. Each Id takes the form gggg_pp where gggg indicates a group the passenger is travelling with and pp is their number within the group. People in a group are often family members, but not always.\n",
    "\n",
    "---"
   ]
  },
  {
   "cell_type": "code",
   "execution_count": 4,
   "id": "33164750",
   "metadata": {
    "execution": {
     "iopub.execute_input": "2025-01-31T18:40:28.111478Z",
     "iopub.status.busy": "2025-01-31T18:40:28.111113Z",
     "iopub.status.idle": "2025-01-31T18:40:28.158140Z",
     "shell.execute_reply": "2025-01-31T18:40:28.156985Z"
    },
    "papermill": {
     "duration": 0.0635,
     "end_time": "2025-01-31T18:40:28.160153",
     "exception": false,
     "start_time": "2025-01-31T18:40:28.096653",
     "status": "completed"
    },
    "tags": []
   },
   "outputs": [],
   "source": [
    "train_df['Group'] = (train_df['PassengerId'].str.split('_', expand=True)[0])\n",
    "counts = train_df['Group'].value_counts()\n",
    "train_df['Alone'] = (train_df['Group'].map(counts) == 1).astype(int)\n",
    "train_df.head(5)\n",
    "\n",
    "\n",
    "test_df['Group'] = (test_df['PassengerId'].str.split('_', expand=True)[0])\n",
    "counts = test_df['Group'].value_counts()\n",
    "test_df['Alone'] = (test_df['Group'].map(counts) == 1).astype(int)"
   ]
  },
  {
   "cell_type": "code",
   "execution_count": 5,
   "id": "c3547ac5",
   "metadata": {
    "execution": {
     "iopub.execute_input": "2025-01-31T18:40:28.189013Z",
     "iopub.status.busy": "2025-01-31T18:40:28.188608Z",
     "iopub.status.idle": "2025-01-31T18:40:28.463774Z",
     "shell.execute_reply": "2025-01-31T18:40:28.462620Z"
    },
    "papermill": {
     "duration": 0.291618,
     "end_time": "2025-01-31T18:40:28.465591",
     "exception": false,
     "start_time": "2025-01-31T18:40:28.173973",
     "status": "completed"
    },
    "tags": []
   },
   "outputs": [
    {
     "data": {
      "text/plain": [
       "<Axes: xlabel='Alone', ylabel='count'>"
      ]
     },
     "execution_count": 5,
     "metadata": {},
     "output_type": "execute_result"
    },
    {
     "data": {
      "image/png": "[encoded data removed]",
      "text/plain": [
       "<Figure size 640x480 with 1 Axes>"
      ]
     },
     "metadata": {},
     "output_type": "display_data"
    }
   ],
   "source": [
    "sns.countplot(x='Alone', data=train_df, hue='Transported', palette='coolwarm')"
   ]
  },
  {
   "cell_type": "code",
   "execution_count": 6,
   "id": "f8d38753",
   "metadata": {
    "execution": {
     "iopub.execute_input": "2025-01-31T18:40:28.495727Z",
     "iopub.status.busy": "2025-01-31T18:40:28.495344Z",
     "iopub.status.idle": "2025-01-31T18:40:28.507075Z",
     "shell.execute_reply": "2025-01-31T18:40:28.506084Z"
    },
    "papermill": {
     "duration": 0.028732,
     "end_time": "2025-01-31T18:40:28.508857",
     "exception": false,
     "start_time": "2025-01-31T18:40:28.480125",
     "status": "completed"
    },
    "tags": []
   },
   "outputs": [
    {
     "data": {
      "text/html": [
       "<div>\n",
       "<style scoped>\n",
       "    .dataframe tbody tr th:only-of-type {\n",
       "        vertical-align: middle;\n",
       "    }\n",
       "\n",
       "    .dataframe tbody tr th {\n",
       "        vertical-align: top;\n",
       "    }\n",
       "\n",
       "    .dataframe thead th {\n",
       "        text-align: right;\n",
       "    }\n",
       "</style>\n",
       "<table border=\"1\" class=\"dataframe\">\n",
       "  <thead>\n",
       "    <tr style=\"text-align: right;\">\n",
       "      <th></th>\n",
       "      <th>Alone</th>\n",
       "      <th>Transported</th>\n",
       "      <th>count</th>\n",
       "    </tr>\n",
       "  </thead>\n",
       "  <tbody>\n",
       "    <tr>\n",
       "      <th>0</th>\n",
       "      <td>0</td>\n",
       "      <td>0</td>\n",
       "      <td>1684</td>\n",
       "    </tr>\n",
       "    <tr>\n",
       "      <th>1</th>\n",
       "      <td>0</td>\n",
       "      <td>1</td>\n",
       "      <td>2204</td>\n",
       "    </tr>\n",
       "    <tr>\n",
       "      <th>2</th>\n",
       "      <td>1</td>\n",
       "      <td>0</td>\n",
       "      <td>2631</td>\n",
       "    </tr>\n",
       "    <tr>\n",
       "      <th>3</th>\n",
       "      <td>1</td>\n",
       "      <td>1</td>\n",
       "      <td>2174</td>\n",
       "    </tr>\n",
       "  </tbody>\n",
       "</table>\n",
       "</div>"
      ],
      "text/plain": [
       "   Alone  Transported  count\n",
       "0      0            0   1684\n",
       "1      0            1   2204\n",
       "2      1            0   2631\n",
       "3      1            1   2174"
      ]
     },
     "execution_count": 6,
     "metadata": {},
     "output_type": "execute_result"
    }
   ],
   "source": [
    "count_data = train_df.groupby(['Alone', 'Transported']).size().reset_index(name='count')\n",
    "count_data"
   ]
  },
  {
   "cell_type": "code",
   "execution_count": 7,
   "id": "fdddfab9",
   "metadata": {
    "execution": {
     "iopub.execute_input": "2025-01-31T18:40:28.538981Z",
     "iopub.status.busy": "2025-01-31T18:40:28.538602Z",
     "iopub.status.idle": "2025-01-31T18:40:28.544049Z",
     "shell.execute_reply": "2025-01-31T18:40:28.542792Z"
    },
    "papermill": {
     "duration": 0.022502,
     "end_time": "2025-01-31T18:40:28.545917",
     "exception": false,
     "start_time": "2025-01-31T18:40:28.523415",
     "status": "completed"
    },
    "tags": []
   },
   "outputs": [
    {
     "name": "stdout",
     "output_type": "stream",
     "text": [
      "Precent of alone those survived  : 0.4521630615640599\n",
      "Precent of alone killed          : 0.5472129783693843\n",
      "Precent of family those survived : 0.5668724279835391\n",
      "Precent of family killed         : 0.4331275720164609\n"
     ]
    }
   ],
   "source": [
    "total_family = 1684 + 2204\n",
    "total_alone = 2631 + 2177\n",
    "\n",
    "print(f'Precent of alone those survived  : {2174/total_alone}')\n",
    "print(f'Precent of alone killed          : {2631/total_alone}')\n",
    "print(f'Precent of family those survived : {2204/total_family}')\n",
    "print(f'Precent of family killed         : {1684/total_family}')"
   ]
  },
  {
   "cell_type": "markdown",
   "id": "ca63a697",
   "metadata": {
    "papermill": {
     "duration": 0.014034,
     "end_time": "2025-01-31T18:40:28.574335",
     "exception": false,
     "start_time": "2025-01-31T18:40:28.560301",
     "status": "completed"
    },
    "tags": []
   },
   "source": [
    "> *Being alone! lessens your survival rate*"
   ]
  },
  {
   "cell_type": "markdown",
   "id": "e6da76ec",
   "metadata": {
    "papermill": {
     "duration": 0.013852,
     "end_time": "2025-01-31T18:40:28.602628",
     "exception": false,
     "start_time": "2025-01-31T18:40:28.588776",
     "status": "completed"
    },
    "tags": []
   },
   "source": [
    "## __HomePlanet__\n",
    "---\n",
    "\n",
    "The planet the passenger departed from, typically their planet of permanent residence.\n",
    "\n",
    "---"
   ]
  },
  {
   "cell_type": "code",
   "execution_count": 8,
   "id": "6a696b7a",
   "metadata": {
    "execution": {
     "iopub.execute_input": "2025-01-31T18:40:28.632165Z",
     "iopub.status.busy": "2025-01-31T18:40:28.631786Z",
     "iopub.status.idle": "2025-01-31T18:40:28.640899Z",
     "shell.execute_reply": "2025-01-31T18:40:28.639835Z"
    },
    "papermill": {
     "duration": 0.025815,
     "end_time": "2025-01-31T18:40:28.642578",
     "exception": false,
     "start_time": "2025-01-31T18:40:28.616763",
     "status": "completed"
    },
    "tags": []
   },
   "outputs": [
    {
     "name": "stdout",
     "output_type": "stream",
     "text": [
      "['Europa' 'Earth' 'Mars' nan]\n",
      "HomePlanet\n",
      "Earth     4602\n",
      "Europa    2131\n",
      "Mars      1759\n",
      "Name: count, dtype: int64\n",
      "201\n"
     ]
    }
   ],
   "source": [
    "print(train_df['HomePlanet'].unique())\n",
    "print(train_df['HomePlanet'].value_counts())\n",
    "print(train_df.HomePlanet.isna().sum())"
   ]
  },
  {
   "cell_type": "code",
   "execution_count": 9,
   "id": "81d42818",
   "metadata": {
    "execution": {
     "iopub.execute_input": "2025-01-31T18:40:28.672702Z",
     "iopub.status.busy": "2025-01-31T18:40:28.672313Z",
     "iopub.status.idle": "2025-01-31T18:40:28.882698Z",
     "shell.execute_reply": "2025-01-31T18:40:28.881558Z"
    },
    "papermill": {
     "duration": 0.227403,
     "end_time": "2025-01-31T18:40:28.884456",
     "exception": false,
     "start_time": "2025-01-31T18:40:28.657053",
     "status": "completed"
    },
    "tags": []
   },
   "outputs": [
    {
     "data": {
      "text/plain": [
       "<Axes: xlabel='HomePlanet', ylabel='count'>"
      ]
     },
     "execution_count": 9,
     "metadata": {},
     "output_type": "execute_result"
    },
    {
     "data": {
      "image/png": "[encoded data removed]",
      "text/plain": [
       "<Figure size 640x480 with 1 Axes>"
      ]
     },
     "metadata": {},
     "output_type": "display_data"
    }
   ],
   "source": [
    "train_df['HomePlanet'] = train_df['HomePlanet'].fillna('UKN')\n",
    "test_df['HomePlanet'] = test_df['HomePlanet'].fillna('UKN')\n",
    "sns.countplot(data=train_df, x='HomePlanet', hue='Transported', palette='coolwarm')"
   ]
  },
  {
   "cell_type": "code",
   "execution_count": 10,
   "id": "239453c4",
   "metadata": {
    "execution": {
     "iopub.execute_input": "2025-01-31T18:40:28.916683Z",
     "iopub.status.busy": "2025-01-31T18:40:28.916291Z",
     "iopub.status.idle": "2025-01-31T18:40:28.928641Z",
     "shell.execute_reply": "2025-01-31T18:40:28.927632Z"
    },
    "papermill": {
     "duration": 0.030412,
     "end_time": "2025-01-31T18:40:28.930725",
     "exception": false,
     "start_time": "2025-01-31T18:40:28.900313",
     "status": "completed"
    },
    "tags": []
   },
   "outputs": [
    {
     "data": {
      "text/html": [
       "<div>\n",
       "<style scoped>\n",
       "    .dataframe tbody tr th:only-of-type {\n",
       "        vertical-align: middle;\n",
       "    }\n",
       "\n",
       "    .dataframe tbody tr th {\n",
       "        vertical-align: top;\n",
       "    }\n",
       "\n",
       "    .dataframe thead th {\n",
       "        text-align: right;\n",
       "    }\n",
       "</style>\n",
       "<table border=\"1\" class=\"dataframe\">\n",
       "  <thead>\n",
       "    <tr style=\"text-align: right;\">\n",
       "      <th></th>\n",
       "      <th>HomePlanet</th>\n",
       "      <th>Transported</th>\n",
       "      <th>count</th>\n",
       "    </tr>\n",
       "  </thead>\n",
       "  <tbody>\n",
       "    <tr>\n",
       "      <th>0</th>\n",
       "      <td>Earth</td>\n",
       "      <td>0</td>\n",
       "      <td>2651</td>\n",
       "    </tr>\n",
       "    <tr>\n",
       "      <th>1</th>\n",
       "      <td>Earth</td>\n",
       "      <td>1</td>\n",
       "      <td>1951</td>\n",
       "    </tr>\n",
       "    <tr>\n",
       "      <th>2</th>\n",
       "      <td>Europa</td>\n",
       "      <td>0</td>\n",
       "      <td>727</td>\n",
       "    </tr>\n",
       "    <tr>\n",
       "      <th>3</th>\n",
       "      <td>Europa</td>\n",
       "      <td>1</td>\n",
       "      <td>1404</td>\n",
       "    </tr>\n",
       "    <tr>\n",
       "      <th>4</th>\n",
       "      <td>Mars</td>\n",
       "      <td>0</td>\n",
       "      <td>839</td>\n",
       "    </tr>\n",
       "    <tr>\n",
       "      <th>5</th>\n",
       "      <td>Mars</td>\n",
       "      <td>1</td>\n",
       "      <td>920</td>\n",
       "    </tr>\n",
       "    <tr>\n",
       "      <th>6</th>\n",
       "      <td>UKN</td>\n",
       "      <td>0</td>\n",
       "      <td>98</td>\n",
       "    </tr>\n",
       "    <tr>\n",
       "      <th>7</th>\n",
       "      <td>UKN</td>\n",
       "      <td>1</td>\n",
       "      <td>103</td>\n",
       "    </tr>\n",
       "  </tbody>\n",
       "</table>\n",
       "</div>"
      ],
      "text/plain": [
       "  HomePlanet  Transported  count\n",
       "0      Earth            0   2651\n",
       "1      Earth            1   1951\n",
       "2     Europa            0    727\n",
       "3     Europa            1   1404\n",
       "4       Mars            0    839\n",
       "5       Mars            1    920\n",
       "6        UKN            0     98\n",
       "7        UKN            1    103"
      ]
     },
     "execution_count": 10,
     "metadata": {},
     "output_type": "execute_result"
    }
   ],
   "source": [
    "train_df.groupby(['HomePlanet', 'Transported']).size().reset_index(name='count')"
   ]
  },
  {
   "cell_type": "markdown",
   "id": "075e387b",
   "metadata": {
    "papermill": {
     "duration": 0.014985,
     "end_time": "2025-01-31T18:40:28.962124",
     "exception": false,
     "start_time": "2025-01-31T18:40:28.947139",
     "status": "completed"
    },
    "tags": []
   },
   "source": [
    "## CryoSleep\n",
    "---\n",
    "\n",
    "Indicates whether the passenger elected to be put into suspended animation for the duration of the \n",
    "voyage. Passengers in cryosleep are confined to their cabins.\n",
    "\n",
    "---"
   ]
  },
  {
   "cell_type": "code",
   "execution_count": 11,
   "id": "6fbf594e",
   "metadata": {
    "execution": {
     "iopub.execute_input": "2025-01-31T18:40:28.994784Z",
     "iopub.status.busy": "2025-01-31T18:40:28.994376Z",
     "iopub.status.idle": "2025-01-31T18:40:29.002093Z",
     "shell.execute_reply": "2025-01-31T18:40:29.001086Z"
    },
    "papermill": {
     "duration": 0.025609,
     "end_time": "2025-01-31T18:40:29.003787",
     "exception": false,
     "start_time": "2025-01-31T18:40:28.978178",
     "status": "completed"
    },
    "tags": []
   },
   "outputs": [],
   "source": [
    "train_df.CryoSleep = train_df.CryoSleep.fillna(True)\n",
    "test_df.CryoSleep = test_df.CryoSleep.fillna(True)"
   ]
  },
  {
   "cell_type": "code",
   "execution_count": 12,
   "id": "ca4be382",
   "metadata": {
    "execution": {
     "iopub.execute_input": "2025-01-31T18:40:29.036657Z",
     "iopub.status.busy": "2025-01-31T18:40:29.036317Z",
     "iopub.status.idle": "2025-01-31T18:40:29.226171Z",
     "shell.execute_reply": "2025-01-31T18:40:29.225175Z"
    },
    "papermill": {
     "duration": 0.20893,
     "end_time": "2025-01-31T18:40:29.227900",
     "exception": false,
     "start_time": "2025-01-31T18:40:29.018970",
     "status": "completed"
    },
    "tags": []
   },
   "outputs": [
    {
     "data": {
      "text/plain": [
       "<Axes: xlabel='CryoSleep', ylabel='count'>"
      ]
     },
     "execution_count": 12,
     "metadata": {},
     "output_type": "execute_result"
    },
    {
     "data": {
      "image/png": "[encoded data removed]",
      "text/plain": [
       "<Figure size 640x480 with 1 Axes>"
      ]
     },
     "metadata": {},
     "output_type": "display_data"
    }
   ],
   "source": [
    "sns.countplot(data=train_df, x='CryoSleep', hue='Transported', palette='coolwarm')"
   ]
  },
  {
   "cell_type": "code",
   "execution_count": 13,
   "id": "d22b816c",
   "metadata": {
    "execution": {
     "iopub.execute_input": "2025-01-31T18:40:29.260244Z",
     "iopub.status.busy": "2025-01-31T18:40:29.259913Z",
     "iopub.status.idle": "2025-01-31T18:40:29.271512Z",
     "shell.execute_reply": "2025-01-31T18:40:29.270485Z"
    },
    "papermill": {
     "duration": 0.029897,
     "end_time": "2025-01-31T18:40:29.273340",
     "exception": false,
     "start_time": "2025-01-31T18:40:29.243443",
     "status": "completed"
    },
    "tags": []
   },
   "outputs": [
    {
     "data": {
      "text/html": [
       "<div>\n",
       "<style scoped>\n",
       "    .dataframe tbody tr th:only-of-type {\n",
       "        vertical-align: middle;\n",
       "    }\n",
       "\n",
       "    .dataframe tbody tr th {\n",
       "        vertical-align: top;\n",
       "    }\n",
       "\n",
       "    .dataframe thead th {\n",
       "        text-align: right;\n",
       "    }\n",
       "</style>\n",
       "<table border=\"1\" class=\"dataframe\">\n",
       "  <thead>\n",
       "    <tr style=\"text-align: right;\">\n",
       "      <th></th>\n",
       "      <th>CryoSleep</th>\n",
       "      <th>Transported</th>\n",
       "      <th>count</th>\n",
       "    </tr>\n",
       "  </thead>\n",
       "  <tbody>\n",
       "    <tr>\n",
       "      <th>0</th>\n",
       "      <td>False</td>\n",
       "      <td>0</td>\n",
       "      <td>3650</td>\n",
       "    </tr>\n",
       "    <tr>\n",
       "      <th>1</th>\n",
       "      <td>False</td>\n",
       "      <td>1</td>\n",
       "      <td>1789</td>\n",
       "    </tr>\n",
       "    <tr>\n",
       "      <th>2</th>\n",
       "      <td>True</td>\n",
       "      <td>0</td>\n",
       "      <td>665</td>\n",
       "    </tr>\n",
       "    <tr>\n",
       "      <th>3</th>\n",
       "      <td>True</td>\n",
       "      <td>1</td>\n",
       "      <td>2589</td>\n",
       "    </tr>\n",
       "  </tbody>\n",
       "</table>\n",
       "</div>"
      ],
      "text/plain": [
       "   CryoSleep  Transported  count\n",
       "0      False            0   3650\n",
       "1      False            1   1789\n",
       "2       True            0    665\n",
       "3       True            1   2589"
      ]
     },
     "execution_count": 13,
     "metadata": {},
     "output_type": "execute_result"
    }
   ],
   "source": [
    "train_df.groupby(['CryoSleep', 'Transported']).size().reset_index(name='count')"
   ]
  },
  {
   "cell_type": "markdown",
   "id": "dcfb7e73",
   "metadata": {
    "papermill": {
     "duration": 0.015073,
     "end_time": "2025-01-31T18:40:29.304401",
     "exception": false,
     "start_time": "2025-01-31T18:40:29.289328",
     "status": "completed"
    },
    "tags": []
   },
   "source": [
    "| CryoSleep | Transported | count |\n",
    "|-----------|-------------|-------|\n",
    "| 0         | 0           | 3650  |\n",
    "| 0         | 1           | 1789  |\n",
    "| 1         | 0           | 554   |\n",
    "| 1         | 1           | 2483  |\n",
    "\n",
    "\n",
    "So, *81%* percent survived, those who were in the cryospleep"
   ]
  },
  {
   "cell_type": "code",
   "execution_count": 14,
   "id": "09434ab9",
   "metadata": {
    "execution": {
     "iopub.execute_input": "2025-01-31T18:40:29.336503Z",
     "iopub.status.busy": "2025-01-31T18:40:29.336192Z",
     "iopub.status.idle": "2025-01-31T18:40:29.341183Z",
     "shell.execute_reply": "2025-01-31T18:40:29.340230Z"
    },
    "papermill": {
     "duration": 0.022758,
     "end_time": "2025-01-31T18:40:29.342726",
     "exception": false,
     "start_time": "2025-01-31T18:40:29.319968",
     "status": "completed"
    },
    "tags": []
   },
   "outputs": [],
   "source": [
    "train_df.CryoSleep = train_df.CryoSleep.astype(int)\n",
    "test_df.CryoSleep = test_df.CryoSleep.astype(int)"
   ]
  },
  {
   "cell_type": "markdown",
   "id": "467f4b14",
   "metadata": {
    "papermill": {
     "duration": 0.015709,
     "end_time": "2025-01-31T18:40:29.374155",
     "exception": false,
     "start_time": "2025-01-31T18:40:29.358446",
     "status": "completed"
    },
    "tags": []
   },
   "source": [
    "## Cabin\n",
    "---\n",
    "\n",
    "The cabin number where the passenger is staying. Takes the form deck/num/side, where side can be either P for Port or S for Starboard.\n",
    "\n",
    "---"
   ]
  },
  {
   "cell_type": "code",
   "execution_count": 15,
   "id": "745c5464",
   "metadata": {
    "execution": {
     "iopub.execute_input": "2025-01-31T18:40:29.406623Z",
     "iopub.status.busy": "2025-01-31T18:40:29.406265Z",
     "iopub.status.idle": "2025-01-31T18:40:29.413154Z",
     "shell.execute_reply": "2025-01-31T18:40:29.412367Z"
    },
    "papermill": {
     "duration": 0.024747,
     "end_time": "2025-01-31T18:40:29.414649",
     "exception": false,
     "start_time": "2025-01-31T18:40:29.389902",
     "status": "completed"
    },
    "tags": []
   },
   "outputs": [],
   "source": [
    "train_df['Cabin'] = train_df['Cabin'].fillna('UKN/-1/UKN')\n",
    "test_df['Cabin'] = test_df['Cabin'].fillna('UKN/-1/UKN')"
   ]
  },
  {
   "cell_type": "code",
   "execution_count": 16,
   "id": "953c8a02",
   "metadata": {
    "execution": {
     "iopub.execute_input": "2025-01-31T18:40:29.447843Z",
     "iopub.status.busy": "2025-01-31T18:40:29.447481Z",
     "iopub.status.idle": "2025-01-31T18:40:29.573284Z",
     "shell.execute_reply": "2025-01-31T18:40:29.572217Z"
    },
    "papermill": {
     "duration": 0.144446,
     "end_time": "2025-01-31T18:40:29.575062",
     "exception": false,
     "start_time": "2025-01-31T18:40:29.430616",
     "status": "completed"
    },
    "tags": []
   },
   "outputs": [
    {
     "data": {
      "text/html": [
       "<div>\n",
       "<style scoped>\n",
       "    .dataframe tbody tr th:only-of-type {\n",
       "        vertical-align: middle;\n",
       "    }\n",
       "\n",
       "    .dataframe tbody tr th {\n",
       "        vertical-align: top;\n",
       "    }\n",
       "\n",
       "    .dataframe thead th {\n",
       "        text-align: right;\n",
       "    }\n",
       "</style>\n",
       "<table border=\"1\" class=\"dataframe\">\n",
       "  <thead>\n",
       "    <tr style=\"text-align: right;\">\n",
       "      <th></th>\n",
       "      <th>PassengerId</th>\n",
       "      <th>HomePlanet</th>\n",
       "      <th>CryoSleep</th>\n",
       "      <th>Cabin</th>\n",
       "      <th>Destination</th>\n",
       "      <th>Age</th>\n",
       "      <th>VIP</th>\n",
       "      <th>RoomService</th>\n",
       "      <th>FoodCourt</th>\n",
       "      <th>ShoppingMall</th>\n",
       "      <th>Spa</th>\n",
       "      <th>VRDeck</th>\n",
       "      <th>Name</th>\n",
       "      <th>Transported</th>\n",
       "      <th>Group</th>\n",
       "      <th>Alone</th>\n",
       "      <th>Deck</th>\n",
       "      <th>CNum</th>\n",
       "      <th>Side</th>\n",
       "    </tr>\n",
       "  </thead>\n",
       "  <tbody>\n",
       "    <tr>\n",
       "      <th>0</th>\n",
       "      <td>0001_01</td>\n",
       "      <td>Europa</td>\n",
       "      <td>0</td>\n",
       "      <td>B/0/P</td>\n",
       "      <td>TRAPPIST-1e</td>\n",
       "      <td>39.0</td>\n",
       "      <td>False</td>\n",
       "      <td>0.0</td>\n",
       "      <td>0.0</td>\n",
       "      <td>0.0</td>\n",
       "      <td>0.0</td>\n",
       "      <td>0.0</td>\n",
       "      <td>Maham Ofracculy</td>\n",
       "      <td>0</td>\n",
       "      <td>0001</td>\n",
       "      <td>1</td>\n",
       "      <td>B</td>\n",
       "      <td>0</td>\n",
       "      <td>P</td>\n",
       "    </tr>\n",
       "    <tr>\n",
       "      <th>1</th>\n",
       "      <td>0002_01</td>\n",
       "      <td>Earth</td>\n",
       "      <td>0</td>\n",
       "      <td>F/0/S</td>\n",
       "      <td>TRAPPIST-1e</td>\n",
       "      <td>24.0</td>\n",
       "      <td>False</td>\n",
       "      <td>109.0</td>\n",
       "      <td>9.0</td>\n",
       "      <td>25.0</td>\n",
       "      <td>549.0</td>\n",
       "      <td>44.0</td>\n",
       "      <td>Juanna Vines</td>\n",
       "      <td>1</td>\n",
       "      <td>0002</td>\n",
       "      <td>1</td>\n",
       "      <td>F</td>\n",
       "      <td>0</td>\n",
       "      <td>S</td>\n",
       "    </tr>\n",
       "    <tr>\n",
       "      <th>2</th>\n",
       "      <td>0003_01</td>\n",
       "      <td>Europa</td>\n",
       "      <td>0</td>\n",
       "      <td>A/0/S</td>\n",
       "      <td>TRAPPIST-1e</td>\n",
       "      <td>58.0</td>\n",
       "      <td>True</td>\n",
       "      <td>43.0</td>\n",
       "      <td>3576.0</td>\n",
       "      <td>0.0</td>\n",
       "      <td>6715.0</td>\n",
       "      <td>49.0</td>\n",
       "      <td>Altark Susent</td>\n",
       "      <td>0</td>\n",
       "      <td>0003</td>\n",
       "      <td>0</td>\n",
       "      <td>A</td>\n",
       "      <td>0</td>\n",
       "      <td>S</td>\n",
       "    </tr>\n",
       "    <tr>\n",
       "      <th>3</th>\n",
       "      <td>0003_02</td>\n",
       "      <td>Europa</td>\n",
       "      <td>0</td>\n",
       "      <td>A/0/S</td>\n",
       "      <td>TRAPPIST-1e</td>\n",
       "      <td>33.0</td>\n",
       "      <td>False</td>\n",
       "      <td>0.0</td>\n",
       "      <td>1283.0</td>\n",
       "      <td>371.0</td>\n",
       "      <td>3329.0</td>\n",
       "      <td>193.0</td>\n",
       "      <td>Solam Susent</td>\n",
       "      <td>0</td>\n",
       "      <td>0003</td>\n",
       "      <td>0</td>\n",
       "      <td>A</td>\n",
       "      <td>0</td>\n",
       "      <td>S</td>\n",
       "    </tr>\n",
       "    <tr>\n",
       "      <th>4</th>\n",
       "      <td>0004_01</td>\n",
       "      <td>Earth</td>\n",
       "      <td>0</td>\n",
       "      <td>F/1/S</td>\n",
       "      <td>TRAPPIST-1e</td>\n",
       "      <td>16.0</td>\n",
       "      <td>False</td>\n",
       "      <td>303.0</td>\n",
       "      <td>70.0</td>\n",
       "      <td>151.0</td>\n",
       "      <td>565.0</td>\n",
       "      <td>2.0</td>\n",
       "      <td>Willy Santantines</td>\n",
       "      <td>1</td>\n",
       "      <td>0004</td>\n",
       "      <td>1</td>\n",
       "      <td>F</td>\n",
       "      <td>1</td>\n",
       "      <td>S</td>\n",
       "    </tr>\n",
       "  </tbody>\n",
       "</table>\n",
       "</div>"
      ],
      "text/plain": [
       "  PassengerId HomePlanet  CryoSleep  Cabin  Destination   Age    VIP  \\\n",
       "0     0001_01     Europa          0  B/0/P  TRAPPIST-1e  39.0  False   \n",
       "1     0002_01      Earth          0  F/0/S  TRAPPIST-1e  24.0  False   \n",
       "2     0003_01     Europa          0  A/0/S  TRAPPIST-1e  58.0   True   \n",
       "3     0003_02     Europa          0  A/0/S  TRAPPIST-1e  33.0  False   \n",
       "4     0004_01      Earth          0  F/1/S  TRAPPIST-1e  16.0  False   \n",
       "\n",
       "   RoomService  FoodCourt  ShoppingMall     Spa  VRDeck               Name  \\\n",
       "0          0.0        0.0           0.0     0.0     0.0    Maham Ofracculy   \n",
       "1        109.0        9.0          25.0   549.0    44.0       Juanna Vines   \n",
       "2         43.0     3576.0           0.0  6715.0    49.0      Altark Susent   \n",
       "3          0.0     1283.0         371.0  3329.0   193.0       Solam Susent   \n",
       "4        303.0       70.0         151.0   565.0     2.0  Willy Santantines   \n",
       "\n",
       "   Transported Group  Alone Deck CNum Side  \n",
       "0            0  0001      1    B    0    P  \n",
       "1            1  0002      1    F    0    S  \n",
       "2            0  0003      0    A    0    S  \n",
       "3            0  0003      0    A    0    S  \n",
       "4            1  0004      1    F    1    S  "
      ]
     },
     "execution_count": 16,
     "metadata": {},
     "output_type": "execute_result"
    }
   ],
   "source": [
    "train_df[['Deck', 'CNum', 'Side']] = train_df['Cabin'].str.split('/', expand=True)\n",
    "test_df[['Deck', 'CNum', 'Side']] = test_df['Cabin'].str.split('/', expand=True)\n",
    "train_df.head(5)"
   ]
  },
  {
   "cell_type": "code",
   "execution_count": 17,
   "id": "f0dec512",
   "metadata": {
    "execution": {
     "iopub.execute_input": "2025-01-31T18:40:29.610085Z",
     "iopub.status.busy": "2025-01-31T18:40:29.609712Z",
     "iopub.status.idle": "2025-01-31T18:40:30.069720Z",
     "shell.execute_reply": "2025-01-31T18:40:30.068780Z"
    },
    "papermill": {
     "duration": 0.479101,
     "end_time": "2025-01-31T18:40:30.071554",
     "exception": false,
     "start_time": "2025-01-31T18:40:29.592453",
     "status": "completed"
    },
    "tags": []
   },
   "outputs": [
    {
     "data": {
      "image/png": "[encoded data removed]",
      "text/plain": [
       "<Figure size 1000x1000 with 2 Axes>"
      ]
     },
     "metadata": {},
     "output_type": "display_data"
    }
   ],
   "source": [
    "fig, ax = plt.subplots(2, 1, figsize=(10, 10))\n",
    "\n",
    "sns.countplot(data=train_df, x='Deck', hue='Transported', palette='coolwarm', ax=ax[0])\n",
    "sns.countplot(data=train_df, x='Side', hue='Transported', palette='coolwarm', ax=ax[1])\n",
    "\n",
    "plt.tight_layout()\n",
    "plt.show()"
   ]
  },
  {
   "cell_type": "code",
   "execution_count": 18,
   "id": "87b7c92a",
   "metadata": {
    "execution": {
     "iopub.execute_input": "2025-01-31T18:40:30.106539Z",
     "iopub.status.busy": "2025-01-31T18:40:30.106173Z",
     "iopub.status.idle": "2025-01-31T18:40:30.117000Z",
     "shell.execute_reply": "2025-01-31T18:40:30.116201Z"
    },
    "papermill": {
     "duration": 0.029763,
     "end_time": "2025-01-31T18:40:30.118571",
     "exception": false,
     "start_time": "2025-01-31T18:40:30.088808",
     "status": "completed"
    },
    "tags": []
   },
   "outputs": [],
   "source": [
    "deck = train_df.groupby(['Deck', 'Transported']).size().reset_index(name='count')\n",
    "side = train_df.groupby(['Side', 'Transported']).size().reset_index(name='count')"
   ]
  },
  {
   "cell_type": "markdown",
   "id": "4580e6aa",
   "metadata": {
    "papermill": {
     "duration": 0.017253,
     "end_time": "2025-01-31T18:40:30.152772",
     "exception": false,
     "start_time": "2025-01-31T18:40:30.135519",
     "status": "completed"
    },
    "tags": []
   },
   "source": [
    "| Side | Transported | count |\n",
    "|------|-------------|-------|\n",
    "| P    | 0           | 2308  |\n",
    "| P    | 1           | 1898  |\n",
    "| S    | 0           | 1908  |\n",
    "| S    | 1           | 2380  |\n",
    "| UKN  | 0           | 99    |\n",
    "| UKN  | 1           | 100   |\n",
    "\n",
    "\n",
    "Hmmm.... *\"S\"* side people survived more that the P ones"
   ]
  },
  {
   "cell_type": "code",
   "execution_count": 19,
   "id": "fb2e33de",
   "metadata": {
    "execution": {
     "iopub.execute_input": "2025-01-31T18:40:30.207837Z",
     "iopub.status.busy": "2025-01-31T18:40:30.207101Z",
     "iopub.status.idle": "2025-01-31T18:40:30.498073Z",
     "shell.execute_reply": "2025-01-31T18:40:30.496952Z"
    },
    "papermill": {
     "duration": 0.319911,
     "end_time": "2025-01-31T18:40:30.499866",
     "exception": false,
     "start_time": "2025-01-31T18:40:30.179955",
     "status": "completed"
    },
    "tags": []
   },
   "outputs": [
    {
     "data": {
      "image/png": "[encoded data removed]",
      "text/plain": [
       "<Figure size 800x600 with 1 Axes>"
      ]
     },
     "metadata": {},
     "output_type": "display_data"
    }
   ],
   "source": [
    "fig, ax = plt.subplots(figsize=(8, 6))\n",
    "\n",
    "sns.barplot(x='Side', y='count', hue='Transported', data=side, ax=ax, palette='coolwarm')\n",
    "\n",
    "total = side['count'].sum()\n",
    "for p in ax.patches:\n",
    "    height = p.get_height()\n",
    "    width = p.get_width()\n",
    "    x = p.get_x() + width / 2\n",
    "    percentage = height / total * 100\n",
    "    ax.annotate(f'{percentage:.1f}%', (x, height), ha='center', va='center', fontsize=12, color='black', xytext=(0, 5), textcoords='offset points')\n",
    "\n",
    "plt.title('Survival Rate Comparison (Side P vs Side S)')\n",
    "plt.tight_layout()\n",
    "plt.show()"
   ]
  },
  {
   "cell_type": "markdown",
   "id": "74336c30",
   "metadata": {
    "papermill": {
     "duration": 0.017008,
     "end_time": "2025-01-31T18:40:30.534478",
     "exception": false,
     "start_time": "2025-01-31T18:40:30.517470",
     "status": "completed"
    },
    "tags": []
   },
   "source": [
    "| Deck | Transported | count |\n",
    "|------|-------------|-------|\n",
    "| A    | 0           | 129   |\n",
    "| A    | 1           | 127   |\n",
    "| B    | 0           | 207   |\n",
    "| B    | 1           | 572   |\n",
    "| C    | 0           | 239   |\n",
    "| C    | 1           | 508   |\n",
    "| D    | 0           | 271   |\n",
    "| D    | 1           | 207   |\n",
    "| E    | 0           | 563   |\n",
    "| E    | 1           | 313   |\n",
    "| F    | 0           | 1565  |\n",
    "| F    | 1           | 1229  |\n",
    "| G    | 0           | 1238  |\n",
    "| G    | 1           | 1321  |\n",
    "| T    | 0           | 4     |\n",
    "| T    | 1           | 1     |\n",
    "| UKN  | 0           | 99    |\n",
    "| UKN  | 1           | 100   |\n",
    "\n",
    "\n",
    "\n",
    "__F__ survived the most"
   ]
  },
  {
   "cell_type": "code",
   "execution_count": 20,
   "id": "7dc042fb",
   "metadata": {
    "execution": {
     "iopub.execute_input": "2025-01-31T18:40:30.570397Z",
     "iopub.status.busy": "2025-01-31T18:40:30.570040Z",
     "iopub.status.idle": "2025-01-31T18:40:30.982599Z",
     "shell.execute_reply": "2025-01-31T18:40:30.981624Z"
    },
    "papermill": {
     "duration": 0.43265,
     "end_time": "2025-01-31T18:40:30.984346",
     "exception": false,
     "start_time": "2025-01-31T18:40:30.551696",
     "status": "completed"
    },
    "tags": []
   },
   "outputs": [
    {
     "data": {
      "image/png": "[encoded data removed]",
      "text/plain": [
       "<Figure size 800x600 with 1 Axes>"
      ]
     },
     "metadata": {},
     "output_type": "display_data"
    }
   ],
   "source": [
    "fig, ax = plt.subplots(figsize=(8, 6))\n",
    "\n",
    "sns.barplot(x='Deck', y='count', hue='Transported', data=deck, ax=ax, palette='coolwarm')\n",
    "\n",
    "total = side['count'].sum()\n",
    "for p in ax.patches:\n",
    "    height = p.get_height()\n",
    "    width = p.get_width()\n",
    "    x = p.get_x() + width / 2\n",
    "    percentage = height / total * 100\n",
    "    ax.annotate(f'{percentage:.1f}', (x, height), ha='center', va='center', fontsize=10, color='black', xytext=(1, 6), textcoords='offset points')\n",
    "\n",
    "plt.title('Survival Rate Comparison (in Decks)')\n",
    "plt.tight_layout()\n",
    "plt.show()"
   ]
  },
  {
   "cell_type": "code",
   "execution_count": 21,
   "id": "efb2bb92",
   "metadata": {
    "execution": {
     "iopub.execute_input": "2025-01-31T18:40:31.024039Z",
     "iopub.status.busy": "2025-01-31T18:40:31.023636Z",
     "iopub.status.idle": "2025-01-31T18:40:31.030439Z",
     "shell.execute_reply": "2025-01-31T18:40:31.029455Z"
    },
    "papermill": {
     "duration": 0.028711,
     "end_time": "2025-01-31T18:40:31.032018",
     "exception": false,
     "start_time": "2025-01-31T18:40:31.003307",
     "status": "completed"
    },
    "tags": []
   },
   "outputs": [],
   "source": [
    "train_df['CNum'] = train_df['CNum'].astype(int)\n",
    "test_df['CNum'] = test_df['CNum'].astype(int)"
   ]
  },
  {
   "cell_type": "markdown",
   "id": "ee6701ef",
   "metadata": {
    "papermill": {
     "duration": 0.01789,
     "end_time": "2025-01-31T18:40:31.069604",
     "exception": false,
     "start_time": "2025-01-31T18:40:31.051714",
     "status": "completed"
    },
    "tags": []
   },
   "source": [
    "## Destination\n",
    "---\n",
    "\n",
    "The planet the passenger will be debarking to.\n",
    "\n",
    "---"
   ]
  },
  {
   "cell_type": "code",
   "execution_count": 22,
   "id": "e9d087c6",
   "metadata": {
    "execution": {
     "iopub.execute_input": "2025-01-31T18:40:31.107331Z",
     "iopub.status.busy": "2025-01-31T18:40:31.106959Z",
     "iopub.status.idle": "2025-01-31T18:40:31.128658Z",
     "shell.execute_reply": "2025-01-31T18:40:31.127629Z"
    },
    "papermill": {
     "duration": 0.042426,
     "end_time": "2025-01-31T18:40:31.130270",
     "exception": false,
     "start_time": "2025-01-31T18:40:31.087844",
     "status": "completed"
    },
    "tags": []
   },
   "outputs": [
    {
     "data": {
      "text/html": [
       "<div>\n",
       "<style scoped>\n",
       "    .dataframe tbody tr th:only-of-type {\n",
       "        vertical-align: middle;\n",
       "    }\n",
       "\n",
       "    .dataframe tbody tr th {\n",
       "        vertical-align: top;\n",
       "    }\n",
       "\n",
       "    .dataframe thead th {\n",
       "        text-align: right;\n",
       "    }\n",
       "</style>\n",
       "<table border=\"1\" class=\"dataframe\">\n",
       "  <thead>\n",
       "    <tr style=\"text-align: right;\">\n",
       "      <th></th>\n",
       "      <th>PassengerId</th>\n",
       "      <th>HomePlanet</th>\n",
       "      <th>CryoSleep</th>\n",
       "      <th>Cabin</th>\n",
       "      <th>Destination</th>\n",
       "      <th>Age</th>\n",
       "      <th>VIP</th>\n",
       "      <th>RoomService</th>\n",
       "      <th>FoodCourt</th>\n",
       "      <th>ShoppingMall</th>\n",
       "      <th>Spa</th>\n",
       "      <th>VRDeck</th>\n",
       "      <th>Name</th>\n",
       "      <th>Transported</th>\n",
       "      <th>Group</th>\n",
       "      <th>Alone</th>\n",
       "      <th>Deck</th>\n",
       "      <th>CNum</th>\n",
       "      <th>Side</th>\n",
       "    </tr>\n",
       "  </thead>\n",
       "  <tbody>\n",
       "    <tr>\n",
       "      <th>0</th>\n",
       "      <td>0001_01</td>\n",
       "      <td>Europa</td>\n",
       "      <td>0</td>\n",
       "      <td>B/0/P</td>\n",
       "      <td>TRAPPIST-1e</td>\n",
       "      <td>39.0</td>\n",
       "      <td>False</td>\n",
       "      <td>0.0</td>\n",
       "      <td>0.0</td>\n",
       "      <td>0.0</td>\n",
       "      <td>0.0</td>\n",
       "      <td>0.0</td>\n",
       "      <td>Maham Ofracculy</td>\n",
       "      <td>0</td>\n",
       "      <td>0001</td>\n",
       "      <td>1</td>\n",
       "      <td>B</td>\n",
       "      <td>0</td>\n",
       "      <td>P</td>\n",
       "    </tr>\n",
       "    <tr>\n",
       "      <th>1</th>\n",
       "      <td>0002_01</td>\n",
       "      <td>Earth</td>\n",
       "      <td>0</td>\n",
       "      <td>F/0/S</td>\n",
       "      <td>TRAPPIST-1e</td>\n",
       "      <td>24.0</td>\n",
       "      <td>False</td>\n",
       "      <td>109.0</td>\n",
       "      <td>9.0</td>\n",
       "      <td>25.0</td>\n",
       "      <td>549.0</td>\n",
       "      <td>44.0</td>\n",
       "      <td>Juanna Vines</td>\n",
       "      <td>1</td>\n",
       "      <td>0002</td>\n",
       "      <td>1</td>\n",
       "      <td>F</td>\n",
       "      <td>0</td>\n",
       "      <td>S</td>\n",
       "    </tr>\n",
       "    <tr>\n",
       "      <th>2</th>\n",
       "      <td>0003_01</td>\n",
       "      <td>Europa</td>\n",
       "      <td>0</td>\n",
       "      <td>A/0/S</td>\n",
       "      <td>TRAPPIST-1e</td>\n",
       "      <td>58.0</td>\n",
       "      <td>True</td>\n",
       "      <td>43.0</td>\n",
       "      <td>3576.0</td>\n",
       "      <td>0.0</td>\n",
       "      <td>6715.0</td>\n",
       "      <td>49.0</td>\n",
       "      <td>Altark Susent</td>\n",
       "      <td>0</td>\n",
       "      <td>0003</td>\n",
       "      <td>0</td>\n",
       "      <td>A</td>\n",
       "      <td>0</td>\n",
       "      <td>S</td>\n",
       "    </tr>\n",
       "    <tr>\n",
       "      <th>3</th>\n",
       "      <td>0003_02</td>\n",
       "      <td>Europa</td>\n",
       "      <td>0</td>\n",
       "      <td>A/0/S</td>\n",
       "      <td>TRAPPIST-1e</td>\n",
       "      <td>33.0</td>\n",
       "      <td>False</td>\n",
       "      <td>0.0</td>\n",
       "      <td>1283.0</td>\n",
       "      <td>371.0</td>\n",
       "      <td>3329.0</td>\n",
       "      <td>193.0</td>\n",
       "      <td>Solam Susent</td>\n",
       "      <td>0</td>\n",
       "      <td>0003</td>\n",
       "      <td>0</td>\n",
       "      <td>A</td>\n",
       "      <td>0</td>\n",
       "      <td>S</td>\n",
       "    </tr>\n",
       "    <tr>\n",
       "      <th>4</th>\n",
       "      <td>0004_01</td>\n",
       "      <td>Earth</td>\n",
       "      <td>0</td>\n",
       "      <td>F/1/S</td>\n",
       "      <td>TRAPPIST-1e</td>\n",
       "      <td>16.0</td>\n",
       "      <td>False</td>\n",
       "      <td>303.0</td>\n",
       "      <td>70.0</td>\n",
       "      <td>151.0</td>\n",
       "      <td>565.0</td>\n",
       "      <td>2.0</td>\n",
       "      <td>Willy Santantines</td>\n",
       "      <td>1</td>\n",
       "      <td>0004</td>\n",
       "      <td>1</td>\n",
       "      <td>F</td>\n",
       "      <td>1</td>\n",
       "      <td>S</td>\n",
       "    </tr>\n",
       "  </tbody>\n",
       "</table>\n",
       "</div>"
      ],
      "text/plain": [
       "  PassengerId HomePlanet  CryoSleep  Cabin  Destination   Age    VIP  \\\n",
       "0     0001_01     Europa          0  B/0/P  TRAPPIST-1e  39.0  False   \n",
       "1     0002_01      Earth          0  F/0/S  TRAPPIST-1e  24.0  False   \n",
       "2     0003_01     Europa          0  A/0/S  TRAPPIST-1e  58.0   True   \n",
       "3     0003_02     Europa          0  A/0/S  TRAPPIST-1e  33.0  False   \n",
       "4     0004_01      Earth          0  F/1/S  TRAPPIST-1e  16.0  False   \n",
       "\n",
       "   RoomService  FoodCourt  ShoppingMall     Spa  VRDeck               Name  \\\n",
       "0          0.0        0.0           0.0     0.0     0.0    Maham Ofracculy   \n",
       "1        109.0        9.0          25.0   549.0    44.0       Juanna Vines   \n",
       "2         43.0     3576.0           0.0  6715.0    49.0      Altark Susent   \n",
       "3          0.0     1283.0         371.0  3329.0   193.0       Solam Susent   \n",
       "4        303.0       70.0         151.0   565.0     2.0  Willy Santantines   \n",
       "\n",
       "   Transported Group  Alone Deck  CNum Side  \n",
       "0            0  0001      1    B     0    P  \n",
       "1            1  0002      1    F     0    S  \n",
       "2            0  0003      0    A     0    S  \n",
       "3            0  0003      0    A     0    S  \n",
       "4            1  0004      1    F     1    S  "
      ]
     },
     "execution_count": 22,
     "metadata": {},
     "output_type": "execute_result"
    }
   ],
   "source": [
    "train_df.Destination = train_df['Destination'].fillna('UKN')\n",
    "test_df.Destination = test_df['Destination'].fillna('UKN')\n",
    "train_df.head()"
   ]
  },
  {
   "cell_type": "code",
   "execution_count": 23,
   "id": "d3b9d9d5",
   "metadata": {
    "execution": {
     "iopub.execute_input": "2025-01-31T18:40:31.168321Z",
     "iopub.status.busy": "2025-01-31T18:40:31.167998Z",
     "iopub.status.idle": "2025-01-31T18:40:31.175705Z",
     "shell.execute_reply": "2025-01-31T18:40:31.174829Z"
    },
    "papermill": {
     "duration": 0.028666,
     "end_time": "2025-01-31T18:40:31.177521",
     "exception": false,
     "start_time": "2025-01-31T18:40:31.148855",
     "status": "completed"
    },
    "tags": []
   },
   "outputs": [],
   "source": [
    "dest = train_df.groupby(['Destination', 'Transported']).size().reset_index(name='count')"
   ]
  },
  {
   "cell_type": "code",
   "execution_count": 24,
   "id": "a6567399",
   "metadata": {
    "execution": {
     "iopub.execute_input": "2025-01-31T18:40:31.216807Z",
     "iopub.status.busy": "2025-01-31T18:40:31.216374Z",
     "iopub.status.idle": "2025-01-31T18:40:31.510765Z",
     "shell.execute_reply": "2025-01-31T18:40:31.509784Z"
    },
    "papermill": {
     "duration": 0.315681,
     "end_time": "2025-01-31T18:40:31.512401",
     "exception": false,
     "start_time": "2025-01-31T18:40:31.196720",
     "status": "completed"
    },
    "tags": []
   },
   "outputs": [
    {
     "data": {
      "image/png": "[encoded data removed]",
      "text/plain": [
       "<Figure size 800x600 with 1 Axes>"
      ]
     },
     "metadata": {},
     "output_type": "display_data"
    }
   ],
   "source": [
    "fig, ax = plt.subplots(figsize=(8, 6))\n",
    "\n",
    "sns.barplot(x='Destination', y='count', hue='Transported', data=dest, ax=ax, palette='coolwarm')\n",
    "\n",
    "total = side['count'].sum()\n",
    "for p in ax.patches:\n",
    "    height = p.get_height()\n",
    "    width = p.get_width()\n",
    "    x = p.get_x() + width / 2\n",
    "    percentage = height / total * 100\n",
    "    ax.annotate(f'{percentage:.1f}%', (x, height), ha='center', va='center', fontsize=12, color='black', xytext=(0, 5), textcoords='offset points')\n",
    "\n",
    "plt.title('Destination')\n",
    "plt.tight_layout()\n",
    "plt.show()"
   ]
  },
  {
   "cell_type": "markdown",
   "id": "c3aaa1e0",
   "metadata": {
    "papermill": {
     "duration": 0.020448,
     "end_time": "2025-01-31T18:40:31.552723",
     "exception": false,
     "start_time": "2025-01-31T18:40:31.532275",
     "status": "completed"
    },
    "tags": []
   },
   "source": [
    "## Age\n",
    "---\n",
    "The age of the passenger\n",
    "\n",
    "---"
   ]
  },
  {
   "cell_type": "code",
   "execution_count": 25,
   "id": "eecc1d7d",
   "metadata": {
    "execution": {
     "iopub.execute_input": "2025-01-31T18:40:31.595172Z",
     "iopub.status.busy": "2025-01-31T18:40:31.594791Z",
     "iopub.status.idle": "2025-01-31T18:40:31.601819Z",
     "shell.execute_reply": "2025-01-31T18:40:31.600826Z"
    },
    "papermill": {
     "duration": 0.030154,
     "end_time": "2025-01-31T18:40:31.603351",
     "exception": false,
     "start_time": "2025-01-31T18:40:31.573197",
     "status": "completed"
    },
    "tags": []
   },
   "outputs": [],
   "source": [
    "mean = int(train_df.Age.mean())\n",
    "train_df.Age = train_df.Age.fillna(mean)\n",
    "test_df.Age = test_df.Age.fillna(mean)"
   ]
  },
  {
   "cell_type": "code",
   "execution_count": 26,
   "id": "ca672c4a",
   "metadata": {
    "execution": {
     "iopub.execute_input": "2025-01-31T18:40:31.702026Z",
     "iopub.status.busy": "2025-01-31T18:40:31.701646Z",
     "iopub.status.idle": "2025-01-31T18:40:31.992023Z",
     "shell.execute_reply": "2025-01-31T18:40:31.990874Z"
    },
    "papermill": {
     "duration": 0.314448,
     "end_time": "2025-01-31T18:40:31.993702",
     "exception": false,
     "start_time": "2025-01-31T18:40:31.679254",
     "status": "completed"
    },
    "tags": []
   },
   "outputs": [
    {
     "data": {
      "text/plain": [
       "<Axes: xlabel='Age', ylabel='Density'>"
      ]
     },
     "execution_count": 26,
     "metadata": {},
     "output_type": "execute_result"
    },
    {
     "data": {
      "image/png": "[encoded data removed]",
      "text/plain": [
       "<Figure size 640x480 with 1 Axes>"
      ]
     },
     "metadata": {},
     "output_type": "display_data"
    }
   ],
   "source": [
    "sns.kdeplot(data=train_df, x='Age', hue='Transported', fill=True, alpha=0.5)"
   ]
  },
  {
   "cell_type": "markdown",
   "id": "43aca131",
   "metadata": {
    "papermill": {
     "duration": 0.022506,
     "end_time": "2025-01-31T18:40:32.038605",
     "exception": false,
     "start_time": "2025-01-31T18:40:32.016099",
     "status": "completed"
    },
    "tags": []
   },
   "source": [
    "Most of the population was at the young age. Lets dig a bit deeper"
   ]
  },
  {
   "cell_type": "code",
   "execution_count": 27,
   "id": "2b458154",
   "metadata": {
    "execution": {
     "iopub.execute_input": "2025-01-31T18:40:32.084097Z",
     "iopub.status.busy": "2025-01-31T18:40:32.083689Z",
     "iopub.status.idle": "2025-01-31T18:40:32.093401Z",
     "shell.execute_reply": "2025-01-31T18:40:32.092460Z"
    },
    "papermill": {
     "duration": 0.034119,
     "end_time": "2025-01-31T18:40:32.095056",
     "exception": false,
     "start_time": "2025-01-31T18:40:32.060937",
     "status": "completed"
    },
    "tags": []
   },
   "outputs": [
    {
     "data": {
      "text/plain": [
       "count    8693.000000\n",
       "mean       28.810882\n",
       "std        14.339536\n",
       "min         0.000000\n",
       "25%        20.000000\n",
       "50%        27.000000\n",
       "75%        37.000000\n",
       "max        79.000000\n",
       "Name: Age, dtype: float64"
      ]
     },
     "execution_count": 27,
     "metadata": {},
     "output_type": "execute_result"
    }
   ],
   "source": [
    "train_df.Age.describe()"
   ]
  },
  {
   "cell_type": "markdown",
   "id": "771e0509",
   "metadata": {
    "papermill": {
     "duration": 0.021756,
     "end_time": "2025-01-31T18:40:32.138754",
     "exception": false,
     "start_time": "2025-01-31T18:40:32.116998",
     "status": "completed"
    },
    "tags": []
   },
   "source": [
    "And how tf there is zero age"
   ]
  },
  {
   "cell_type": "code",
   "execution_count": 28,
   "id": "021e34c4",
   "metadata": {
    "execution": {
     "iopub.execute_input": "2025-01-31T18:40:32.184146Z",
     "iopub.status.busy": "2025-01-31T18:40:32.183764Z",
     "iopub.status.idle": "2025-01-31T18:40:32.194192Z",
     "shell.execute_reply": "2025-01-31T18:40:32.193288Z"
    },
    "papermill": {
     "duration": 0.035056,
     "end_time": "2025-01-31T18:40:32.196003",
     "exception": false,
     "start_time": "2025-01-31T18:40:32.160947",
     "status": "completed"
    },
    "tags": []
   },
   "outputs": [],
   "source": [
    "bins = [0, 10, 20, 30, 40, 50, 60, 70, 80]\n",
    "labels = ['0-10', '11-20', '21-30', '31-40', '41-50', '51-60', '61-70', '71-80']\n",
    "train_df['AgeGrouping'] = pd.cut(train_df['Age'], bins=bins, labels=labels, right=False)\n",
    "test_df['AgeGrouping'] = pd.cut(test_df['Age'], bins=bins, labels=labels, right=False)"
   ]
  },
  {
   "cell_type": "code",
   "execution_count": 29,
   "id": "69433f06",
   "metadata": {
    "execution": {
     "iopub.execute_input": "2025-01-31T18:40:32.241004Z",
     "iopub.status.busy": "2025-01-31T18:40:32.240607Z",
     "iopub.status.idle": "2025-01-31T18:40:32.633150Z",
     "shell.execute_reply": "2025-01-31T18:40:32.632140Z"
    },
    "papermill": {
     "duration": 0.416585,
     "end_time": "2025-01-31T18:40:32.634639",
     "exception": false,
     "start_time": "2025-01-31T18:40:32.218054",
     "status": "completed"
    },
    "tags": []
   },
   "outputs": [
    {
     "data": {
      "image/png": "[encoded data removed]",
      "text/plain": [
       "<Figure size 800x600 with 1 Axes>"
      ]
     },
     "metadata": {},
     "output_type": "display_data"
    }
   ],
   "source": [
    "age_grouping_count = train_df.groupby(['AgeGrouping', 'Transported']).size().reset_index(name='count')\n",
    "\n",
    "fig, ax = plt.subplots(figsize=(8, 6))\n",
    "\n",
    "sns.barplot(x='AgeGrouping', y='count', hue='Transported', data=age_grouping_count, ax=ax, palette='coolwarm')\n",
    "\n",
    "total = side['count'].sum()\n",
    "for p in ax.patches:\n",
    "    height = p.get_height()\n",
    "    width = p.get_width()\n",
    "    x = p.get_x() + width / 2\n",
    "    percentage = height / total * 100\n",
    "    ax.annotate(f'{percentage:.1f}%', (x, height), ha='center', va='center', fontsize=8, color='black', xytext=(2, 5), textcoords='offset points')\n",
    "\n",
    "plt.title('Age Grouping')\n",
    "plt.tight_layout()\n",
    "plt.show()"
   ]
  },
  {
   "cell_type": "markdown",
   "id": "1500cefa",
   "metadata": {
    "papermill": {
     "duration": 0.022427,
     "end_time": "2025-01-31T18:40:32.680467",
     "exception": false,
     "start_time": "2025-01-31T18:40:32.658040",
     "status": "completed"
    },
    "tags": []
   },
   "source": [
    "## VIP\n",
    "---\n",
    "\n",
    "Whether the passenger has paid for special VIP service during the voyage.\n",
    "\n",
    "---"
   ]
  },
  {
   "cell_type": "code",
   "execution_count": 30,
   "id": "c001222b",
   "metadata": {
    "execution": {
     "iopub.execute_input": "2025-01-31T18:40:32.728198Z",
     "iopub.status.busy": "2025-01-31T18:40:32.727838Z",
     "iopub.status.idle": "2025-01-31T18:40:32.938070Z",
     "shell.execute_reply": "2025-01-31T18:40:32.936948Z"
    },
    "papermill": {
     "duration": 0.235983,
     "end_time": "2025-01-31T18:40:32.940023",
     "exception": false,
     "start_time": "2025-01-31T18:40:32.704040",
     "status": "completed"
    },
    "tags": []
   },
   "outputs": [
    {
     "data": {
      "text/plain": [
       "<Axes: xlabel='VIP', ylabel='count'>"
      ]
     },
     "execution_count": 30,
     "metadata": {},
     "output_type": "execute_result"
    },
    {
     "data": {
      "image/png": "[encoded data removed]",
      "text/plain": [
       "<Figure size 640x480 with 1 Axes>"
      ]
     },
     "metadata": {},
     "output_type": "display_data"
    }
   ],
   "source": [
    "sns.countplot(data=train_df, hue=\"Transported\",x=\"VIP\", palette=\"coolwarm\")"
   ]
  },
  {
   "cell_type": "code",
   "execution_count": 31,
   "id": "430ec1e2",
   "metadata": {
    "execution": {
     "iopub.execute_input": "2025-01-31T18:40:32.989305Z",
     "iopub.status.busy": "2025-01-31T18:40:32.988976Z",
     "iopub.status.idle": "2025-01-31T18:40:33.001798Z",
     "shell.execute_reply": "2025-01-31T18:40:33.000603Z"
    },
    "papermill": {
     "duration": 0.039525,
     "end_time": "2025-01-31T18:40:33.003503",
     "exception": false,
     "start_time": "2025-01-31T18:40:32.963978",
     "status": "completed"
    },
    "tags": []
   },
   "outputs": [
    {
     "data": {
      "text/html": [
       "<div>\n",
       "<style scoped>\n",
       "    .dataframe tbody tr th:only-of-type {\n",
       "        vertical-align: middle;\n",
       "    }\n",
       "\n",
       "    .dataframe tbody tr th {\n",
       "        vertical-align: top;\n",
       "    }\n",
       "\n",
       "    .dataframe thead th {\n",
       "        text-align: right;\n",
       "    }\n",
       "</style>\n",
       "<table border=\"1\" class=\"dataframe\">\n",
       "  <thead>\n",
       "    <tr style=\"text-align: right;\">\n",
       "      <th></th>\n",
       "      <th>VIP</th>\n",
       "      <th>Transported</th>\n",
       "      <th>count</th>\n",
       "    </tr>\n",
       "  </thead>\n",
       "  <tbody>\n",
       "    <tr>\n",
       "      <th>0</th>\n",
       "      <td>False</td>\n",
       "      <td>0</td>\n",
       "      <td>4093</td>\n",
       "    </tr>\n",
       "    <tr>\n",
       "      <th>1</th>\n",
       "      <td>False</td>\n",
       "      <td>1</td>\n",
       "      <td>4198</td>\n",
       "    </tr>\n",
       "    <tr>\n",
       "      <th>2</th>\n",
       "      <td>True</td>\n",
       "      <td>0</td>\n",
       "      <td>123</td>\n",
       "    </tr>\n",
       "    <tr>\n",
       "      <th>3</th>\n",
       "      <td>True</td>\n",
       "      <td>1</td>\n",
       "      <td>76</td>\n",
       "    </tr>\n",
       "  </tbody>\n",
       "</table>\n",
       "</div>"
      ],
      "text/plain": [
       "     VIP  Transported  count\n",
       "0  False            0   4093\n",
       "1  False            1   4198\n",
       "2   True            0    123\n",
       "3   True            1     76"
      ]
     },
     "execution_count": 31,
     "metadata": {},
     "output_type": "execute_result"
    }
   ],
   "source": [
    "vip = train_df.groupby(['VIP', 'Transported']).size().reset_index(name='count')\n",
    "vip"
   ]
  },
  {
   "cell_type": "markdown",
   "id": "eb8e38fc",
   "metadata": {
    "papermill": {
     "duration": 0.02496,
     "end_time": "2025-01-31T18:40:33.052958",
     "exception": false,
     "start_time": "2025-01-31T18:40:33.027998",
     "status": "completed"
    },
    "tags": []
   },
   "source": [
    "SO paying more ain't gonna save u?"
   ]
  },
  {
   "cell_type": "code",
   "execution_count": 32,
   "id": "a39f3ac1",
   "metadata": {
    "execution": {
     "iopub.execute_input": "2025-01-31T18:40:33.101297Z",
     "iopub.status.busy": "2025-01-31T18:40:33.100950Z",
     "iopub.status.idle": "2025-01-31T18:40:33.110014Z",
     "shell.execute_reply": "2025-01-31T18:40:33.108935Z"
    },
    "papermill": {
     "duration": 0.035379,
     "end_time": "2025-01-31T18:40:33.111847",
     "exception": false,
     "start_time": "2025-01-31T18:40:33.076468",
     "status": "completed"
    },
    "tags": []
   },
   "outputs": [],
   "source": [
    "train_df.VIP = train_df.VIP.fillna(False)\n",
    "test_df.VIP = test_df.VIP.fillna(False)\n",
    "\n",
    "train_df.VIP = (train_df.VIP).astype(int)\n",
    "test_df.VIP = (test_df.VIP).astype(int)"
   ]
  },
  {
   "cell_type": "markdown",
   "id": "49025f6d",
   "metadata": {
    "papermill": {
     "duration": 0.02386,
     "end_time": "2025-01-31T18:40:33.160163",
     "exception": false,
     "start_time": "2025-01-31T18:40:33.136303",
     "status": "completed"
    },
    "tags": []
   },
   "source": [
    "## RoomService, FoodCourt, ShoppingMall, Spa, VRDeck\n",
    "---\n",
    "\n",
    "Amount the passenger has billed at each of the Spaceship Titanic's many luxury amenities.\n",
    "\n",
    "---"
   ]
  },
  {
   "cell_type": "code",
   "execution_count": 33,
   "id": "4c69344a",
   "metadata": {
    "execution": {
     "iopub.execute_input": "2025-01-31T18:40:33.208951Z",
     "iopub.status.busy": "2025-01-31T18:40:33.208562Z",
     "iopub.status.idle": "2025-01-31T18:40:33.240641Z",
     "shell.execute_reply": "2025-01-31T18:40:33.239642Z"
    },
    "papermill": {
     "duration": 0.058379,
     "end_time": "2025-01-31T18:40:33.242302",
     "exception": false,
     "start_time": "2025-01-31T18:40:33.183923",
     "status": "completed"
    },
    "tags": []
   },
   "outputs": [
    {
     "data": {
      "text/html": [
       "<div>\n",
       "<style scoped>\n",
       "    .dataframe tbody tr th:only-of-type {\n",
       "        vertical-align: middle;\n",
       "    }\n",
       "\n",
       "    .dataframe tbody tr th {\n",
       "        vertical-align: top;\n",
       "    }\n",
       "\n",
       "    .dataframe thead th {\n",
       "        text-align: right;\n",
       "    }\n",
       "</style>\n",
       "<table border=\"1\" class=\"dataframe\">\n",
       "  <thead>\n",
       "    <tr style=\"text-align: right;\">\n",
       "      <th></th>\n",
       "      <th>PassengerId</th>\n",
       "      <th>HomePlanet</th>\n",
       "      <th>CryoSleep</th>\n",
       "      <th>Cabin</th>\n",
       "      <th>Destination</th>\n",
       "      <th>Age</th>\n",
       "      <th>VIP</th>\n",
       "      <th>RoomService</th>\n",
       "      <th>FoodCourt</th>\n",
       "      <th>ShoppingMall</th>\n",
       "      <th>...</th>\n",
       "      <th>VRDeck</th>\n",
       "      <th>Name</th>\n",
       "      <th>Transported</th>\n",
       "      <th>Group</th>\n",
       "      <th>Alone</th>\n",
       "      <th>Deck</th>\n",
       "      <th>CNum</th>\n",
       "      <th>Side</th>\n",
       "      <th>AgeGrouping</th>\n",
       "      <th>TSpend</th>\n",
       "    </tr>\n",
       "  </thead>\n",
       "  <tbody>\n",
       "    <tr>\n",
       "      <th>0</th>\n",
       "      <td>0001_01</td>\n",
       "      <td>Europa</td>\n",
       "      <td>0</td>\n",
       "      <td>B/0/P</td>\n",
       "      <td>TRAPPIST-1e</td>\n",
       "      <td>39.0</td>\n",
       "      <td>0</td>\n",
       "      <td>0.0</td>\n",
       "      <td>0.0</td>\n",
       "      <td>0.0</td>\n",
       "      <td>...</td>\n",
       "      <td>0.0</td>\n",
       "      <td>Maham Ofracculy</td>\n",
       "      <td>0</td>\n",
       "      <td>0001</td>\n",
       "      <td>1</td>\n",
       "      <td>B</td>\n",
       "      <td>0</td>\n",
       "      <td>P</td>\n",
       "      <td>31-40</td>\n",
       "      <td>0.0</td>\n",
       "    </tr>\n",
       "    <tr>\n",
       "      <th>1</th>\n",
       "      <td>0002_01</td>\n",
       "      <td>Earth</td>\n",
       "      <td>0</td>\n",
       "      <td>F/0/S</td>\n",
       "      <td>TRAPPIST-1e</td>\n",
       "      <td>24.0</td>\n",
       "      <td>0</td>\n",
       "      <td>109.0</td>\n",
       "      <td>9.0</td>\n",
       "      <td>25.0</td>\n",
       "      <td>...</td>\n",
       "      <td>44.0</td>\n",
       "      <td>Juanna Vines</td>\n",
       "      <td>1</td>\n",
       "      <td>0002</td>\n",
       "      <td>1</td>\n",
       "      <td>F</td>\n",
       "      <td>0</td>\n",
       "      <td>S</td>\n",
       "      <td>21-30</td>\n",
       "      <td>736.0</td>\n",
       "    </tr>\n",
       "    <tr>\n",
       "      <th>2</th>\n",
       "      <td>0003_01</td>\n",
       "      <td>Europa</td>\n",
       "      <td>0</td>\n",
       "      <td>A/0/S</td>\n",
       "      <td>TRAPPIST-1e</td>\n",
       "      <td>58.0</td>\n",
       "      <td>1</td>\n",
       "      <td>43.0</td>\n",
       "      <td>3576.0</td>\n",
       "      <td>0.0</td>\n",
       "      <td>...</td>\n",
       "      <td>49.0</td>\n",
       "      <td>Altark Susent</td>\n",
       "      <td>0</td>\n",
       "      <td>0003</td>\n",
       "      <td>0</td>\n",
       "      <td>A</td>\n",
       "      <td>0</td>\n",
       "      <td>S</td>\n",
       "      <td>51-60</td>\n",
       "      <td>10383.0</td>\n",
       "    </tr>\n",
       "    <tr>\n",
       "      <th>3</th>\n",
       "      <td>0003_02</td>\n",
       "      <td>Europa</td>\n",
       "      <td>0</td>\n",
       "      <td>A/0/S</td>\n",
       "      <td>TRAPPIST-1e</td>\n",
       "      <td>33.0</td>\n",
       "      <td>0</td>\n",
       "      <td>0.0</td>\n",
       "      <td>1283.0</td>\n",
       "      <td>371.0</td>\n",
       "      <td>...</td>\n",
       "      <td>193.0</td>\n",
       "      <td>Solam Susent</td>\n",
       "      <td>0</td>\n",
       "      <td>0003</td>\n",
       "      <td>0</td>\n",
       "      <td>A</td>\n",
       "      <td>0</td>\n",
       "      <td>S</td>\n",
       "      <td>31-40</td>\n",
       "      <td>5176.0</td>\n",
       "    </tr>\n",
       "    <tr>\n",
       "      <th>4</th>\n",
       "      <td>0004_01</td>\n",
       "      <td>Earth</td>\n",
       "      <td>0</td>\n",
       "      <td>F/1/S</td>\n",
       "      <td>TRAPPIST-1e</td>\n",
       "      <td>16.0</td>\n",
       "      <td>0</td>\n",
       "      <td>303.0</td>\n",
       "      <td>70.0</td>\n",
       "      <td>151.0</td>\n",
       "      <td>...</td>\n",
       "      <td>2.0</td>\n",
       "      <td>Willy Santantines</td>\n",
       "      <td>1</td>\n",
       "      <td>0004</td>\n",
       "      <td>1</td>\n",
       "      <td>F</td>\n",
       "      <td>1</td>\n",
       "      <td>S</td>\n",
       "      <td>11-20</td>\n",
       "      <td>1091.0</td>\n",
       "    </tr>\n",
       "  </tbody>\n",
       "</table>\n",
       "<p>5 rows × 21 columns</p>\n",
       "</div>"
      ],
      "text/plain": [
       "  PassengerId HomePlanet  CryoSleep  Cabin  Destination   Age  VIP  \\\n",
       "0     0001_01     Europa          0  B/0/P  TRAPPIST-1e  39.0    0   \n",
       "1     0002_01      Earth          0  F/0/S  TRAPPIST-1e  24.0    0   \n",
       "2     0003_01     Europa          0  A/0/S  TRAPPIST-1e  58.0    1   \n",
       "3     0003_02     Europa          0  A/0/S  TRAPPIST-1e  33.0    0   \n",
       "4     0004_01      Earth          0  F/1/S  TRAPPIST-1e  16.0    0   \n",
       "\n",
       "   RoomService  FoodCourt  ShoppingMall  ...  VRDeck               Name  \\\n",
       "0          0.0        0.0           0.0  ...     0.0    Maham Ofracculy   \n",
       "1        109.0        9.0          25.0  ...    44.0       Juanna Vines   \n",
       "2         43.0     3576.0           0.0  ...    49.0      Altark Susent   \n",
       "3          0.0     1283.0         371.0  ...   193.0       Solam Susent   \n",
       "4        303.0       70.0         151.0  ...     2.0  Willy Santantines   \n",
       "\n",
       "  Transported  Group Alone  Deck CNum  Side AgeGrouping   TSpend  \n",
       "0           0   0001     1     B    0     P       31-40      0.0  \n",
       "1           1   0002     1     F    0     S       21-30    736.0  \n",
       "2           0   0003     0     A    0     S       51-60  10383.0  \n",
       "3           0   0003     0     A    0     S       31-40   5176.0  \n",
       "4           1   0004     1     F    1     S       11-20   1091.0  \n",
       "\n",
       "[5 rows x 21 columns]"
      ]
     },
     "execution_count": 33,
     "metadata": {},
     "output_type": "execute_result"
    }
   ],
   "source": [
    "exp = ['RoomService', 'FoodCourt', 'ShoppingMall', 'Spa', 'VRDeck']\n",
    "train_df[exp] = train_df[exp].fillna(0)\n",
    "test_df[exp] = test_df[exp].fillna(0)\n",
    "\n",
    "\n",
    "train_df['TSpend'] = train_df[exp].sum(axis=1)\n",
    "test_df['TSpend'] = test_df[exp].sum(axis=1)\n",
    "train_df.head()"
   ]
  },
  {
   "cell_type": "code",
   "execution_count": 34,
   "id": "ca5015fd",
   "metadata": {
    "execution": {
     "iopub.execute_input": "2025-01-31T18:40:33.292558Z",
     "iopub.status.busy": "2025-01-31T18:40:33.292175Z",
     "iopub.status.idle": "2025-01-31T18:40:33.312947Z",
     "shell.execute_reply": "2025-01-31T18:40:33.311561Z"
    },
    "papermill": {
     "duration": 0.047579,
     "end_time": "2025-01-31T18:40:33.314836",
     "exception": false,
     "start_time": "2025-01-31T18:40:33.267257",
     "status": "completed"
    },
    "tags": []
   },
   "outputs": [
    {
     "name": "stdout",
     "output_type": "stream",
     "text": [
      "<class 'pandas.core.frame.DataFrame'>\n",
      "RangeIndex: 8693 entries, 0 to 8692\n",
      "Data columns (total 21 columns):\n",
      " #   Column        Non-Null Count  Dtype   \n",
      "---  ------        --------------  -----   \n",
      " 0   PassengerId   8693 non-null   object  \n",
      " 1   HomePlanet    8693 non-null   object  \n",
      " 2   CryoSleep     8693 non-null   int64   \n",
      " 3   Cabin         8693 non-null   object  \n",
      " 4   Destination   8693 non-null   object  \n",
      " 5   Age           8693 non-null   float64 \n",
      " 6   VIP           8693 non-null   int64   \n",
      " 7   RoomService   8693 non-null   float64 \n",
      " 8   FoodCourt     8693 non-null   float64 \n",
      " 9   ShoppingMall  8693 non-null   float64 \n",
      " 10  Spa           8693 non-null   float64 \n",
      " 11  VRDeck        8693 non-null   float64 \n",
      " 12  Name          8493 non-null   object  \n",
      " 13  Transported   8693 non-null   int64   \n",
      " 14  Group         8693 non-null   object  \n",
      " 15  Alone         8693 non-null   int64   \n",
      " 16  Deck          8693 non-null   object  \n",
      " 17  CNum          8693 non-null   int64   \n",
      " 18  Side          8693 non-null   object  \n",
      " 19  AgeGrouping   8693 non-null   category\n",
      " 20  TSpend        8693 non-null   float64 \n",
      "dtypes: category(1), float64(7), int64(5), object(8)\n",
      "memory usage: 1.3+ MB\n"
     ]
    }
   ],
   "source": [
    "train_df.info()"
   ]
  },
  {
   "cell_type": "code",
   "execution_count": 35,
   "id": "0c90edac",
   "metadata": {
    "execution": {
     "iopub.execute_input": "2025-01-31T18:40:33.365104Z",
     "iopub.status.busy": "2025-01-31T18:40:33.364761Z",
     "iopub.status.idle": "2025-01-31T18:40:33.373711Z",
     "shell.execute_reply": "2025-01-31T18:40:33.372939Z"
    },
    "papermill": {
     "duration": 0.035829,
     "end_time": "2025-01-31T18:40:33.375404",
     "exception": false,
     "start_time": "2025-01-31T18:40:33.339575",
     "status": "completed"
    },
    "tags": []
   },
   "outputs": [],
   "source": [
    "sel_col_te = ['HomePlanet', 'CryoSleep', 'Destination', \n",
    "           'Age', 'VIP', 'RoomService', 'FoodCourt', \n",
    "           'ShoppingMall', 'Spa', 'VRDeck', 'Alone', \n",
    "           'Deck', 'CNum', 'Side', 'AgeGrouping',\n",
    "           'Age', 'TSpend']\n",
    "\n",
    "test_df = test_df[sel_col_te]\n",
    "sel_col_tr = ['HomePlanet', 'CryoSleep', 'Destination', \n",
    "           'Age', 'VIP', 'RoomService', 'FoodCourt', \n",
    "           'ShoppingMall', 'Spa', 'VRDeck', 'Alone', \n",
    "           'Deck', 'CNum', 'Side', 'AgeGrouping',\n",
    "           'Age', 'TSpend', 'Transported']\n",
    "train_df = train_df[sel_col_tr]"
   ]
  },
  {
   "cell_type": "code",
   "execution_count": 36,
   "id": "75cf27e0",
   "metadata": {
    "execution": {
     "iopub.execute_input": "2025-01-31T18:40:33.425920Z",
     "iopub.status.busy": "2025-01-31T18:40:33.425530Z",
     "iopub.status.idle": "2025-01-31T18:40:33.434593Z",
     "shell.execute_reply": "2025-01-31T18:40:33.433580Z"
    },
    "papermill": {
     "duration": 0.03603,
     "end_time": "2025-01-31T18:40:33.436299",
     "exception": false,
     "start_time": "2025-01-31T18:40:33.400269",
     "status": "completed"
    },
    "tags": []
   },
   "outputs": [
    {
     "data": {
      "text/plain": [
       "HomePlanet      0\n",
       "CryoSleep       0\n",
       "Destination     0\n",
       "Age             0\n",
       "VIP             0\n",
       "RoomService     0\n",
       "FoodCourt       0\n",
       "ShoppingMall    0\n",
       "Spa             0\n",
       "VRDeck          0\n",
       "Alone           0\n",
       "Deck            0\n",
       "CNum            0\n",
       "Side            0\n",
       "AgeGrouping     0\n",
       "Age             0\n",
       "TSpend          0\n",
       "dtype: int64"
      ]
     },
     "execution_count": 36,
     "metadata": {},
     "output_type": "execute_result"
    }
   ],
   "source": [
    "test_df.isna().sum()"
   ]
  },
  {
   "cell_type": "code",
   "execution_count": 37,
   "id": "15e5e4cb",
   "metadata": {
    "execution": {
     "iopub.execute_input": "2025-01-31T18:40:33.486289Z",
     "iopub.status.busy": "2025-01-31T18:40:33.485961Z",
     "iopub.status.idle": "2025-01-31T18:40:33.496602Z",
     "shell.execute_reply": "2025-01-31T18:40:33.495478Z"
    },
    "papermill": {
     "duration": 0.03763,
     "end_time": "2025-01-31T18:40:33.498553",
     "exception": false,
     "start_time": "2025-01-31T18:40:33.460923",
     "status": "completed"
    },
    "tags": []
   },
   "outputs": [
    {
     "data": {
      "text/plain": [
       "HomePlanet      0\n",
       "CryoSleep       0\n",
       "Destination     0\n",
       "Age             0\n",
       "VIP             0\n",
       "RoomService     0\n",
       "FoodCourt       0\n",
       "ShoppingMall    0\n",
       "Spa             0\n",
       "VRDeck          0\n",
       "Alone           0\n",
       "Deck            0\n",
       "CNum            0\n",
       "Side            0\n",
       "AgeGrouping     0\n",
       "Age             0\n",
       "TSpend          0\n",
       "Transported     0\n",
       "dtype: int64"
      ]
     },
     "execution_count": 37,
     "metadata": {},
     "output_type": "execute_result"
    }
   ],
   "source": [
    "train_df.isna().sum()"
   ]
  },
  {
   "cell_type": "code",
   "execution_count": 38,
   "id": "66ee7930",
   "metadata": {
    "execution": {
     "iopub.execute_input": "2025-01-31T18:40:33.551110Z",
     "iopub.status.busy": "2025-01-31T18:40:33.550713Z",
     "iopub.status.idle": "2025-01-31T18:40:33.558960Z",
     "shell.execute_reply": "2025-01-31T18:40:33.557714Z"
    },
    "papermill": {
     "duration": 0.035768,
     "end_time": "2025-01-31T18:40:33.560659",
     "exception": false,
     "start_time": "2025-01-31T18:40:33.524891",
     "status": "completed"
    },
    "tags": []
   },
   "outputs": [
    {
     "data": {
      "text/plain": [
       "Index(['HomePlanet', 'Destination', 'Deck', 'Side', 'AgeGrouping'], dtype='object')"
      ]
     },
     "execution_count": 38,
     "metadata": {},
     "output_type": "execute_result"
    }
   ],
   "source": [
    "cat_cols = train_df.select_dtypes(include=['object', 'category']).columns\n",
    "cat_cols"
   ]
  },
  {
   "cell_type": "code",
   "execution_count": 39,
   "id": "bae89963",
   "metadata": {
    "execution": {
     "iopub.execute_input": "2025-01-31T18:40:33.611952Z",
     "iopub.status.busy": "2025-01-31T18:40:33.611572Z",
     "iopub.status.idle": "2025-01-31T18:40:33.801751Z",
     "shell.execute_reply": "2025-01-31T18:40:33.800860Z"
    },
    "papermill": {
     "duration": 0.217842,
     "end_time": "2025-01-31T18:40:33.803562",
     "exception": false,
     "start_time": "2025-01-31T18:40:33.585720",
     "status": "completed"
    },
    "tags": []
   },
   "outputs": [],
   "source": [
    "from sklearn.preprocessing import LabelEncoder\n",
    "\n",
    "le = LabelEncoder()\n",
    "\n",
    "for col in cat_cols:\n",
    "    train_df[col] = le.fit_transform(train_df[col])\n",
    "    test_df[col] = le.fit_transform(test_df[col])    "
   ]
  },
  {
   "cell_type": "markdown",
   "id": "bfafaf2f",
   "metadata": {
    "papermill": {
     "duration": 0.023904,
     "end_time": "2025-01-31T18:40:33.852433",
     "exception": false,
     "start_time": "2025-01-31T18:40:33.828529",
     "status": "completed"
    },
    "tags": []
   },
   "source": [
    "# Importing Something"
   ]
  },
  {
   "cell_type": "code",
   "execution_count": 40,
   "id": "e02c8889",
   "metadata": {
    "execution": {
     "iopub.execute_input": "2025-01-31T18:40:33.902781Z",
     "iopub.status.busy": "2025-01-31T18:40:33.902384Z",
     "iopub.status.idle": "2025-01-31T18:40:34.380383Z",
     "shell.execute_reply": "2025-01-31T18:40:34.379350Z"
    },
    "papermill": {
     "duration": 0.505579,
     "end_time": "2025-01-31T18:40:34.382370",
     "exception": false,
     "start_time": "2025-01-31T18:40:33.876791",
     "status": "completed"
    },
    "tags": []
   },
   "outputs": [],
   "source": [
    "from sklearn.model_selection import train_test_split, GridSearchCV\n",
    "from sklearn.linear_model import LogisticRegression\n",
    "from sklearn.svm import LinearSVC, SVC\n",
    "from sklearn.tree import DecisionTreeClassifier\n",
    "\n",
    "from sklearn.ensemble import ExtraTreesClassifier, RandomForestClassifier, GradientBoostingClassifier\n",
    "\n",
    "\n",
    "from sklearn.metrics import accuracy_score, classification_report"
   ]
  },
  {
   "cell_type": "markdown",
   "id": "02ecd724",
   "metadata": {
    "papermill": {
     "duration": 0.023885,
     "end_time": "2025-01-31T18:40:34.430992",
     "exception": false,
     "start_time": "2025-01-31T18:40:34.407107",
     "status": "completed"
    },
    "tags": []
   },
   "source": [
    "# Model Selection"
   ]
  },
  {
   "cell_type": "code",
   "execution_count": 41,
   "id": "0bdcc956",
   "metadata": {
    "execution": {
     "iopub.execute_input": "2025-01-31T18:40:34.480928Z",
     "iopub.status.busy": "2025-01-31T18:40:34.480526Z",
     "iopub.status.idle": "2025-01-31T18:40:34.494568Z",
     "shell.execute_reply": "2025-01-31T18:40:34.493593Z"
    },
    "papermill": {
     "duration": 0.041225,
     "end_time": "2025-01-31T18:40:34.496543",
     "exception": false,
     "start_time": "2025-01-31T18:40:34.455318",
     "status": "completed"
    },
    "tags": []
   },
   "outputs": [],
   "source": [
    "X = train_df.drop('Transported', axis=1)\n",
    "y = train_df['Transported']\n",
    "\n",
    "X_train, X_test, y_train, y_test = train_test_split(X, y, shuffle=True, test_size=0.3, random_state=42)"
   ]
  },
  {
   "cell_type": "markdown",
   "id": "6d8f890d",
   "metadata": {
    "papermill": {
     "duration": 0.024492,
     "end_time": "2025-01-31T18:40:34.546305",
     "exception": false,
     "start_time": "2025-01-31T18:40:34.521813",
     "status": "completed"
    },
    "tags": []
   },
   "source": [
    "# Testing"
   ]
  },
  {
   "cell_type": "markdown",
   "id": "358f65a0",
   "metadata": {
    "papermill": {
     "duration": 0.02417,
     "end_time": "2025-01-31T18:40:34.595115",
     "exception": false,
     "start_time": "2025-01-31T18:40:34.570945",
     "status": "completed"
    },
    "tags": []
   },
   "source": [
    "## LogisticRegression"
   ]
  },
  {
   "cell_type": "code",
   "execution_count": 42,
   "id": "660f1730",
   "metadata": {
    "execution": {
     "iopub.execute_input": "2025-01-31T18:40:34.649776Z",
     "iopub.status.busy": "2025-01-31T18:40:34.649377Z",
     "iopub.status.idle": "2025-01-31T18:40:34.749807Z",
     "shell.execute_reply": "2025-01-31T18:40:34.748570Z"
    },
    "papermill": {
     "duration": 0.128045,
     "end_time": "2025-01-31T18:40:34.751657",
     "exception": false,
     "start_time": "2025-01-31T18:40:34.623612",
     "status": "completed"
    },
    "tags": []
   },
   "outputs": [
    {
     "name": "stdout",
     "output_type": "stream",
     "text": [
      "              precision    recall  f1-score   support\n",
      "\n",
      "           0       0.81      0.68      0.74      1289\n",
      "           1       0.73      0.85      0.78      1319\n",
      "\n",
      "    accuracy                           0.76      2608\n",
      "   macro avg       0.77      0.76      0.76      2608\n",
      "weighted avg       0.77      0.76      0.76      2608\n",
      "\n",
      "0.7649539877300614\n"
     ]
    }
   ],
   "source": [
    "lor = LogisticRegression()\n",
    "\n",
    "lor.fit(X_train, y_train)\n",
    "\n",
    "print(classification_report(y_test, lor.predict(X_test)))\n",
    "print(accuracy_score(y_test, lor.predict(X_test)))"
   ]
  },
  {
   "cell_type": "markdown",
   "id": "65ff2de1",
   "metadata": {
    "papermill": {
     "duration": 0.024343,
     "end_time": "2025-01-31T18:40:34.803407",
     "exception": false,
     "start_time": "2025-01-31T18:40:34.779064",
     "status": "completed"
    },
    "tags": []
   },
   "source": [
    "## Lienar SVM"
   ]
  },
  {
   "cell_type": "code",
   "execution_count": 43,
   "id": "c8f3afb1",
   "metadata": {
    "execution": {
     "iopub.execute_input": "2025-01-31T18:40:34.853934Z",
     "iopub.status.busy": "2025-01-31T18:40:34.853556Z",
     "iopub.status.idle": "2025-01-31T18:40:35.376654Z",
     "shell.execute_reply": "2025-01-31T18:40:35.375509Z"
    },
    "papermill": {
     "duration": 0.55037,
     "end_time": "2025-01-31T18:40:35.378470",
     "exception": false,
     "start_time": "2025-01-31T18:40:34.828100",
     "status": "completed"
    },
    "tags": []
   },
   "outputs": [
    {
     "name": "stdout",
     "output_type": "stream",
     "text": [
      "              precision    recall  f1-score   support\n",
      "\n",
      "           0       0.66      0.26      0.37      1289\n",
      "           1       0.55      0.87      0.67      1319\n",
      "\n",
      "    accuracy                           0.57      2608\n",
      "   macro avg       0.60      0.56      0.52      2608\n",
      "weighted avg       0.60      0.57      0.52      2608\n",
      "\n",
      "0.567101226993865\n"
     ]
    }
   ],
   "source": [
    "lsvc = LinearSVC()\n",
    "\n",
    "lsvc.fit(X_train, y_train)\n",
    "\n",
    "print(classification_report(y_test, lsvc.predict(X_test)))\n",
    "print(accuracy_score(y_test, lsvc.predict(X_test)))"
   ]
  },
  {
   "cell_type": "markdown",
   "id": "a3c33b2e",
   "metadata": {
    "papermill": {
     "duration": 0.029353,
     "end_time": "2025-01-31T18:40:35.436113",
     "exception": false,
     "start_time": "2025-01-31T18:40:35.406760",
     "status": "completed"
    },
    "tags": []
   },
   "source": [
    "## SVC"
   ]
  },
  {
   "cell_type": "code",
   "execution_count": 44,
   "id": "2f0e996f",
   "metadata": {
    "execution": {
     "iopub.execute_input": "2025-01-31T18:40:35.499882Z",
     "iopub.status.busy": "2025-01-31T18:40:35.499467Z",
     "iopub.status.idle": "2025-01-31T18:40:37.806754Z",
     "shell.execute_reply": "2025-01-31T18:40:37.805547Z"
    },
    "papermill": {
     "duration": 2.344779,
     "end_time": "2025-01-31T18:40:37.808432",
     "exception": false,
     "start_time": "2025-01-31T18:40:35.463653",
     "status": "completed"
    },
    "tags": []
   },
   "outputs": [
    {
     "name": "stdout",
     "output_type": "stream",
     "text": [
      "              precision    recall  f1-score   support\n",
      "\n",
      "           0       0.85      0.67      0.75      1289\n",
      "           1       0.73      0.88      0.80      1319\n",
      "\n",
      "    accuracy                           0.78      2608\n",
      "   macro avg       0.79      0.78      0.78      2608\n",
      "weighted avg       0.79      0.78      0.78      2608\n",
      "\n",
      "0.7787576687116564\n"
     ]
    }
   ],
   "source": [
    "svc = SVC()\n",
    "\n",
    "svc.fit(X_train, y_train)\n",
    "\n",
    "print(classification_report(y_test, svc.predict(X_test)))\n",
    "print(accuracy_score(y_test, svc.predict(X_test)))"
   ]
  },
  {
   "cell_type": "markdown",
   "id": "7f6d0158",
   "metadata": {
    "papermill": {
     "duration": 0.024427,
     "end_time": "2025-01-31T18:40:37.858277",
     "exception": false,
     "start_time": "2025-01-31T18:40:37.833850",
     "status": "completed"
    },
    "tags": []
   },
   "source": [
    "## DecisionTreeClassifier"
   ]
  },
  {
   "cell_type": "code",
   "execution_count": 45,
   "id": "e6dec874",
   "metadata": {
    "execution": {
     "iopub.execute_input": "2025-01-31T18:40:37.909589Z",
     "iopub.status.busy": "2025-01-31T18:40:37.909252Z",
     "iopub.status.idle": "2025-01-31T18:40:37.979167Z",
     "shell.execute_reply": "2025-01-31T18:40:37.977969Z"
    },
    "papermill": {
     "duration": 0.097473,
     "end_time": "2025-01-31T18:40:37.980863",
     "exception": false,
     "start_time": "2025-01-31T18:40:37.883390",
     "status": "completed"
    },
    "tags": []
   },
   "outputs": [
    {
     "name": "stdout",
     "output_type": "stream",
     "text": [
      "              precision    recall  f1-score   support\n",
      "\n",
      "           0       0.75      0.73      0.74      1289\n",
      "           1       0.74      0.77      0.75      1319\n",
      "\n",
      "    accuracy                           0.75      2608\n",
      "   macro avg       0.75      0.75      0.75      2608\n",
      "weighted avg       0.75      0.75      0.75      2608\n",
      "\n",
      "0.7484662576687117\n"
     ]
    }
   ],
   "source": [
    "dtc = DecisionTreeClassifier()\n",
    "dtc.fit(X_train, y_train)\n",
    "\n",
    "print(classification_report(y_test, dtc.predict(X_test)))\n",
    "print(accuracy_score(y_test, dtc.predict(X_test)))"
   ]
  },
  {
   "cell_type": "markdown",
   "id": "3fca5ea2",
   "metadata": {
    "papermill": {
     "duration": 0.024897,
     "end_time": "2025-01-31T18:40:38.031900",
     "exception": false,
     "start_time": "2025-01-31T18:40:38.007003",
     "status": "completed"
    },
    "tags": []
   },
   "source": [
    "## ExtraTreesClassifier"
   ]
  },
  {
   "cell_type": "code",
   "execution_count": 46,
   "id": "5e35ce69",
   "metadata": {
    "execution": {
     "iopub.execute_input": "2025-01-31T18:40:38.084411Z",
     "iopub.status.busy": "2025-01-31T18:40:38.084032Z",
     "iopub.status.idle": "2025-01-31T18:40:38.905551Z",
     "shell.execute_reply": "2025-01-31T18:40:38.904254Z"
    },
    "papermill": {
     "duration": 0.8495,
     "end_time": "2025-01-31T18:40:38.907293",
     "exception": false,
     "start_time": "2025-01-31T18:40:38.057793",
     "status": "completed"
    },
    "tags": []
   },
   "outputs": [
    {
     "name": "stdout",
     "output_type": "stream",
     "text": [
      "              precision    recall  f1-score   support\n",
      "\n",
      "           0       0.77      0.82      0.79      1289\n",
      "           1       0.81      0.76      0.78      1319\n",
      "\n",
      "    accuracy                           0.79      2608\n",
      "   macro avg       0.79      0.79      0.79      2608\n",
      "weighted avg       0.79      0.79      0.79      2608\n",
      "\n",
      "0.7898773006134969\n"
     ]
    }
   ],
   "source": [
    "etc = ExtraTreesClassifier()\n",
    "\n",
    "etc.fit(X_train, y_train)\n",
    "\n",
    "print(classification_report(y_test, etc.predict(X_test)))\n",
    "print(accuracy_score(y_test, etc.predict(X_test)))"
   ]
  },
  {
   "cell_type": "markdown",
   "id": "dc5d312c",
   "metadata": {
    "papermill": {
     "duration": 0.024997,
     "end_time": "2025-01-31T18:40:38.957295",
     "exception": false,
     "start_time": "2025-01-31T18:40:38.932298",
     "status": "completed"
    },
    "tags": []
   },
   "source": [
    "## RandomForestClassifier"
   ]
  },
  {
   "cell_type": "code",
   "execution_count": 47,
   "id": "b3b05bee",
   "metadata": {
    "execution": {
     "iopub.execute_input": "2025-01-31T18:40:39.008329Z",
     "iopub.status.busy": "2025-01-31T18:40:39.008003Z",
     "iopub.status.idle": "2025-01-31T18:40:40.131768Z",
     "shell.execute_reply": "2025-01-31T18:40:40.130568Z"
    },
    "papermill": {
     "duration": 1.151612,
     "end_time": "2025-01-31T18:40:40.133822",
     "exception": false,
     "start_time": "2025-01-31T18:40:38.982210",
     "status": "completed"
    },
    "tags": []
   },
   "outputs": [
    {
     "name": "stdout",
     "output_type": "stream",
     "text": [
      "              precision    recall  f1-score   support\n",
      "\n",
      "           0       0.78      0.82      0.80      1289\n",
      "           1       0.81      0.78      0.80      1319\n",
      "\n",
      "    accuracy                           0.80      2608\n",
      "   macro avg       0.80      0.80      0.80      2608\n",
      "weighted avg       0.80      0.80      0.80      2608\n",
      "\n",
      "0.7975460122699386\n"
     ]
    }
   ],
   "source": [
    "rfc = RandomForestClassifier()\n",
    "\n",
    "rfc.fit(X_train, y_train)\n",
    "\n",
    "print(classification_report(y_test, rfc.predict(X_test)))\n",
    "print(accuracy_score(y_test, rfc.predict(X_test)))"
   ]
  },
  {
   "cell_type": "markdown",
   "id": "281aeb52",
   "metadata": {
    "papermill": {
     "duration": 0.040186,
     "end_time": "2025-01-31T18:40:40.204002",
     "exception": false,
     "start_time": "2025-01-31T18:40:40.163816",
     "status": "completed"
    },
    "tags": []
   },
   "source": [
    "## GradientBoostingClassifier"
   ]
  },
  {
   "cell_type": "code",
   "execution_count": 48,
   "id": "b27dd269",
   "metadata": {
    "execution": {
     "iopub.execute_input": "2025-01-31T18:40:40.269252Z",
     "iopub.status.busy": "2025-01-31T18:40:40.268872Z",
     "iopub.status.idle": "2025-01-31T18:40:41.483189Z",
     "shell.execute_reply": "2025-01-31T18:40:41.481860Z"
    },
    "papermill": {
     "duration": 1.243353,
     "end_time": "2025-01-31T18:40:41.485079",
     "exception": false,
     "start_time": "2025-01-31T18:40:40.241726",
     "status": "completed"
    },
    "tags": []
   },
   "outputs": [
    {
     "name": "stdout",
     "output_type": "stream",
     "text": [
      "              precision    recall  f1-score   support\n",
      "\n",
      "           0       0.82      0.74      0.78      1289\n",
      "           1       0.77      0.84      0.80      1319\n",
      "\n",
      "    accuracy                           0.79      2608\n",
      "   macro avg       0.79      0.79      0.79      2608\n",
      "weighted avg       0.79      0.79      0.79      2608\n",
      "\n",
      "0.7921779141104295\n"
     ]
    }
   ],
   "source": [
    "gbc = GradientBoostingClassifier()\n",
    "\n",
    "gbc.fit(X_train, y_train)\n",
    "\n",
    "print(classification_report(y_test, gbc.predict(X_test)))\n",
    "print(accuracy_score(y_test, gbc.predict(X_test)))"
   ]
  },
  {
   "cell_type": "markdown",
   "id": "8603fd16",
   "metadata": {
    "papermill": {
     "duration": 0.024851,
     "end_time": "2025-01-31T18:40:41.535607",
     "exception": false,
     "start_time": "2025-01-31T18:40:41.510756",
     "status": "completed"
    },
    "tags": []
   },
   "source": [
    "# Choosing Model"
   ]
  },
  {
   "cell_type": "markdown",
   "id": "d8e62b92",
   "metadata": {
    "papermill": {
     "duration": 0.025039,
     "end_time": "2025-01-31T18:40:41.586057",
     "exception": false,
     "start_time": "2025-01-31T18:40:41.561018",
     "status": "completed"
    },
    "tags": []
   },
   "source": [
    "| Model              | Accuracy | Precision (0) | Recall (0) | F1-score (0) | Precision (1) | Recall (1) | F1-score (1) | Macro Avg | Weighted Avg |\n",
    "|--------------------|----------|---------------|------------|--------------|---------------|------------|--------------|-----------|--------------|\n",
    "| GradientBoosting   | 0.7922   | 0.82          | 0.74       | 0.78         | 0.77          | 0.84       | 0.80         | 0.79      | 0.79         |\n",
    "| RandomForest       | 0.7987   | 0.79          | 0.82       | 0.80         | 0.81          | 0.78       | 0.80         | 0.80      | 0.80         |\n",
    "| ExtraTrees         | 0.7895   | 0.77          | 0.82       | 0.79         | 0.81          | 0.76       | 0.78         | 0.79      | 0.79         |\n",
    "| DecisionTree (DTC) | 0.7500   | 0.76          | 0.73       | 0.74         | 0.75          | 0.77       | 0.76         | 0.75      | 0.75         |\n",
    "| SVC                | 0.7788   | 0.85          | 0.67       | 0.75         | 0.73          | 0.88       | 0.80         | 0.79      | 0.78         |\n",
    "| LinearSVC          | 0.7619   | 0.76          | 0.75       | 0.76         | 0.76          | 0.77       | 0.77         | 0.76      | 0.76         |\n",
    "| LogisticRegression | 0.7649   | 0.81          | 0.68       | 0.74         | 0.73          | 0.85       | 0.78         | 0.77      | 0.76         |\n"
   ]
  },
  {
   "cell_type": "markdown",
   "id": "0cda0560",
   "metadata": {
    "papermill": {
     "duration": 0.025017,
     "end_time": "2025-01-31T18:40:41.636229",
     "exception": false,
     "start_time": "2025-01-31T18:40:41.611212",
     "status": "completed"
    },
    "tags": []
   },
   "source": [
    "So choosing **Random Forest** won't be a bad idea, as it has a good accuray and good f1 score and weighted avg"
   ]
  },
  {
   "cell_type": "code",
   "execution_count": 49,
   "id": "2ed37320",
   "metadata": {
    "execution": {
     "iopub.execute_input": "2025-01-31T18:40:41.688338Z",
     "iopub.status.busy": "2025-01-31T18:40:41.688013Z",
     "iopub.status.idle": "2025-01-31T18:40:41.691857Z",
     "shell.execute_reply": "2025-01-31T18:40:41.690937Z"
    },
    "papermill": {
     "duration": 0.031865,
     "end_time": "2025-01-31T18:40:41.693359",
     "exception": false,
     "start_time": "2025-01-31T18:40:41.661494",
     "status": "completed"
    },
    "tags": []
   },
   "outputs": [],
   "source": [
    "# rf = RandomForestClassifier(random_state=42)\n",
    "\n",
    "# param_grid = {\n",
    "#     'n_estimators': [50, 100, 200],\n",
    "#     'max_depth': [None, 10, 20],\n",
    "#     'min_samples_split': [2, 5, 10],\n",
    "#     'min_samples_leaf': [1, 2, 4],\n",
    "# }\n",
    "\n",
    "# grid_rf = GridSearchCV(estimator=rf, param_grid=param_grid, cv=5, n_jobs=-1, verbose=4, scoring='accuracy')\n",
    "# grid_rf.fit(X_train, y_train)\n",
    "\n",
    "# best_rf = grid_rf.best_estimator_\n",
    "\n",
    "# pred = best_rf.predict(X_test)\n",
    "# print(classification_report(y_test, pred))\n",
    "# print(accuracy_score(y_test, pred))"
   ]
  },
  {
   "cell_type": "markdown",
   "id": "92a2b7e7",
   "metadata": {
    "papermill": {
     "duration": 0.02535,
     "end_time": "2025-01-31T18:40:41.745454",
     "exception": false,
     "start_time": "2025-01-31T18:40:41.720104",
     "status": "completed"
    },
    "tags": []
   },
   "source": [
    "Above code give u this result\n",
    "\n",
    "### GridSearchCV Results\n",
    "\n",
    "| Model              | Accuracy | Precision (0) | Recall (0) | F1-score (0) | Precision (1) | Recall (1) | F1-score (1) | Macro Avg | Weighted Avg |\n",
    "|--------------------|----------|---------------|------------|--------------|---------------|------------|--------------|-----------|--------------|\n",
    "| Random Forest (GridSearch) | 0.80     | 0.81          | 0.77       | 0.79         | 0.78          | 0.82       | 0.80         | 0.80      | 0.80         |\n",
    "\n",
    "**Additional Results:**\n",
    "- **Accuracy:** 0.80\n",
    "- **Macro Avg:** 0.80\n",
    "- **Weighted Avg:** 0.80\n"
   ]
  },
  {
   "cell_type": "markdown",
   "id": "121814ab",
   "metadata": {
    "papermill": {
     "duration": 0.024842,
     "end_time": "2025-01-31T18:40:41.795491",
     "exception": false,
     "start_time": "2025-01-31T18:40:41.770649",
     "status": "completed"
    },
    "tags": []
   },
   "source": [
    "# Ending With the Random Forest"
   ]
  },
  {
   "cell_type": "code",
   "execution_count": 50,
   "id": "52d489ee",
   "metadata": {
    "execution": {
     "iopub.execute_input": "2025-01-31T18:40:41.847310Z",
     "iopub.status.busy": "2025-01-31T18:40:41.846980Z",
     "iopub.status.idle": "2025-01-31T18:43:45.289127Z",
     "shell.execute_reply": "2025-01-31T18:43:45.287793Z"
    },
    "papermill": {
     "duration": 183.470629,
     "end_time": "2025-01-31T18:43:45.291212",
     "exception": false,
     "start_time": "2025-01-31T18:40:41.820583",
     "status": "completed"
    },
    "tags": []
   },
   "outputs": [
    {
     "name": "stdout",
     "output_type": "stream",
     "text": [
      "Fitting 5 folds for each of 81 candidates, totalling 405 fits\n"
     ]
    }
   ],
   "source": [
    "rf = RandomForestClassifier(random_state=42)\n",
    "\n",
    "param_grid = {\n",
    "    'n_estimators': [50, 100, 200],\n",
    "    'max_depth': [None, 10, 20],\n",
    "    'min_samples_split': [2, 5, 10],\n",
    "    'min_samples_leaf': [1, 2, 4],\n",
    "}\n",
    "\n",
    "grid_rf = GridSearchCV(estimator=rf, param_grid=param_grid, cv=5, n_jobs=-1, verbose=4, scoring='accuracy')\n",
    "grid_rf.fit(X, y)\n",
    "\n",
    "best_rf = grid_rf.best_estimator_"
   ]
  },
  {
   "cell_type": "markdown",
   "id": "89d9dbb4",
   "metadata": {
    "papermill": {
     "duration": 0.024988,
     "end_time": "2025-01-31T18:43:45.342085",
     "exception": false,
     "start_time": "2025-01-31T18:43:45.317097",
     "status": "completed"
    },
    "tags": []
   },
   "source": [
    "# 😭 😭 😭 "
   ]
  },
  {
   "cell_type": "code",
   "execution_count": 51,
   "id": "21e03584",
   "metadata": {
    "execution": {
     "iopub.execute_input": "2025-01-31T18:43:45.394098Z",
     "iopub.status.busy": "2025-01-31T18:43:45.393647Z",
     "iopub.status.idle": "2025-01-31T18:43:45.436494Z",
     "shell.execute_reply": "2025-01-31T18:43:45.435483Z"
    },
    "papermill": {
     "duration": 0.070832,
     "end_time": "2025-01-31T18:43:45.438284",
     "exception": false,
     "start_time": "2025-01-31T18:43:45.367452",
     "status": "completed"
    },
    "tags": []
   },
   "outputs": [
    {
     "data": {
      "text/plain": [
       "array([ True, False,  True, ...,  True,  True,  True])"
      ]
     },
     "execution_count": 51,
     "metadata": {},
     "output_type": "execute_result"
    }
   ],
   "source": [
    "pred = best_rf.predict(test_df).astype(bool)\n",
    "pred"
   ]
  },
  {
   "cell_type": "code",
   "execution_count": 52,
   "id": "889ad895",
   "metadata": {
    "execution": {
     "iopub.execute_input": "2025-01-31T18:43:45.492145Z",
     "iopub.status.busy": "2025-01-31T18:43:45.491730Z",
     "iopub.status.idle": "2025-01-31T18:43:45.510453Z",
     "shell.execute_reply": "2025-01-31T18:43:45.509222Z"
    },
    "papermill": {
     "duration": 0.048383,
     "end_time": "2025-01-31T18:43:45.512228",
     "exception": false,
     "start_time": "2025-01-31T18:43:45.463845",
     "status": "completed"
    },
    "tags": []
   },
   "outputs": [
    {
     "name": "stdout",
     "output_type": "stream",
     "text": [
      "Submitted\n"
     ]
    }
   ],
   "source": [
    "output = pd.DataFrame({\n",
    "    \"PassengerId\": PID,\n",
    "    \"Transported\": pred\n",
    "})\n",
    "\n",
    "output.to_csv('submission.csv', index=False, columns=[\"PassengerId\", \"Transported\"])\n",
    "print(\"Submitted\")"
   ]
  },
  {
   "cell_type": "markdown",
   "id": "bf055f47",
   "metadata": {
    "papermill": {
     "duration": 0.025315,
     "end_time": "2025-01-31T18:43:45.563808",
     "exception": false,
     "start_time": "2025-01-31T18:43:45.538493",
     "status": "completed"
    },
    "tags": []
   },
   "source": [
    "# A Note\n",
    "\n",
    "This code is based on my intuition and understanding of the concept. If you have any suggestions, I would truly appreciate them.  \n",
    "\n",
    "I hope this provides you with some valuable insights. 😊  \n"
   ]
  }
 ],
 "metadata": {
  "kaggle": {
   "accelerator": "none",
   "dataSources": [
    {
     "databundleVersionId": 3220602,
     "sourceId": 34377,
     "sourceType": "competition"
    }
   ],
   "dockerImageVersionId": 30839,
   "isGpuEnabled": false,
   "isInternetEnabled": false,
   "language": "python",
   "sourceType": "notebook"
  },
  "kernelspec": {
   "display_name": "Python 3",
   "language": "python",
   "name": "python3"
  },
  "language_info": {
   "codemirror_mode": {
    "name": "ipython",
    "version": 3
   },
   "file_extension": ".py",
   "mimetype": "text/x-python",
   "name": "python",
   "nbconvert_exporter": "python",
   "pygments_lexer": "ipython3",
   "version": "3.10.12"
  },
  "papermill": {
   "default_parameters": {},
   "duration": 204.117267,
   "end_time": "2025-01-31T18:43:46.511191",
   "environment_variables": {},
   "exception": null,
   "input_path": "__notebook__.ipynb",
   "output_path": "__notebook__.ipynb",
   "parameters": {},
   "start_time": "2025-01-31T18:40:22.393924",
   "version": "2.6.0"
  }
 },
 "nbformat": 4,
 "nbformat_minor": 5
}
