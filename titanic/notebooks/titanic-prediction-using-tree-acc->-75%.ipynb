{
 "cells": [
  {
   "cell_type": "code",
   "execution_count": 1,
   "id": "ae3410f4",
   "metadata": {
    "_cell_guid": "b1076dfc-b9ad-4769-8c92-a6c4dae69d19",
    "_uuid": "8f2839f25d086af736a60e9eeb907d3b93b6e0e5",
    "execution": {
     "iopub.execute_input": "2025-01-22T22:06:13.781993Z",
     "iopub.status.busy": "2025-01-22T22:06:13.781501Z",
     "iopub.status.idle": "2025-01-22T22:06:14.792300Z",
     "shell.execute_reply": "2025-01-22T22:06:14.790928Z"
    },
    "papermill": {
     "duration": 1.023477,
     "end_time": "2025-01-22T22:06:14.794471",
     "exception": false,
     "start_time": "2025-01-22T22:06:13.770994",
     "status": "completed"
    },
    "tags": []
   },
   "outputs": [
    {
     "name": "stdout",
     "output_type": "stream",
     "text": [
      "/kaggle/input/titanic/train.csv\n",
      "/kaggle/input/titanic/test.csv\n",
      "/kaggle/input/titanic/gender_submission.csv\n"
     ]
    }
   ],
   "source": [
    "# This Python 3 environment comes with many helpful analytics libraries installed\n",
    "# It is defined by the kaggle/python Docker image: https://github.com/kaggle/docker-python\n",
    "# For example, here's several helpful packages to load\n",
    "\n",
    "import numpy as np # linear algebra\n",
    "import pandas as pd # data processing, CSV file I/O (e.g. pd.read_csv)\n",
    "\n",
    "# Input data files are available in the read-only \"../input/\" directory\n",
    "# For example, running this (by clicking run or pressing Shift+Enter) will list all files under the input directory\n",
    "\n",
    "import os\n",
    "for dirname, _, filenames in os.walk('/kaggle/input'):\n",
    "    for filename in filenames:\n",
    "        print(os.path.join(dirname, filename))\n",
    "\n",
    "# You can write up to 20GB to the current directory (/kaggle/working/) that gets preserved as output when you create a version using \"Save & Run All\" \n",
    "# You can also write temporary files to /kaggle/temp/, but they won't be saved outside of the current session"
   ]
  },
  {
   "cell_type": "markdown",
   "id": "7ed4c69a",
   "metadata": {
    "papermill": {
     "duration": 0.006821,
     "end_time": "2025-01-22T22:06:14.809484",
     "exception": false,
     "start_time": "2025-01-22T22:06:14.802663",
     "status": "completed"
    },
    "tags": []
   },
   "source": [
    "# **Getting started**"
   ]
  },
  {
   "cell_type": "markdown",
   "id": "4d38873d",
   "metadata": {
    "papermill": {
     "duration": 0.006942,
     "end_time": "2025-01-22T22:06:14.823696",
     "exception": false,
     "start_time": "2025-01-22T22:06:14.816754",
     "status": "completed"
    },
    "tags": []
   },
   "source": [
    "First we need to know about the data set\n",
    "\n",
    "1. Get the data set using pd.read_csv()\n",
    "2. Printing the head() -> head prints the first 5 rows"
   ]
  },
  {
   "cell_type": "code",
   "execution_count": 2,
   "id": "2a3c97ff",
   "metadata": {
    "execution": {
     "iopub.execute_input": "2025-01-22T22:06:14.840182Z",
     "iopub.status.busy": "2025-01-22T22:06:14.839477Z",
     "iopub.status.idle": "2025-01-22T22:06:14.910863Z",
     "shell.execute_reply": "2025-01-22T22:06:14.909422Z"
    },
    "papermill": {
     "duration": 0.081829,
     "end_time": "2025-01-22T22:06:14.912785",
     "exception": false,
     "start_time": "2025-01-22T22:06:14.830956",
     "status": "completed"
    },
    "tags": []
   },
   "outputs": [
    {
     "data": {
      "text/html": [
       "<div>\n",
       "<style scoped>\n",
       "    .dataframe tbody tr th:only-of-type {\n",
       "        vertical-align: middle;\n",
       "    }\n",
       "\n",
       "    .dataframe tbody tr th {\n",
       "        vertical-align: top;\n",
       "    }\n",
       "\n",
       "    .dataframe thead th {\n",
       "        text-align: right;\n",
       "    }\n",
       "</style>\n",
       "<table border=\"1\" class=\"dataframe\">\n",
       "  <thead>\n",
       "    <tr style=\"text-align: right;\">\n",
       "      <th></th>\n",
       "      <th>PassengerId</th>\n",
       "      <th>Survived</th>\n",
       "      <th>Pclass</th>\n",
       "      <th>Name</th>\n",
       "      <th>Sex</th>\n",
       "      <th>Age</th>\n",
       "      <th>SibSp</th>\n",
       "      <th>Parch</th>\n",
       "      <th>Ticket</th>\n",
       "      <th>Fare</th>\n",
       "      <th>Cabin</th>\n",
       "      <th>Embarked</th>\n",
       "    </tr>\n",
       "  </thead>\n",
       "  <tbody>\n",
       "    <tr>\n",
       "      <th>0</th>\n",
       "      <td>1</td>\n",
       "      <td>0</td>\n",
       "      <td>3</td>\n",
       "      <td>Braund, Mr. Owen Harris</td>\n",
       "      <td>male</td>\n",
       "      <td>22.0</td>\n",
       "      <td>1</td>\n",
       "      <td>0</td>\n",
       "      <td>A/5 21171</td>\n",
       "      <td>7.2500</td>\n",
       "      <td>NaN</td>\n",
       "      <td>S</td>\n",
       "    </tr>\n",
       "    <tr>\n",
       "      <th>1</th>\n",
       "      <td>2</td>\n",
       "      <td>1</td>\n",
       "      <td>1</td>\n",
       "      <td>Cumings, Mrs. John Bradley (Florence Briggs Th...</td>\n",
       "      <td>female</td>\n",
       "      <td>38.0</td>\n",
       "      <td>1</td>\n",
       "      <td>0</td>\n",
       "      <td>PC 17599</td>\n",
       "      <td>71.2833</td>\n",
       "      <td>C85</td>\n",
       "      <td>C</td>\n",
       "    </tr>\n",
       "    <tr>\n",
       "      <th>2</th>\n",
       "      <td>3</td>\n",
       "      <td>1</td>\n",
       "      <td>3</td>\n",
       "      <td>Heikkinen, Miss. Laina</td>\n",
       "      <td>female</td>\n",
       "      <td>26.0</td>\n",
       "      <td>0</td>\n",
       "      <td>0</td>\n",
       "      <td>STON/O2. 3101282</td>\n",
       "      <td>7.9250</td>\n",
       "      <td>NaN</td>\n",
       "      <td>S</td>\n",
       "    </tr>\n",
       "    <tr>\n",
       "      <th>3</th>\n",
       "      <td>4</td>\n",
       "      <td>1</td>\n",
       "      <td>1</td>\n",
       "      <td>Futrelle, Mrs. Jacques Heath (Lily May Peel)</td>\n",
       "      <td>female</td>\n",
       "      <td>35.0</td>\n",
       "      <td>1</td>\n",
       "      <td>0</td>\n",
       "      <td>113803</td>\n",
       "      <td>53.1000</td>\n",
       "      <td>C123</td>\n",
       "      <td>S</td>\n",
       "    </tr>\n",
       "    <tr>\n",
       "      <th>4</th>\n",
       "      <td>5</td>\n",
       "      <td>0</td>\n",
       "      <td>3</td>\n",
       "      <td>Allen, Mr. William Henry</td>\n",
       "      <td>male</td>\n",
       "      <td>35.0</td>\n",
       "      <td>0</td>\n",
       "      <td>0</td>\n",
       "      <td>373450</td>\n",
       "      <td>8.0500</td>\n",
       "      <td>NaN</td>\n",
       "      <td>S</td>\n",
       "    </tr>\n",
       "  </tbody>\n",
       "</table>\n",
       "</div>"
      ],
      "text/plain": [
       "   PassengerId  Survived  Pclass  \\\n",
       "0            1         0       3   \n",
       "1            2         1       1   \n",
       "2            3         1       3   \n",
       "3            4         1       1   \n",
       "4            5         0       3   \n",
       "\n",
       "                                                Name     Sex   Age  SibSp  \\\n",
       "0                            Braund, Mr. Owen Harris    male  22.0      1   \n",
       "1  Cumings, Mrs. John Bradley (Florence Briggs Th...  female  38.0      1   \n",
       "2                             Heikkinen, Miss. Laina  female  26.0      0   \n",
       "3       Futrelle, Mrs. Jacques Heath (Lily May Peel)  female  35.0      1   \n",
       "4                           Allen, Mr. William Henry    male  35.0      0   \n",
       "\n",
       "   Parch            Ticket     Fare Cabin Embarked  \n",
       "0      0         A/5 21171   7.2500   NaN        S  \n",
       "1      0          PC 17599  71.2833   C85        C  \n",
       "2      0  STON/O2. 3101282   7.9250   NaN        S  \n",
       "3      0            113803  53.1000  C123        S  \n",
       "4      0            373450   8.0500   NaN        S  "
      ]
     },
     "execution_count": 2,
     "metadata": {},
     "output_type": "execute_result"
    }
   ],
   "source": [
    "train_df = pd.read_csv(\"/kaggle/input/titanic/train.csv\")\n",
    "test_df = pd.read_csv(\"/kaggle/input/titanic/test.csv\")\n",
    "train_df.head()"
   ]
  },
  {
   "cell_type": "markdown",
   "id": "84f7413e",
   "metadata": {
    "papermill": {
     "duration": 0.007657,
     "end_time": "2025-01-22T22:06:14.928314",
     "exception": false,
     "start_time": "2025-01-22T22:06:14.920657",
     "status": "completed"
    },
    "tags": []
   },
   "source": [
    "# **Analyzing Data**"
   ]
  },
  {
   "cell_type": "code",
   "execution_count": 3,
   "id": "3b29b266",
   "metadata": {
    "execution": {
     "iopub.execute_input": "2025-01-22T22:06:14.944646Z",
     "iopub.status.busy": "2025-01-22T22:06:14.944141Z",
     "iopub.status.idle": "2025-01-22T22:06:14.980288Z",
     "shell.execute_reply": "2025-01-22T22:06:14.978683Z"
    },
    "papermill": {
     "duration": 0.046534,
     "end_time": "2025-01-22T22:06:14.982257",
     "exception": false,
     "start_time": "2025-01-22T22:06:14.935723",
     "status": "completed"
    },
    "tags": []
   },
   "outputs": [
    {
     "name": "stdout",
     "output_type": "stream",
     "text": [
      "Train Data: \n",
      "<class 'pandas.core.frame.DataFrame'>\n",
      "RangeIndex: 891 entries, 0 to 890\n",
      "Data columns (total 12 columns):\n",
      " #   Column       Non-Null Count  Dtype  \n",
      "---  ------       --------------  -----  \n",
      " 0   PassengerId  891 non-null    int64  \n",
      " 1   Survived     891 non-null    int64  \n",
      " 2   Pclass       891 non-null    int64  \n",
      " 3   Name         891 non-null    object \n",
      " 4   Sex          891 non-null    object \n",
      " 5   Age          714 non-null    float64\n",
      " 6   SibSp        891 non-null    int64  \n",
      " 7   Parch        891 non-null    int64  \n",
      " 8   Ticket       891 non-null    object \n",
      " 9   Fare         891 non-null    float64\n",
      " 10  Cabin        204 non-null    object \n",
      " 11  Embarked     889 non-null    object \n",
      "dtypes: float64(2), int64(5), object(5)\n",
      "memory usage: 83.7+ KB\n",
      "None\n",
      "---------------\n",
      "Test Data: \n",
      "<class 'pandas.core.frame.DataFrame'>\n",
      "RangeIndex: 418 entries, 0 to 417\n",
      "Data columns (total 11 columns):\n",
      " #   Column       Non-Null Count  Dtype  \n",
      "---  ------       --------------  -----  \n",
      " 0   PassengerId  418 non-null    int64  \n",
      " 1   Pclass       418 non-null    int64  \n",
      " 2   Name         418 non-null    object \n",
      " 3   Sex          418 non-null    object \n",
      " 4   Age          332 non-null    float64\n",
      " 5   SibSp        418 non-null    int64  \n",
      " 6   Parch        418 non-null    int64  \n",
      " 7   Ticket       418 non-null    object \n",
      " 8   Fare         417 non-null    float64\n",
      " 9   Cabin        91 non-null     object \n",
      " 10  Embarked     418 non-null    object \n",
      "dtypes: float64(2), int64(4), object(5)\n",
      "memory usage: 36.0+ KB\n",
      "None\n"
     ]
    }
   ],
   "source": [
    "def printInfo():\n",
    "    print(\"Train Data: \")\n",
    "    print(train_df.info())\n",
    "    print(\"---------------\")\n",
    "    print(\"Test Data: \")\n",
    "    print(test_df.info())\n",
    "\n",
    "printInfo()"
   ]
  },
  {
   "cell_type": "code",
   "execution_count": 4,
   "id": "517d812b",
   "metadata": {
    "execution": {
     "iopub.execute_input": "2025-01-22T22:06:14.999694Z",
     "iopub.status.busy": "2025-01-22T22:06:14.999280Z",
     "iopub.status.idle": "2025-01-22T22:06:15.008935Z",
     "shell.execute_reply": "2025-01-22T22:06:15.007454Z"
    },
    "papermill": {
     "duration": 0.020648,
     "end_time": "2025-01-22T22:06:15.011068",
     "exception": false,
     "start_time": "2025-01-22T22:06:14.990420",
     "status": "completed"
    },
    "tags": []
   },
   "outputs": [
    {
     "name": "stdout",
     "output_type": "stream",
     "text": [
      "Train Data\n",
      "PassengerId      0\n",
      "Survived         0\n",
      "Pclass           0\n",
      "Name             0\n",
      "Sex              0\n",
      "Age            177\n",
      "SibSp            0\n",
      "Parch            0\n",
      "Ticket           0\n",
      "Fare             0\n",
      "Cabin          687\n",
      "Embarked         2\n",
      "dtype: int64\n",
      "---------------\n",
      "Test Data\n",
      "PassengerId      0\n",
      "Pclass           0\n",
      "Name             0\n",
      "Sex              0\n",
      "Age             86\n",
      "SibSp            0\n",
      "Parch            0\n",
      "Ticket           0\n",
      "Fare             1\n",
      "Cabin          327\n",
      "Embarked         0\n",
      "dtype: int64\n"
     ]
    }
   ],
   "source": [
    "def printNa():\n",
    "    print(\"Train Data\")\n",
    "    print(train_df.isna().sum())\n",
    "    print(\"---------------\")\n",
    "    print(\"Test Data\")\n",
    "    print(test_df.isna().sum())\n",
    "\n",
    "\n",
    "printNa()"
   ]
  },
  {
   "cell_type": "markdown",
   "id": "47f371e3",
   "metadata": {
    "papermill": {
     "duration": 0.007766,
     "end_time": "2025-01-22T22:06:15.027130",
     "exception": false,
     "start_time": "2025-01-22T22:06:15.019364",
     "status": "completed"
    },
    "tags": []
   },
   "source": [
    "Visualizing the Missing Data"
   ]
  },
  {
   "cell_type": "code",
   "execution_count": 5,
   "id": "1149f13a",
   "metadata": {
    "execution": {
     "iopub.execute_input": "2025-01-22T22:06:15.044657Z",
     "iopub.status.busy": "2025-01-22T22:06:15.044243Z",
     "iopub.status.idle": "2025-01-22T22:06:17.747893Z",
     "shell.execute_reply": "2025-01-22T22:06:17.746477Z"
    },
    "papermill": {
     "duration": 2.715084,
     "end_time": "2025-01-22T22:06:17.750206",
     "exception": false,
     "start_time": "2025-01-22T22:06:15.035122",
     "status": "completed"
    },
    "tags": []
   },
   "outputs": [
    {
     "data": {
      "image/png": "[encoded data removed]",
      "text/plain": [
       "<Figure size 2000x500 with 2 Axes>"
      ]
     },
     "metadata": {},
     "output_type": "display_data"
    }
   ],
   "source": [
    "import seaborn as sns\n",
    "import matplotlib.pyplot as plt\n",
    "\n",
    "\n",
    "fig, ax = plt.subplots(1, 2, figsize=(20, 5))\n",
    "\n",
    "sns.heatmap(train_df.isna(), ax=ax[0], cbar=False)\n",
    "sns.heatmap(test_df.isna(), ax=ax[1], cbar=False)\n",
    "\n",
    "plt.show()"
   ]
  },
  {
   "cell_type": "markdown",
   "id": "df4a4b4d",
   "metadata": {
    "papermill": {
     "duration": 0.009206,
     "end_time": "2025-01-22T22:06:17.769058",
     "exception": false,
     "start_time": "2025-01-22T22:06:17.759852",
     "status": "completed"
    },
    "tags": []
   },
   "source": [
    "## **Data Cleaning**"
   ]
  },
  {
   "cell_type": "markdown",
   "id": "41ae3620",
   "metadata": {
    "papermill": {
     "duration": 0.008667,
     "end_time": "2025-01-22T22:06:17.786815",
     "exception": false,
     "start_time": "2025-01-22T22:06:17.778148",
     "status": "completed"
    },
    "tags": []
   },
   "source": [
    "## **Removing missing values**"
   ]
  },
  {
   "cell_type": "markdown",
   "id": "34f884f7",
   "metadata": {
    "papermill": {
     "duration": 0.009271,
     "end_time": "2025-01-22T22:06:17.805093",
     "exception": false,
     "start_time": "2025-01-22T22:06:17.795822",
     "status": "completed"
    },
    "tags": []
   },
   "source": [
    "##### Removing the embarked index from the test_df as it won't has much effect on the test_df"
   ]
  },
  {
   "cell_type": "markdown",
   "id": "847ad630",
   "metadata": {
    "papermill": {
     "duration": 0.008536,
     "end_time": "2025-01-22T22:06:17.822826",
     "exception": false,
     "start_time": "2025-01-22T22:06:17.814290",
     "status": "completed"
    },
    "tags": []
   },
   "source": [
    "#### Removing indexing of 2 missing value in embarked"
   ]
  },
  {
   "cell_type": "code",
   "execution_count": 6,
   "id": "ce46125d",
   "metadata": {
    "execution": {
     "iopub.execute_input": "2025-01-22T22:06:17.842319Z",
     "iopub.status.busy": "2025-01-22T22:06:17.841786Z",
     "iopub.status.idle": "2025-01-22T22:06:17.857088Z",
     "shell.execute_reply": "2025-01-22T22:06:17.855610Z"
    },
    "papermill": {
     "duration": 0.027409,
     "end_time": "2025-01-22T22:06:17.859202",
     "exception": false,
     "start_time": "2025-01-22T22:06:17.831793",
     "status": "completed"
    },
    "tags": []
   },
   "outputs": [
    {
     "name": "stdout",
     "output_type": "stream",
     "text": [
      "Train Data\n",
      "PassengerId      0\n",
      "Survived         0\n",
      "Pclass           0\n",
      "Name             0\n",
      "Sex              0\n",
      "Age            177\n",
      "SibSp            0\n",
      "Parch            0\n",
      "Ticket           0\n",
      "Fare             0\n",
      "Cabin          687\n",
      "Embarked         0\n",
      "dtype: int64\n",
      "---------------\n",
      "Test Data\n",
      "PassengerId      0\n",
      "Pclass           0\n",
      "Name             0\n",
      "Sex              0\n",
      "Age             86\n",
      "SibSp            0\n",
      "Parch            0\n",
      "Ticket           0\n",
      "Fare             1\n",
      "Cabin          327\n",
      "Embarked         0\n",
      "dtype: int64\n"
     ]
    }
   ],
   "source": [
    "train_df.dropna(subset=[\"Embarked\"], axis=0, how=\"all\", inplace=True)\n",
    "printNa()"
   ]
  },
  {
   "cell_type": "markdown",
   "id": "3e2b3962",
   "metadata": {
    "papermill": {
     "duration": 0.01398,
     "end_time": "2025-01-22T22:06:17.888110",
     "exception": false,
     "start_time": "2025-01-22T22:06:17.874130",
     "status": "completed"
    },
    "tags": []
   },
   "source": [
    "## **Adding Missing Values**"
   ]
  },
  {
   "cell_type": "markdown",
   "id": "ccc20c7f",
   "metadata": {
    "papermill": {
     "duration": 0.015131,
     "end_time": "2025-01-22T22:06:17.918634",
     "exception": false,
     "start_time": "2025-01-22T22:06:17.903503",
     "status": "completed"
    },
    "tags": []
   },
   "source": [
    "Age can be add based on:abs\n",
    "\n",
    "1. Median\n",
    "2. Mean\n",
    "3. Pclass function -> used Here"
   ]
  },
  {
   "cell_type": "code",
   "execution_count": 7,
   "id": "c212c4f1",
   "metadata": {
    "execution": {
     "iopub.execute_input": "2025-01-22T22:06:17.945384Z",
     "iopub.status.busy": "2025-01-22T22:06:17.944967Z",
     "iopub.status.idle": "2025-01-22T22:06:18.202352Z",
     "shell.execute_reply": "2025-01-22T22:06:18.200508Z"
    },
    "papermill": {
     "duration": 0.273666,
     "end_time": "2025-01-22T22:06:18.204774",
     "exception": false,
     "start_time": "2025-01-22T22:06:17.931108",
     "status": "completed"
    },
    "tags": []
   },
   "outputs": [
    {
     "data": {
      "text/plain": [
       "<Axes: xlabel='Pclass', ylabel='Age'>"
      ]
     },
     "execution_count": 7,
     "metadata": {},
     "output_type": "execute_result"
    },
    {
     "data": {
      "image/png": "[encoded data removed]",
      "text/plain": [
       "<Figure size 640x480 with 1 Axes>"
      ]
     },
     "metadata": {},
     "output_type": "display_data"
    }
   ],
   "source": [
    "sns.boxplot(x=train_df['Pclass'], y=train_df['Age'])"
   ]
  },
  {
   "cell_type": "code",
   "execution_count": 8,
   "id": "3da4e078",
   "metadata": {
    "execution": {
     "iopub.execute_input": "2025-01-22T22:06:18.233594Z",
     "iopub.status.busy": "2025-01-22T22:06:18.232877Z",
     "iopub.status.idle": "2025-01-22T22:06:18.253736Z",
     "shell.execute_reply": "2025-01-22T22:06:18.252084Z"
    },
    "papermill": {
     "duration": 0.038208,
     "end_time": "2025-01-22T22:06:18.255841",
     "exception": false,
     "start_time": "2025-01-22T22:06:18.217633",
     "status": "completed"
    },
    "tags": []
   },
   "outputs": [
    {
     "data": {
      "text/html": [
       "<div>\n",
       "<style scoped>\n",
       "    .dataframe tbody tr th:only-of-type {\n",
       "        vertical-align: middle;\n",
       "    }\n",
       "\n",
       "    .dataframe tbody tr th {\n",
       "        vertical-align: top;\n",
       "    }\n",
       "\n",
       "    .dataframe thead th {\n",
       "        text-align: right;\n",
       "    }\n",
       "</style>\n",
       "<table border=\"1\" class=\"dataframe\">\n",
       "  <thead>\n",
       "    <tr style=\"text-align: right;\">\n",
       "      <th></th>\n",
       "      <th>Age</th>\n",
       "    </tr>\n",
       "    <tr>\n",
       "      <th>Pclass</th>\n",
       "      <th></th>\n",
       "    </tr>\n",
       "  </thead>\n",
       "  <tbody>\n",
       "    <tr>\n",
       "      <th>1</th>\n",
       "      <td>38.105543</td>\n",
       "    </tr>\n",
       "    <tr>\n",
       "      <th>2</th>\n",
       "      <td>29.877630</td>\n",
       "    </tr>\n",
       "    <tr>\n",
       "      <th>3</th>\n",
       "      <td>25.140620</td>\n",
       "    </tr>\n",
       "  </tbody>\n",
       "</table>\n",
       "</div>"
      ],
      "text/plain": [
       "              Age\n",
       "Pclass           \n",
       "1       38.105543\n",
       "2       29.877630\n",
       "3       25.140620"
      ]
     },
     "execution_count": 8,
     "metadata": {},
     "output_type": "execute_result"
    }
   ],
   "source": [
    "pd.DataFrame(train_df.groupby('Pclass')['Age'].mean())"
   ]
  },
  {
   "cell_type": "code",
   "execution_count": 9,
   "id": "cb1f0891",
   "metadata": {
    "execution": {
     "iopub.execute_input": "2025-01-22T22:06:18.278486Z",
     "iopub.status.busy": "2025-01-22T22:06:18.278050Z",
     "iopub.status.idle": "2025-01-22T22:06:18.305951Z",
     "shell.execute_reply": "2025-01-22T22:06:18.304454Z"
    },
    "papermill": {
     "duration": 0.041479,
     "end_time": "2025-01-22T22:06:18.308004",
     "exception": false,
     "start_time": "2025-01-22T22:06:18.266525",
     "status": "completed"
    },
    "tags": []
   },
   "outputs": [
    {
     "name": "stdout",
     "output_type": "stream",
     "text": [
      "Train Data\n",
      "PassengerId      0\n",
      "Survived         0\n",
      "Pclass           0\n",
      "Name             0\n",
      "Sex              0\n",
      "Age              0\n",
      "SibSp            0\n",
      "Parch            0\n",
      "Ticket           0\n",
      "Fare             0\n",
      "Cabin          687\n",
      "Embarked         0\n",
      "dtype: int64\n",
      "---------------\n",
      "Test Data\n",
      "PassengerId      0\n",
      "Pclass           0\n",
      "Name             0\n",
      "Sex              0\n",
      "Age              0\n",
      "SibSp            0\n",
      "Parch            0\n",
      "Ticket           0\n",
      "Fare             1\n",
      "Cabin          327\n",
      "Embarked         0\n",
      "dtype: int64\n"
     ]
    }
   ],
   "source": [
    "def input_na_age(age, pclass):\n",
    "    if pd.isnull(age):\n",
    "        if pclass == 1:\n",
    "            return 38\n",
    "        elif pclass == 2:\n",
    "            return 30\n",
    "        else:\n",
    "            return 25\n",
    "    else:\n",
    "        return age\n",
    "\n",
    "train_df['Age'] = train_df.apply(lambda x: input_na_age(x['Age'], x['Pclass']), axis=1)\n",
    "test_df['Age'] = test_df.apply(lambda x: input_na_age(x['Age'], x['Pclass']), axis=1)\n",
    "\n",
    "printNa()"
   ]
  },
  {
   "cell_type": "markdown",
   "id": "d66ce408",
   "metadata": {
    "papermill": {
     "duration": 0.010676,
     "end_time": "2025-01-22T22:06:18.329668",
     "exception": false,
     "start_time": "2025-01-22T22:06:18.318992",
     "status": "completed"
    },
    "tags": []
   },
   "source": [
    "There is a missing value in the test_df **Fare**"
   ]
  },
  {
   "cell_type": "code",
   "execution_count": 10,
   "id": "5d61bb9a",
   "metadata": {
    "execution": {
     "iopub.execute_input": "2025-01-22T22:06:18.352405Z",
     "iopub.status.busy": "2025-01-22T22:06:18.351982Z",
     "iopub.status.idle": "2025-01-22T22:06:18.369789Z",
     "shell.execute_reply": "2025-01-22T22:06:18.368117Z"
    },
    "papermill": {
     "duration": 0.031486,
     "end_time": "2025-01-22T22:06:18.371642",
     "exception": false,
     "start_time": "2025-01-22T22:06:18.340156",
     "status": "completed"
    },
    "tags": []
   },
   "outputs": [
    {
     "data": {
      "text/html": [
       "<div>\n",
       "<style scoped>\n",
       "    .dataframe tbody tr th:only-of-type {\n",
       "        vertical-align: middle;\n",
       "    }\n",
       "\n",
       "    .dataframe tbody tr th {\n",
       "        vertical-align: top;\n",
       "    }\n",
       "\n",
       "    .dataframe thead th {\n",
       "        text-align: right;\n",
       "    }\n",
       "</style>\n",
       "<table border=\"1\" class=\"dataframe\">\n",
       "  <thead>\n",
       "    <tr style=\"text-align: right;\">\n",
       "      <th></th>\n",
       "      <th>PassengerId</th>\n",
       "      <th>Pclass</th>\n",
       "      <th>Name</th>\n",
       "      <th>Sex</th>\n",
       "      <th>Age</th>\n",
       "      <th>SibSp</th>\n",
       "      <th>Parch</th>\n",
       "      <th>Ticket</th>\n",
       "      <th>Fare</th>\n",
       "      <th>Cabin</th>\n",
       "      <th>Embarked</th>\n",
       "    </tr>\n",
       "  </thead>\n",
       "  <tbody>\n",
       "    <tr>\n",
       "      <th>0</th>\n",
       "      <td>892</td>\n",
       "      <td>3</td>\n",
       "      <td>Kelly, Mr. James</td>\n",
       "      <td>male</td>\n",
       "      <td>34.5</td>\n",
       "      <td>0</td>\n",
       "      <td>0</td>\n",
       "      <td>330911</td>\n",
       "      <td>7.8292</td>\n",
       "      <td>NaN</td>\n",
       "      <td>Q</td>\n",
       "    </tr>\n",
       "    <tr>\n",
       "      <th>1</th>\n",
       "      <td>893</td>\n",
       "      <td>3</td>\n",
       "      <td>Wilkes, Mrs. James (Ellen Needs)</td>\n",
       "      <td>female</td>\n",
       "      <td>47.0</td>\n",
       "      <td>1</td>\n",
       "      <td>0</td>\n",
       "      <td>363272</td>\n",
       "      <td>7.0000</td>\n",
       "      <td>NaN</td>\n",
       "      <td>S</td>\n",
       "    </tr>\n",
       "    <tr>\n",
       "      <th>2</th>\n",
       "      <td>894</td>\n",
       "      <td>2</td>\n",
       "      <td>Myles, Mr. Thomas Francis</td>\n",
       "      <td>male</td>\n",
       "      <td>62.0</td>\n",
       "      <td>0</td>\n",
       "      <td>0</td>\n",
       "      <td>240276</td>\n",
       "      <td>9.6875</td>\n",
       "      <td>NaN</td>\n",
       "      <td>Q</td>\n",
       "    </tr>\n",
       "    <tr>\n",
       "      <th>3</th>\n",
       "      <td>895</td>\n",
       "      <td>3</td>\n",
       "      <td>Wirz, Mr. Albert</td>\n",
       "      <td>male</td>\n",
       "      <td>27.0</td>\n",
       "      <td>0</td>\n",
       "      <td>0</td>\n",
       "      <td>315154</td>\n",
       "      <td>8.6625</td>\n",
       "      <td>NaN</td>\n",
       "      <td>S</td>\n",
       "    </tr>\n",
       "    <tr>\n",
       "      <th>4</th>\n",
       "      <td>896</td>\n",
       "      <td>3</td>\n",
       "      <td>Hirvonen, Mrs. Alexander (Helga E Lindqvist)</td>\n",
       "      <td>female</td>\n",
       "      <td>22.0</td>\n",
       "      <td>1</td>\n",
       "      <td>1</td>\n",
       "      <td>3101298</td>\n",
       "      <td>12.2875</td>\n",
       "      <td>NaN</td>\n",
       "      <td>S</td>\n",
       "    </tr>\n",
       "    <tr>\n",
       "      <th>...</th>\n",
       "      <td>...</td>\n",
       "      <td>...</td>\n",
       "      <td>...</td>\n",
       "      <td>...</td>\n",
       "      <td>...</td>\n",
       "      <td>...</td>\n",
       "      <td>...</td>\n",
       "      <td>...</td>\n",
       "      <td>...</td>\n",
       "      <td>...</td>\n",
       "      <td>...</td>\n",
       "    </tr>\n",
       "    <tr>\n",
       "      <th>413</th>\n",
       "      <td>1305</td>\n",
       "      <td>3</td>\n",
       "      <td>Spector, Mr. Woolf</td>\n",
       "      <td>male</td>\n",
       "      <td>25.0</td>\n",
       "      <td>0</td>\n",
       "      <td>0</td>\n",
       "      <td>A.5. 3236</td>\n",
       "      <td>8.0500</td>\n",
       "      <td>NaN</td>\n",
       "      <td>S</td>\n",
       "    </tr>\n",
       "    <tr>\n",
       "      <th>414</th>\n",
       "      <td>1306</td>\n",
       "      <td>1</td>\n",
       "      <td>Oliva y Ocana, Dona. Fermina</td>\n",
       "      <td>female</td>\n",
       "      <td>39.0</td>\n",
       "      <td>0</td>\n",
       "      <td>0</td>\n",
       "      <td>PC 17758</td>\n",
       "      <td>108.9000</td>\n",
       "      <td>C105</td>\n",
       "      <td>C</td>\n",
       "    </tr>\n",
       "    <tr>\n",
       "      <th>415</th>\n",
       "      <td>1307</td>\n",
       "      <td>3</td>\n",
       "      <td>Saether, Mr. Simon Sivertsen</td>\n",
       "      <td>male</td>\n",
       "      <td>38.5</td>\n",
       "      <td>0</td>\n",
       "      <td>0</td>\n",
       "      <td>SOTON/O.Q. 3101262</td>\n",
       "      <td>7.2500</td>\n",
       "      <td>NaN</td>\n",
       "      <td>S</td>\n",
       "    </tr>\n",
       "    <tr>\n",
       "      <th>416</th>\n",
       "      <td>1308</td>\n",
       "      <td>3</td>\n",
       "      <td>Ware, Mr. Frederick</td>\n",
       "      <td>male</td>\n",
       "      <td>25.0</td>\n",
       "      <td>0</td>\n",
       "      <td>0</td>\n",
       "      <td>359309</td>\n",
       "      <td>8.0500</td>\n",
       "      <td>NaN</td>\n",
       "      <td>S</td>\n",
       "    </tr>\n",
       "    <tr>\n",
       "      <th>417</th>\n",
       "      <td>1309</td>\n",
       "      <td>3</td>\n",
       "      <td>Peter, Master. Michael J</td>\n",
       "      <td>male</td>\n",
       "      <td>25.0</td>\n",
       "      <td>1</td>\n",
       "      <td>1</td>\n",
       "      <td>2668</td>\n",
       "      <td>22.3583</td>\n",
       "      <td>NaN</td>\n",
       "      <td>C</td>\n",
       "    </tr>\n",
       "  </tbody>\n",
       "</table>\n",
       "<p>418 rows × 11 columns</p>\n",
       "</div>"
      ],
      "text/plain": [
       "     PassengerId  Pclass                                          Name  \\\n",
       "0            892       3                              Kelly, Mr. James   \n",
       "1            893       3              Wilkes, Mrs. James (Ellen Needs)   \n",
       "2            894       2                     Myles, Mr. Thomas Francis   \n",
       "3            895       3                              Wirz, Mr. Albert   \n",
       "4            896       3  Hirvonen, Mrs. Alexander (Helga E Lindqvist)   \n",
       "..           ...     ...                                           ...   \n",
       "413         1305       3                            Spector, Mr. Woolf   \n",
       "414         1306       1                  Oliva y Ocana, Dona. Fermina   \n",
       "415         1307       3                  Saether, Mr. Simon Sivertsen   \n",
       "416         1308       3                           Ware, Mr. Frederick   \n",
       "417         1309       3                      Peter, Master. Michael J   \n",
       "\n",
       "        Sex   Age  SibSp  Parch              Ticket      Fare Cabin Embarked  \n",
       "0      male  34.5      0      0              330911    7.8292   NaN        Q  \n",
       "1    female  47.0      1      0              363272    7.0000   NaN        S  \n",
       "2      male  62.0      0      0              240276    9.6875   NaN        Q  \n",
       "3      male  27.0      0      0              315154    8.6625   NaN        S  \n",
       "4    female  22.0      1      1             3101298   12.2875   NaN        S  \n",
       "..      ...   ...    ...    ...                 ...       ...   ...      ...  \n",
       "413    male  25.0      0      0           A.5. 3236    8.0500   NaN        S  \n",
       "414  female  39.0      0      0            PC 17758  108.9000  C105        C  \n",
       "415    male  38.5      0      0  SOTON/O.Q. 3101262    7.2500   NaN        S  \n",
       "416    male  25.0      0      0              359309    8.0500   NaN        S  \n",
       "417    male  25.0      1      1                2668   22.3583   NaN        C  \n",
       "\n",
       "[418 rows x 11 columns]"
      ]
     },
     "execution_count": 10,
     "metadata": {},
     "output_type": "execute_result"
    }
   ],
   "source": [
    "test_df['Fare'] = test_df['Fare'].fillna(train_df['Fare'].mean())\n",
    "test_df"
   ]
  },
  {
   "cell_type": "markdown",
   "id": "d37357b2",
   "metadata": {
    "papermill": {
     "duration": 0.011553,
     "end_time": "2025-01-22T22:06:18.394226",
     "exception": false,
     "start_time": "2025-01-22T22:06:18.382673",
     "status": "completed"
    },
    "tags": []
   },
   "source": [
    "#### **Converting the non-numerical to numerical**"
   ]
  },
  {
   "cell_type": "code",
   "execution_count": 11,
   "id": "cbc492cf",
   "metadata": {
    "execution": {
     "iopub.execute_input": "2025-01-22T22:06:18.418551Z",
     "iopub.status.busy": "2025-01-22T22:06:18.418075Z",
     "iopub.status.idle": "2025-01-22T22:06:18.605006Z",
     "shell.execute_reply": "2025-01-22T22:06:18.603929Z"
    },
    "papermill": {
     "duration": 0.201426,
     "end_time": "2025-01-22T22:06:18.607299",
     "exception": false,
     "start_time": "2025-01-22T22:06:18.405873",
     "status": "completed"
    },
    "tags": []
   },
   "outputs": [],
   "source": [
    "from sklearn.preprocessing import LabelEncoder\n",
    "\n",
    "le = LabelEncoder()"
   ]
  },
  {
   "cell_type": "code",
   "execution_count": 12,
   "id": "58d878ed",
   "metadata": {
    "execution": {
     "iopub.execute_input": "2025-01-22T22:06:18.631200Z",
     "iopub.status.busy": "2025-01-22T22:06:18.630812Z",
     "iopub.status.idle": "2025-01-22T22:06:18.639286Z",
     "shell.execute_reply": "2025-01-22T22:06:18.638134Z"
    },
    "papermill": {
     "duration": 0.022925,
     "end_time": "2025-01-22T22:06:18.641199",
     "exception": false,
     "start_time": "2025-01-22T22:06:18.618274",
     "status": "completed"
    },
    "tags": []
   },
   "outputs": [],
   "source": [
    "train_df['Sex'] = le.fit_transform(train_df['Sex'])\n",
    "\n",
    "test_df['Sex'] = le.fit_transform(test_df['Sex'])\n",
    "\n",
    "train_df['Embarked'] = le.fit_transform(train_df['Embarked'])\n",
    "\n",
    "test_df['Embarked'] = le.fit_transform(test_df['Embarked'])"
   ]
  },
  {
   "cell_type": "code",
   "execution_count": 13,
   "id": "b55be51a",
   "metadata": {
    "execution": {
     "iopub.execute_input": "2025-01-22T22:06:18.664460Z",
     "iopub.status.busy": "2025-01-22T22:06:18.664022Z",
     "iopub.status.idle": "2025-01-22T22:06:19.218757Z",
     "shell.execute_reply": "2025-01-22T22:06:19.217621Z"
    },
    "papermill": {
     "duration": 0.568731,
     "end_time": "2025-01-22T22:06:19.220749",
     "exception": false,
     "start_time": "2025-01-22T22:06:18.652018",
     "status": "completed"
    },
    "tags": []
   },
   "outputs": [
    {
     "name": "stderr",
     "output_type": "stream",
     "text": [
      "/usr/local/lib/python3.10/dist-packages/seaborn/_oldcore.py:1119: FutureWarning: use_inf_as_na option is deprecated and will be removed in a future version. Convert inf values to NaN before operating instead.\n",
      "  with pd.option_context('mode.use_inf_as_na', True):\n"
     ]
    },
    {
     "data": {
      "text/plain": [
       "<seaborn.axisgrid.FacetGrid at 0x7d3d89f7cdc0>"
      ]
     },
     "execution_count": 13,
     "metadata": {},
     "output_type": "execute_result"
    },
    {
     "data": {
      "image/png": "[encoded data removed]",
      "text/plain": [
       "<Figure size 900x300 with 1 Axes>"
      ]
     },
     "metadata": {},
     "output_type": "display_data"
    }
   ],
   "source": [
    "sns.displot(train_df['Fare'], kde=True, height=3, aspect=3/1)"
   ]
  },
  {
   "cell_type": "markdown",
   "id": "25b96cd7",
   "metadata": {
    "papermill": {
     "duration": 0.01052,
     "end_time": "2025-01-22T22:06:19.242084",
     "exception": false,
     "start_time": "2025-01-22T22:06:19.231564",
     "status": "completed"
    },
    "tags": []
   },
   "source": [
    "## **Feature Scaling**"
   ]
  },
  {
   "cell_type": "code",
   "execution_count": 14,
   "id": "573302e6",
   "metadata": {
    "execution": {
     "iopub.execute_input": "2025-01-22T22:06:19.265864Z",
     "iopub.status.busy": "2025-01-22T22:06:19.265405Z",
     "iopub.status.idle": "2025-01-22T22:06:19.278522Z",
     "shell.execute_reply": "2025-01-22T22:06:19.277193Z"
    },
    "papermill": {
     "duration": 0.027622,
     "end_time": "2025-01-22T22:06:19.280736",
     "exception": false,
     "start_time": "2025-01-22T22:06:19.253114",
     "status": "completed"
    },
    "tags": []
   },
   "outputs": [],
   "source": [
    "train_df[\"Fare\"] = train_df[\"Fare\"].apply(lambda x: np.log(x) if x > 0 else 0)\n",
    "train_df[\"Age\"] = train_df[\"Age\"].apply(lambda x: np.log(x) if x > 0 else 0)\n",
    "test_df[\"Fare\"] = test_df[\"Fare\"].apply(lambda x: np.log(x) if x > 0 else 0)\n",
    "test_df[\"Age\"] = test_df[\"Age\"].apply(lambda x: np.log(x) if x > 0 else 0)"
   ]
  },
  {
   "cell_type": "code",
   "execution_count": 15,
   "id": "92615a08",
   "metadata": {
    "execution": {
     "iopub.execute_input": "2025-01-22T22:06:19.303871Z",
     "iopub.status.busy": "2025-01-22T22:06:19.303421Z",
     "iopub.status.idle": "2025-01-22T22:06:19.611131Z",
     "shell.execute_reply": "2025-01-22T22:06:19.609993Z"
    },
    "papermill": {
     "duration": 0.321943,
     "end_time": "2025-01-22T22:06:19.613393",
     "exception": false,
     "start_time": "2025-01-22T22:06:19.291450",
     "status": "completed"
    },
    "tags": []
   },
   "outputs": [
    {
     "name": "stderr",
     "output_type": "stream",
     "text": [
      "/usr/local/lib/python3.10/dist-packages/seaborn/_oldcore.py:1119: FutureWarning: use_inf_as_na option is deprecated and will be removed in a future version. Convert inf values to NaN before operating instead.\n",
      "  with pd.option_context('mode.use_inf_as_na', True):\n"
     ]
    },
    {
     "data": {
      "text/plain": [
       "<seaborn.axisgrid.FacetGrid at 0x7d3d8a1b3fa0>"
      ]
     },
     "execution_count": 15,
     "metadata": {},
     "output_type": "execute_result"
    },
    {
     "data": {
      "image/png": "[encoded data removed]",
      "text/plain": [
       "<Figure size 900x300 with 1 Axes>"
      ]
     },
     "metadata": {},
     "output_type": "display_data"
    }
   ],
   "source": [
    "sns.displot(train_df['Fare'], kde=True, height=3, aspect=3/1)"
   ]
  },
  {
   "cell_type": "markdown",
   "id": "c1753f28",
   "metadata": {
    "papermill": {
     "duration": 0.011763,
     "end_time": "2025-01-22T22:06:19.637595",
     "exception": false,
     "start_time": "2025-01-22T22:06:19.625832",
     "status": "completed"
    },
    "tags": []
   },
   "source": [
    "# **Fitting Models**"
   ]
  },
  {
   "cell_type": "code",
   "execution_count": 16,
   "id": "81b7b997",
   "metadata": {
    "execution": {
     "iopub.execute_input": "2025-01-22T22:06:19.664586Z",
     "iopub.status.busy": "2025-01-22T22:06:19.664103Z",
     "iopub.status.idle": "2025-01-22T22:06:20.281210Z",
     "shell.execute_reply": "2025-01-22T22:06:20.279615Z"
    },
    "papermill": {
     "duration": 0.632836,
     "end_time": "2025-01-22T22:06:20.283420",
     "exception": false,
     "start_time": "2025-01-22T22:06:19.650584",
     "status": "completed"
    },
    "tags": []
   },
   "outputs": [],
   "source": [
    "from sklearn.tree import DecisionTreeClassifier\n",
    "from sklearn.ensemble import RandomForestClassifier\n",
    "from sklearn.metrics import classification_report, accuracy_score\n",
    "from sklearn.model_selection import GridSearchCV\n",
    "\n",
    "\n",
    "\n",
    "dtc = DecisionTreeClassifier()\n",
    "rfc = RandomForestClassifier(n_jobs=-1)"
   ]
  },
  {
   "cell_type": "code",
   "execution_count": 17,
   "id": "beaf185c",
   "metadata": {
    "execution": {
     "iopub.execute_input": "2025-01-22T22:06:20.308585Z",
     "iopub.status.busy": "2025-01-22T22:06:20.308099Z",
     "iopub.status.idle": "2025-01-22T22:06:20.318565Z",
     "shell.execute_reply": "2025-01-22T22:06:20.317377Z"
    },
    "papermill": {
     "duration": 0.02544,
     "end_time": "2025-01-22T22:06:20.320602",
     "exception": false,
     "start_time": "2025-01-22T22:06:20.295162",
     "status": "completed"
    },
    "tags": []
   },
   "outputs": [],
   "source": [
    "from sklearn.model_selection import train_test_split\n",
    "\n",
    "X = train_df[['Pclass', \"Sex\", \"SibSp\", \"Parch\", \"Fare\", \"Age\", \"Embarked\"]]\n",
    "y = train_df['Survived']\n",
    "\n",
    "X_train, X_test, y_train, y_test = train_test_split(X, y, shuffle=True) "
   ]
  },
  {
   "cell_type": "code",
   "execution_count": 18,
   "id": "5c00993b",
   "metadata": {
    "execution": {
     "iopub.execute_input": "2025-01-22T22:06:20.344951Z",
     "iopub.status.busy": "2025-01-22T22:06:20.344493Z",
     "iopub.status.idle": "2025-01-22T22:06:20.362103Z",
     "shell.execute_reply": "2025-01-22T22:06:20.360741Z"
    },
    "papermill": {
     "duration": 0.032211,
     "end_time": "2025-01-22T22:06:20.364276",
     "exception": false,
     "start_time": "2025-01-22T22:06:20.332065",
     "status": "completed"
    },
    "tags": []
   },
   "outputs": [
    {
     "data": {
      "text/plain": [
       "0.9834834834834835"
      ]
     },
     "execution_count": 18,
     "metadata": {},
     "output_type": "execute_result"
    }
   ],
   "source": [
    "model = dtc.fit(X_train, y_train)\n",
    "model.score(X_train, y_train)"
   ]
  },
  {
   "cell_type": "code",
   "execution_count": 19,
   "id": "8422ab89",
   "metadata": {
    "execution": {
     "iopub.execute_input": "2025-01-22T22:06:20.391525Z",
     "iopub.status.busy": "2025-01-22T22:06:20.391123Z",
     "iopub.status.idle": "2025-01-22T22:06:20.409279Z",
     "shell.execute_reply": "2025-01-22T22:06:20.407480Z"
    },
    "papermill": {
     "duration": 0.033723,
     "end_time": "2025-01-22T22:06:20.411669",
     "exception": false,
     "start_time": "2025-01-22T22:06:20.377946",
     "status": "completed"
    },
    "tags": []
   },
   "outputs": [
    {
     "name": "stdout",
     "output_type": "stream",
     "text": [
      "              precision    recall  f1-score   support\n",
      "\n",
      "           0       0.88      0.88      0.88       140\n",
      "           1       0.80      0.80      0.80        83\n",
      "\n",
      "    accuracy                           0.85       223\n",
      "   macro avg       0.84      0.84      0.84       223\n",
      "weighted avg       0.85      0.85      0.85       223\n",
      "\n",
      "0.8475336322869955\n"
     ]
    }
   ],
   "source": [
    "pred = model.predict(X_test)\n",
    "print(classification_report(y_test, pred))\n",
    "print(accuracy_score(y_test, pred))"
   ]
  },
  {
   "cell_type": "code",
   "execution_count": 20,
   "id": "9438dd7f",
   "metadata": {
    "execution": {
     "iopub.execute_input": "2025-01-22T22:06:20.437890Z",
     "iopub.status.busy": "2025-01-22T22:06:20.437306Z",
     "iopub.status.idle": "2025-01-22T22:06:20.981787Z",
     "shell.execute_reply": "2025-01-22T22:06:20.980514Z"
    },
    "papermill": {
     "duration": 0.560062,
     "end_time": "2025-01-22T22:06:20.984046",
     "exception": false,
     "start_time": "2025-01-22T22:06:20.423984",
     "status": "completed"
    },
    "tags": []
   },
   "outputs": [
    {
     "name": "stdout",
     "output_type": "stream",
     "text": [
      "{'criterion': 'entropy', 'max_features': 'log2', 'min_samples_split': 10}\n"
     ]
    }
   ],
   "source": [
    "param_grid = {\n",
    "    \"criterion\": [\"entropy\", \"gini\"],\n",
    "    \"max_features\": [\"sqrt\", \"log2\"],\n",
    "    \"min_samples_split\": [2, 4, 6, 8, 10]\n",
    "}\n",
    "\n",
    "grid_search = GridSearchCV(dtc, param_grid, scoring=\"accuracy\", cv=5)\n",
    "grid_search.fit(X_train, y_train)\n",
    "\n",
    "\n",
    "print(grid_search.best_params_)"
   ]
  },
  {
   "cell_type": "code",
   "execution_count": 21,
   "id": "c9f5a4af",
   "metadata": {
    "execution": {
     "iopub.execute_input": "2025-01-22T22:06:21.009787Z",
     "iopub.status.busy": "2025-01-22T22:06:21.009387Z",
     "iopub.status.idle": "2025-01-22T22:06:21.013884Z",
     "shell.execute_reply": "2025-01-22T22:06:21.012521Z"
    },
    "papermill": {
     "duration": 0.019616,
     "end_time": "2025-01-22T22:06:21.015834",
     "exception": false,
     "start_time": "2025-01-22T22:06:20.996218",
     "status": "completed"
    },
    "tags": []
   },
   "outputs": [],
   "source": [
    "model_dtc = grid_search.best_estimator_"
   ]
  },
  {
   "cell_type": "code",
   "execution_count": 22,
   "id": "7540c6d7",
   "metadata": {
    "execution": {
     "iopub.execute_input": "2025-01-22T22:06:21.041401Z",
     "iopub.status.busy": "2025-01-22T22:06:21.040965Z",
     "iopub.status.idle": "2025-01-22T22:06:21.048152Z",
     "shell.execute_reply": "2025-01-22T22:06:21.046831Z"
    },
    "papermill": {
     "duration": 0.021906,
     "end_time": "2025-01-22T22:06:21.049870",
     "exception": false,
     "start_time": "2025-01-22T22:06:21.027964",
     "status": "completed"
    },
    "tags": []
   },
   "outputs": [],
   "source": [
    "y_pred = model_dtc.predict(X_test)"
   ]
  },
  {
   "cell_type": "code",
   "execution_count": 23,
   "id": "e3d53954",
   "metadata": {
    "execution": {
     "iopub.execute_input": "2025-01-22T22:06:21.074749Z",
     "iopub.status.busy": "2025-01-22T22:06:21.074371Z",
     "iopub.status.idle": "2025-01-22T22:06:21.083979Z",
     "shell.execute_reply": "2025-01-22T22:06:21.082686Z"
    },
    "papermill": {
     "duration": 0.024439,
     "end_time": "2025-01-22T22:06:21.086091",
     "exception": false,
     "start_time": "2025-01-22T22:06:21.061652",
     "status": "completed"
    },
    "tags": []
   },
   "outputs": [
    {
     "data": {
      "text/plain": [
       "0.8295964125560538"
      ]
     },
     "execution_count": 23,
     "metadata": {},
     "output_type": "execute_result"
    }
   ],
   "source": [
    "accuracy = model_dtc.score(X_test, y_test)\n",
    "accuracy"
   ]
  },
  {
   "cell_type": "code",
   "execution_count": 24,
   "id": "f4c5484d",
   "metadata": {
    "execution": {
     "iopub.execute_input": "2025-01-22T22:06:21.112698Z",
     "iopub.status.busy": "2025-01-22T22:06:21.112291Z",
     "iopub.status.idle": "2025-01-22T22:09:04.184228Z",
     "shell.execute_reply": "2025-01-22T22:09:04.182745Z"
    },
    "papermill": {
     "duration": 163.098561,
     "end_time": "2025-01-22T22:09:04.197264",
     "exception": false,
     "start_time": "2025-01-22T22:06:21.098703",
     "status": "completed"
    },
    "tags": []
   },
   "outputs": [
    {
     "name": "stdout",
     "output_type": "stream",
     "text": [
      "{'criterion': 'entropy', 'max_depth': 10, 'max_features': 'log2', 'n_estimators': 100}\n"
     ]
    }
   ],
   "source": [
    "param_grid = {\n",
    "    \"criterion\": [\"entropy\", \"gini\"],\n",
    "    \"max_features\": [\"sqrt\", \"log2\"],\n",
    "    \"n_estimators\": [50, 100, 150, 200],\n",
    "    \"max_depth\": [None, 10, 20, 30]\n",
    "}\n",
    "\n",
    "\n",
    "grid_search = GridSearchCV(rfc, param_grid, scoring=\"accuracy\", cv=5)\n",
    "grid_search.fit(X_train, y_train)\n",
    "\n",
    "print(grid_search.best_params_)"
   ]
  },
  {
   "cell_type": "code",
   "execution_count": 25,
   "id": "36e02757",
   "metadata": {
    "execution": {
     "iopub.execute_input": "2025-01-22T22:09:04.222276Z",
     "iopub.status.busy": "2025-01-22T22:09:04.221869Z",
     "iopub.status.idle": "2025-01-22T22:09:04.332283Z",
     "shell.execute_reply": "2025-01-22T22:09:04.331007Z"
    },
    "papermill": {
     "duration": 0.125593,
     "end_time": "2025-01-22T22:09:04.334533",
     "exception": false,
     "start_time": "2025-01-22T22:09:04.208940",
     "status": "completed"
    },
    "tags": []
   },
   "outputs": [
    {
     "data": {
      "text/plain": [
       "0.8475336322869955"
      ]
     },
     "execution_count": 25,
     "metadata": {},
     "output_type": "execute_result"
    }
   ],
   "source": [
    "model_rfc = grid_search.best_estimator_\n",
    "\n",
    "y_pred = model_rfc.predict(X_test)\n",
    "\n",
    "accuracy = model_rfc.score(X_test, y_test)\n",
    "\n",
    "accuracy"
   ]
  },
  {
   "cell_type": "code",
   "execution_count": 26,
   "id": "e5018301",
   "metadata": {
    "execution": {
     "iopub.execute_input": "2025-01-22T22:09:04.361730Z",
     "iopub.status.busy": "2025-01-22T22:09:04.361315Z",
     "iopub.status.idle": "2025-01-22T22:09:04.428163Z",
     "shell.execute_reply": "2025-01-22T22:09:04.427009Z"
    },
    "papermill": {
     "duration": 0.082915,
     "end_time": "2025-01-22T22:09:04.430552",
     "exception": false,
     "start_time": "2025-01-22T22:09:04.347637",
     "status": "completed"
    },
    "tags": []
   },
   "outputs": [],
   "source": [
    "predictions = model_rfc.predict(test_df[['Pclass', \"Sex\", \"SibSp\", \"Parch\", \"Fare\", \"Age\", \"Embarked\"]])"
   ]
  },
  {
   "cell_type": "code",
   "execution_count": 27,
   "id": "36f49e65",
   "metadata": {
    "execution": {
     "iopub.execute_input": "2025-01-22T22:09:04.458100Z",
     "iopub.status.busy": "2025-01-22T22:09:04.457751Z",
     "iopub.status.idle": "2025-01-22T22:09:04.472519Z",
     "shell.execute_reply": "2025-01-22T22:09:04.471145Z"
    },
    "papermill": {
     "duration": 0.030629,
     "end_time": "2025-01-22T22:09:04.474468",
     "exception": false,
     "start_time": "2025-01-22T22:09:04.443839",
     "status": "completed"
    },
    "tags": []
   },
   "outputs": [
    {
     "name": "stdout",
     "output_type": "stream",
     "text": [
      "Your submission was successfully saved!\n"
     ]
    }
   ],
   "source": [
    "output = pd.DataFrame({'PassengerId': test_df.PassengerId, 'Survived': predictions})\n",
    "output.to_csv('submission.csv', index=False)\n",
    "print(\"Your submission was successfully saved!\")"
   ]
  }
 ],
 "metadata": {
  "kaggle": {
   "accelerator": "none",
   "dataSources": [
    {
     "databundleVersionId": 26502,
     "sourceId": 3136,
     "sourceType": "competition"
    }
   ],
   "dockerImageVersionId": 30839,
   "isGpuEnabled": false,
   "isInternetEnabled": false,
   "language": "python",
   "sourceType": "notebook"
  },
  "kernelspec": {
   "display_name": "Python 3",
   "language": "python",
   "name": "python3"
  },
  "language_info": {
   "codemirror_mode": {
    "name": "ipython",
    "version": 3
   },
   "file_extension": ".py",
   "mimetype": "text/x-python",
   "name": "python",
   "nbconvert_exporter": "python",
   "pygments_lexer": "ipython3",
   "version": "3.10.12"
  },
  "papermill": {
   "default_parameters": {},
   "duration": 174.741888,
   "end_time": "2025-01-22T22:09:05.510636",
   "environment_variables": {},
   "exception": null,
   "input_path": "__notebook__.ipynb",
   "output_path": "__notebook__.ipynb",
   "parameters": {},
   "start_time": "2025-01-22T22:06:10.768748",
   "version": "2.6.0"
  }
 },
 "nbformat": 4,
 "nbformat_minor": 5
}
