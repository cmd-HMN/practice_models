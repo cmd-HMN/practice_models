{
 "cells": [
  {
   "cell_type": "markdown",
   "id": "ca86a4fd",
   "metadata": {
    "papermill": {
     "duration": 0.004995,
     "end_time": "2025-07-31T19:30:02.197672",
     "exception": false,
     "start_time": "2025-07-31T19:30:02.192677",
     "status": "completed"
    },
    "tags": []
   },
   "source": [
    "# <p style=\"font-family:Roboto Slab; font-weight:bold; letter-spacing: 2px; color:#8A2BE2; font-size:200%; text-align:left; padding: 0px; display: inline-block; border-bottom: 4px solid #4B0082;\"> Training </p>"
   ]
  },
  {
   "cell_type": "code",
   "execution_count": 1,
   "id": "0ada0eb2",
   "metadata": {
    "_cell_guid": "b1076dfc-b9ad-4769-8c92-a6c4dae69d19",
    "_kg_hide-input": true,
    "_kg_hide-output": true,
    "_uuid": "8f2839f25d086af736a60e9eeb907d3b93b6e0e5",
    "execution": {
     "iopub.execute_input": "2025-07-31T19:30:02.207318Z",
     "iopub.status.busy": "2025-07-31T19:30:02.206984Z",
     "iopub.status.idle": "2025-07-31T19:30:22.155316Z",
     "shell.execute_reply": "2025-07-31T19:30:22.154030Z"
    },
    "papermill": {
     "duration": 19.956006,
     "end_time": "2025-07-31T19:30:22.157974",
     "exception": false,
     "start_time": "2025-07-31T19:30:02.201968",
     "status": "completed"
    },
    "tags": []
   },
   "outputs": [
    {
     "name": "stdout",
     "output_type": "stream",
     "text": [
      "Collecting cmaes\r\n",
      "  Downloading cmaes-0.12.0-py3-none-any.whl.metadata (29 kB)\r\n",
      "Requirement already satisfied: numpy in /usr/local/lib/python3.11/dist-packages (from cmaes) (1.26.4)\r\n",
      "Requirement already satisfied: mkl_fft in /usr/local/lib/python3.11/dist-packages (from numpy->cmaes) (1.3.8)\r\n",
      "Requirement already satisfied: mkl_random in /usr/local/lib/python3.11/dist-packages (from numpy->cmaes) (1.2.4)\r\n",
      "Requirement already satisfied: mkl_umath in /usr/local/lib/python3.11/dist-packages (from numpy->cmaes) (0.1.1)\r\n",
      "Requirement already satisfied: mkl in /usr/local/lib/python3.11/dist-packages (from numpy->cmaes) (2025.2.0)\r\n",
      "Requirement already satisfied: tbb4py in /usr/local/lib/python3.11/dist-packages (from numpy->cmaes) (2022.2.0)\r\n",
      "Requirement already satisfied: mkl-service in /usr/local/lib/python3.11/dist-packages (from numpy->cmaes) (2.4.1)\r\n",
      "Requirement already satisfied: intel-openmp<2026,>=2024 in /usr/local/lib/python3.11/dist-packages (from mkl->numpy->cmaes) (2024.2.0)\r\n",
      "Requirement already satisfied: tbb==2022.* in /usr/local/lib/python3.11/dist-packages (from mkl->numpy->cmaes) (2022.2.0)\r\n",
      "Requirement already satisfied: tcmlib==1.* in /usr/local/lib/python3.11/dist-packages (from tbb==2022.*->mkl->numpy->cmaes) (1.4.0)\r\n",
      "Requirement already satisfied: intel-cmplr-lib-rt in /usr/local/lib/python3.11/dist-packages (from mkl_umath->numpy->cmaes) (2024.2.0)\r\n",
      "Requirement already satisfied: intel-cmplr-lib-ur==2024.2.0 in /usr/local/lib/python3.11/dist-packages (from intel-openmp<2026,>=2024->mkl->numpy->cmaes) (2024.2.0)\r\n",
      "Downloading cmaes-0.12.0-py3-none-any.whl (64 kB)\r\n",
      "\u001b[2K   \u001b[90m━━━━━━━━━━━━━━━━━━━━━━━━━━━━━━━━━━━━━━━━\u001b[0m \u001b[32m64.5/64.5 kB\u001b[0m \u001b[31m3.0 MB/s\u001b[0m eta \u001b[36m0:00:00\u001b[0m\r\n",
      "\u001b[?25hInstalling collected packages: cmaes\r\n",
      "Successfully installed cmaes-0.12.0\r\n",
      "Requirement already satisfied: optuna in /usr/local/lib/python3.11/dist-packages (4.4.0)\r\n",
      "Requirement already satisfied: alembic>=1.5.0 in /usr/local/lib/python3.11/dist-packages (from optuna) (1.16.2)\r\n",
      "Requirement already satisfied: colorlog in /usr/local/lib/python3.11/dist-packages (from optuna) (6.9.0)\r\n",
      "Requirement already satisfied: numpy in /usr/local/lib/python3.11/dist-packages (from optuna) (1.26.4)\r\n",
      "Requirement already satisfied: packaging>=20.0 in /usr/local/lib/python3.11/dist-packages (from optuna) (25.0)\r\n",
      "Requirement already satisfied: sqlalchemy>=1.4.2 in /usr/local/lib/python3.11/dist-packages (from optuna) (2.0.41)\r\n",
      "Requirement already satisfied: tqdm in /usr/local/lib/python3.11/dist-packages (from optuna) (4.67.1)\r\n",
      "Requirement already satisfied: PyYAML in /usr/local/lib/python3.11/dist-packages (from optuna) (6.0.2)\r\n",
      "Requirement already satisfied: Mako in /usr/local/lib/python3.11/dist-packages (from alembic>=1.5.0->optuna) (1.3.10)\r\n",
      "Requirement already satisfied: typing-extensions>=4.12 in /usr/local/lib/python3.11/dist-packages (from alembic>=1.5.0->optuna) (4.14.0)\r\n",
      "Requirement already satisfied: greenlet>=1 in /usr/local/lib/python3.11/dist-packages (from sqlalchemy>=1.4.2->optuna) (3.2.3)\r\n",
      "Requirement already satisfied: mkl_fft in /usr/local/lib/python3.11/dist-packages (from numpy->optuna) (1.3.8)\r\n",
      "Requirement already satisfied: mkl_random in /usr/local/lib/python3.11/dist-packages (from numpy->optuna) (1.2.4)\r\n",
      "Requirement already satisfied: mkl_umath in /usr/local/lib/python3.11/dist-packages (from numpy->optuna) (0.1.1)\r\n",
      "Requirement already satisfied: mkl in /usr/local/lib/python3.11/dist-packages (from numpy->optuna) (2025.2.0)\r\n",
      "Requirement already satisfied: tbb4py in /usr/local/lib/python3.11/dist-packages (from numpy->optuna) (2022.2.0)\r\n",
      "Requirement already satisfied: mkl-service in /usr/local/lib/python3.11/dist-packages (from numpy->optuna) (2.4.1)\r\n",
      "Requirement already satisfied: MarkupSafe>=0.9.2 in /usr/local/lib/python3.11/dist-packages (from Mako->alembic>=1.5.0->optuna) (3.0.2)\r\n",
      "Requirement already satisfied: intel-openmp<2026,>=2024 in /usr/local/lib/python3.11/dist-packages (from mkl->numpy->optuna) (2024.2.0)\r\n",
      "Requirement already satisfied: tbb==2022.* in /usr/local/lib/python3.11/dist-packages (from mkl->numpy->optuna) (2022.2.0)\r\n",
      "Requirement already satisfied: tcmlib==1.* in /usr/local/lib/python3.11/dist-packages (from tbb==2022.*->mkl->numpy->optuna) (1.4.0)\r\n",
      "Requirement already satisfied: intel-cmplr-lib-rt in /usr/local/lib/python3.11/dist-packages (from mkl_umath->numpy->optuna) (2024.2.0)\r\n",
      "Requirement already satisfied: intel-cmplr-lib-ur==2024.2.0 in /usr/local/lib/python3.11/dist-packages (from intel-openmp<2026,>=2024->mkl->numpy->optuna) (2024.2.0)\r\n"
     ]
    }
   ],
   "source": [
    "import numpy as np \n",
    "import pandas as pd \n",
    "import os\n",
    "import gc\n",
    "import sys\n",
    "import pickle\n",
    "import seaborn as sns\n",
    "import matplotlib.pyplot as plt\n",
    "\n",
    "import xgboost as xgb\n",
    "import lightgbm as lgb\n",
    "from catboost import CatBoostClassifier\n",
    "from functools import partial\n",
    "\n",
    "\n",
    "from sklearn.preprocessing import LabelEncoder, StandardScaler\n",
    "from sklearn.model_selection import train_test_split, KFold\n",
    "from sklearn.utils.class_weight import compute_class_weight\n",
    "from sklearn.ensemble import RandomForestClassifier, HistGradientBoostingClassifier\n",
    "\n",
    "\n",
    "from sklearn.metrics import f1_score\n",
    "!pip install cmaes\n",
    "!pip install optuna\n",
    "import optuna\n",
    "from tqdm import tqdm\n",
    "from copy import deepcopy\n",
    "\n",
    "from sklearn.svm import SVC\n",
    "\n",
    "import warnings\n",
    "warnings.filterwarnings(\"ignore\")"
   ]
  },
  {
   "cell_type": "markdown",
   "id": "f0d3f0ea",
   "metadata": {
    "papermill": {
     "duration": 0.004295,
     "end_time": "2025-07-31T19:30:22.167304",
     "exception": false,
     "start_time": "2025-07-31T19:30:22.163009",
     "status": "completed"
    },
    "tags": []
   },
   "source": [
    "## <p style=\"font-family:Roboto Slab; font-weight:bold; letter-spacing: 2px; color:#8A2BE2; font-size:150%; text-align:left;padding: 0px; display: inline-block; border-bottom: 4px solid #4B0082\"> Configuration </p>"
   ]
  },
  {
   "cell_type": "code",
   "execution_count": 2,
   "id": "25c2559e",
   "metadata": {
    "execution": {
     "iopub.execute_input": "2025-07-31T19:30:22.179250Z",
     "iopub.status.busy": "2025-07-31T19:30:22.177812Z",
     "iopub.status.idle": "2025-07-31T19:30:22.187262Z",
     "shell.execute_reply": "2025-07-31T19:30:22.186325Z"
    },
    "papermill": {
     "duration": 0.017042,
     "end_time": "2025-07-31T19:30:22.188848",
     "exception": false,
     "start_time": "2025-07-31T19:30:22.171806",
     "status": "completed"
    },
    "tags": []
   },
   "outputs": [],
   "source": [
    "class CFG:\n",
    "    BASE_PATH = '/kaggle/input/playground-series-s3e22'\n",
    "    SAVE_PATH = '/kaggle/working'\n",
    "    TARGET = 'outcome'\n",
    "    \n",
    "    TRAIN = True\n",
    "    n_splits = 5\n",
    "    test_size = 0.3\n",
    "    random_state = 42\n",
    "    verbose = False\n",
    "\n",
    "    n_classes = 3\n",
    "\n",
    "    nan_cols = ['temp_of_extremities', 'peripheral_pulse',\n",
    "                 'capillary_refill_time','pain', 'peristalsis','abdominal_distention',\n",
    "                 'nasogastric_tube','nasogastric_reflux','rectal_exam_feces',\n",
    "                 'abdomen','abdomo_appearance']\n",
    "    \n",
    "    binary_col = [\"surgery\", \"age\", \"surgical_lesion\", \"cp_data\"]\n",
    "    \n",
    "    ohe_cols = [\"mucous_membrane\"]\n",
    "\n",
    "    # base model = \n",
    "    decision_function_shape = 'ovo'\n",
    "\n",
    "    n_estimators = 10000\n",
    "    device = 'cpu'\n",
    "\n",
    "    # optium \n",
    "    n_trials = 10000\n",
    "    early_stopping_rounds = 100\n",
    "\n",
    "    class_weights_dict = {0:0.7, 1:1, 2:0.45}\n",
    "\n",
    "    debug = False\n",
    "\n",
    "    def update_debug(self):\n",
    "        if self.debug:\n",
    "            self.n_trials = 10\n",
    "            self.n_estimators = 5\n",
    "            self.n_splits = 2\n",
    "            self.early_stopping_rounds = 5\n",
    "        \n",
    "cfg = CFG()\n",
    "\n",
    "if cfg.debug:\n",
    "    cfg.update_debug()"
   ]
  },
  {
   "cell_type": "code",
   "execution_count": 3,
   "id": "272db25e",
   "metadata": {
    "execution": {
     "iopub.execute_input": "2025-07-31T19:30:22.199520Z",
     "iopub.status.busy": "2025-07-31T19:30:22.199178Z",
     "iopub.status.idle": "2025-07-31T19:30:22.204707Z",
     "shell.execute_reply": "2025-07-31T19:30:22.203578Z"
    },
    "papermill": {
     "duration": 0.013146,
     "end_time": "2025-07-31T19:30:22.206787",
     "exception": false,
     "start_time": "2025-07-31T19:30:22.193641",
     "status": "completed"
    },
    "tags": []
   },
   "outputs": [],
   "source": [
    "def read_data(file, cfg=cfg):\n",
    "    try:\n",
    "        return pd.read_csv(f'{cfg.BASE_PATH}/{file}.csv')\n",
    "    except:\n",
    "        print(f\"{cfg.BASE_PATH}/{file}.csv not found, Enter valid one - [train/test]\")"
   ]
  },
  {
   "cell_type": "code",
   "execution_count": 4,
   "id": "913cf453",
   "metadata": {
    "execution": {
     "iopub.execute_input": "2025-07-31T19:30:22.218210Z",
     "iopub.status.busy": "2025-07-31T19:30:22.217400Z",
     "iopub.status.idle": "2025-07-31T19:30:22.223304Z",
     "shell.execute_reply": "2025-07-31T19:30:22.222379Z"
    },
    "papermill": {
     "duration": 0.013139,
     "end_time": "2025-07-31T19:30:22.224962",
     "exception": false,
     "start_time": "2025-07-31T19:30:22.211823",
     "status": "completed"
    },
    "tags": []
   },
   "outputs": [],
   "source": [
    "def score(y_true, y_pred, cfg=cfg):\n",
    "    return f1_score(y_true, y_pred, average=\"micro\")\n",
    "\n",
    "def save_file(file_name, data, cfg=cfg):\n",
    "    with open(f\"{cfg.SAVE_PATH}/{file_name}\", 'wb') as f:\n",
    "        pickle.dump(data, f)\n",
    "\n",
    "def load_file(file_name, cfg=cfg):\n",
    "    with open(f\"{cfg.SAVE_PATH}/{file_name}\", 'rb') as f:\n",
    "        return pickle.load(f)"
   ]
  },
  {
   "cell_type": "markdown",
   "id": "31496094",
   "metadata": {
    "papermill": {
     "duration": 0.004573,
     "end_time": "2025-07-31T19:30:22.234410",
     "exception": false,
     "start_time": "2025-07-31T19:30:22.229837",
     "status": "completed"
    },
    "tags": []
   },
   "source": [
    "## <p style=\"font-family:Roboto Slab; font-weight:bold; letter-spacing: 2px; color:#8A2BE2; font-size:150%; text-align:left;padding: 0px; display: inline-block; border-bottom: 4px solid #4B0082\"> Load Data </p>"
   ]
  },
  {
   "cell_type": "code",
   "execution_count": 5,
   "id": "b6d9d50a",
   "metadata": {
    "execution": {
     "iopub.execute_input": "2025-07-31T19:30:22.245204Z",
     "iopub.status.busy": "2025-07-31T19:30:22.244885Z",
     "iopub.status.idle": "2025-07-31T19:30:22.320076Z",
     "shell.execute_reply": "2025-07-31T19:30:22.318943Z"
    },
    "papermill": {
     "duration": 0.082637,
     "end_time": "2025-07-31T19:30:22.321848",
     "exception": false,
     "start_time": "2025-07-31T19:30:22.239211",
     "status": "completed"
    },
    "tags": []
   },
   "outputs": [],
   "source": [
    "train = read_data('train')\n",
    "test = read_data('test')\n",
    "id_ = test.id\n",
    "\n",
    "train.drop(['id', 'lesion_3'], axis=1, inplace=True)\n",
    "test.drop(['id', 'lesion_3'], axis=1, inplace=True)\n",
    "\n",
    "train.drop_duplicates(inplace=True)"
   ]
  },
  {
   "cell_type": "code",
   "execution_count": 6,
   "id": "8b15a2e1",
   "metadata": {
    "execution": {
     "iopub.execute_input": "2025-07-31T19:30:22.333474Z",
     "iopub.status.busy": "2025-07-31T19:30:22.333140Z",
     "iopub.status.idle": "2025-07-31T19:30:22.340892Z",
     "shell.execute_reply": "2025-07-31T19:30:22.339843Z"
    },
    "papermill": {
     "duration": 0.014911,
     "end_time": "2025-07-31T19:30:22.342524",
     "exception": false,
     "start_time": "2025-07-31T19:30:22.327613",
     "status": "completed"
    },
    "tags": []
   },
   "outputs": [],
   "source": [
    "X = train.drop('outcome', axis=1)\n",
    "y = train['outcome'].map({'died':0, 'lived':1, 'euthanized':2})"
   ]
  },
  {
   "cell_type": "markdown",
   "id": "8223919c",
   "metadata": {
    "papermill": {
     "duration": 0.004437,
     "end_time": "2025-07-31T19:30:22.351900",
     "exception": false,
     "start_time": "2025-07-31T19:30:22.347463",
     "status": "completed"
    },
    "tags": []
   },
   "source": [
    "## <p style=\"font-family:Roboto Slab; font-weight:bold; letter-spacing: 2px; color:#8A2BE2; font-size:150%; text-align:left;padding: 0px; display: inline-block; border-bottom: 4px solid #4B0082\"> Preprocessing </p>"
   ]
  },
  {
   "cell_type": "code",
   "execution_count": 7,
   "id": "78bd6c31",
   "metadata": {
    "execution": {
     "iopub.execute_input": "2025-07-31T19:30:22.362339Z",
     "iopub.status.busy": "2025-07-31T19:30:22.362056Z",
     "iopub.status.idle": "2025-07-31T19:30:22.578046Z",
     "shell.execute_reply": "2025-07-31T19:30:22.577168Z"
    },
    "papermill": {
     "duration": 0.223276,
     "end_time": "2025-07-31T19:30:22.579782",
     "exception": false,
     "start_time": "2025-07-31T19:30:22.356506",
     "status": "completed"
    },
    "tags": []
   },
   "outputs": [],
   "source": [
    "# taken from https://www.kaggle.com/code/yaaangzhou/pg-s3-e22-very-simple-approach\n",
    "def preprocessing(df, le_cols, ohe_cols, cfg=cfg):\n",
    "    \n",
    "    # Label Encoding for binary cols\n",
    "    le = LabelEncoder()    \n",
    "    for col in le_cols:\n",
    "        df[col] = le.fit_transform(df[col])\n",
    "    \n",
    "    # OneHot Encoding for category cols\n",
    "    df = pd.get_dummies(df, columns=ohe_cols, dtype=int)\n",
    "    \n",
    "    df[\"pain\"] = df[\"pain\"].replace('slight', 'moderate')\n",
    "    df[\"peristalsis\"] = df[\"peristalsis\"].replace('distend_small', 'normal')\n",
    "    df[\"rectal_exam_feces\"] = df[\"rectal_exam_feces\"].replace('serosanguious', 'absent')\n",
    "    df[\"nasogastric_reflux\"] = df[\"nasogastric_reflux\"].replace('slight', 'none')\n",
    "        \n",
    "    df[\"temp_of_extremities\"] = df[\"temp_of_extremities\"].fillna(\"normal\").map({'cold': 0, 'cool': 1, 'normal': 2, 'warm': 3})\n",
    "    df[\"peripheral_pulse\"] = df[\"peripheral_pulse\"].fillna(\"normal\").map({'absent': 0, 'reduced': 1, 'normal': 2, 'increased': 3})\n",
    "    df[\"capillary_refill_time\"] = df[\"capillary_refill_time\"].fillna(\"3\").map({'less_3_sec': 0, '3': 1, 'more_3_sec': 2})\n",
    "    df[\"pain\"] = df[\"pain\"].fillna(\"depressed\").map({'alert': 0, 'depressed': 1, 'moderate': 2, 'mild_pain': 3, 'severe_pain': 4, 'extreme_pain': 5})\n",
    "    df[\"peristalsis\"] = df[\"peristalsis\"].fillna(\"hypomotile\").map({'hypermotile': 0, 'normal': 1, 'hypomotile': 2, 'absent': 3})\n",
    "    df[\"abdominal_distention\"] = df[\"abdominal_distention\"].fillna(\"none\").map({'none': 0, 'slight': 1, 'moderate': 2, 'severe': 3})\n",
    "    df[\"nasogastric_tube\"] = df[\"nasogastric_tube\"].fillna(\"none\").map({'none': 0, 'slight': 1, 'significant': 2})\n",
    "    df[\"nasogastric_reflux\"] = df[\"nasogastric_reflux\"].fillna(\"none\").map({'less_1_liter': 0, 'none': 1, 'more_1_liter': 2})\n",
    "    df[\"rectal_exam_feces\"] = df[\"rectal_exam_feces\"].fillna(\"absent\").map({'absent': 0, 'decreased': 1, 'normal': 2, 'increased': 3})\n",
    "    df[\"abdomen\"] = df[\"abdomen\"].fillna(\"distend_small\").map({'normal': 0, 'other': 1, 'firm': 2,'distend_small': 3, 'distend_large': 4})\n",
    "    df[\"abdomo_appearance\"] = df[\"abdomo_appearance\"].fillna(\"serosanguious\").map({'clear': 0, 'cloudy': 1, 'serosanguious': 2})\n",
    "    \n",
    "    # All nan_cols are object so using mode\n",
    "    for feature in cfg.nan_cols:\n",
    "        df[feature].fillna(df[feature].mode()[0], inplace=True)\n",
    "     \n",
    "    return df  \n",
    "\n",
    "X = preprocessing(X, le_cols=cfg.binary_col, ohe_cols=cfg.ohe_cols)"
   ]
  },
  {
   "cell_type": "code",
   "execution_count": 8,
   "id": "0c346539",
   "metadata": {
    "execution": {
     "iopub.execute_input": "2025-07-31T19:30:22.590867Z",
     "iopub.status.busy": "2025-07-31T19:30:22.590565Z",
     "iopub.status.idle": "2025-07-31T19:30:22.608871Z",
     "shell.execute_reply": "2025-07-31T19:30:22.607864Z"
    },
    "papermill": {
     "duration": 0.026216,
     "end_time": "2025-07-31T19:30:22.610669",
     "exception": false,
     "start_time": "2025-07-31T19:30:22.584453",
     "status": "completed"
    },
    "tags": []
   },
   "outputs": [],
   "source": [
    "# idea taken from https://www.kaggle.com/code/arunklenin/challenging-data-points-cosine-similarity#7.-Balance-Classes\n",
    "class Splitter:\n",
    "    def __init__(self, cfg=cfg, kfold=True):\n",
    "        super().__init__()\n",
    "        self.test_size = cfg.test_size\n",
    "        self.kfold = kfold\n",
    "        self.n_splits = cfg.n_splits\n",
    "\n",
    "    def split_data(self, X, y):\n",
    "        if self.kfold:\n",
    "            kf = KFold(n_splits=self.n_splits, random_state=cfg.random_state, shuffle=True)\n",
    "            for train_index, val_index in kf.split(X, y):\n",
    "                X_train, X_val = X.iloc[train_index], X.iloc[val_index]\n",
    "                y_train, y_val = y.iloc[train_index], y.iloc[val_index]\n",
    "                yield X_train, X_val, y_train, y_val\n",
    "        else:\n",
    "            X_train, X_val, y_train, y_val = train_test_split(X, y, test_size=0.3, shuffle=True, stratify=y)\n",
    "            yield X_train, X_val, y_train, y_val\n",
    "\n",
    "\n",
    "class Classifier:\n",
    "    def __init__(self, model_type='base', cfg=cfg):\n",
    "        super().__init__()\n",
    "        self.model_type = model_type \n",
    "        self.models = self.prepare_model()\n",
    "        self.len_models = len(self.models)\n",
    "\n",
    "\n",
    "    def prepare_model(self):\n",
    "        if self.model_type == 'base':\n",
    "            return [SVC(decision_function_shape=cfg.decision_function_shape)]\n",
    "\n",
    "        elif self.model_type == 'main':\n",
    "            xgb_params = {\n",
    "                    'n_estimators': cfg.n_estimators,\n",
    "                    'learning_rate': 0.05,\n",
    "                    'max_depth': 4,\n",
    "                    'subsample': 0.8,\n",
    "                    'colsample_bytree': 0.1,\n",
    "                    'n_jobs': -1,\n",
    "                    'eval_metric': 'merror',\n",
    "                    'objective': 'multi:softmax',\n",
    "                    'tree_method': 'hist',\n",
    "                    'verbosity': 0,\n",
    "                    'random_state': cfg.random_state,\n",
    "                    'class_weight':cfg.class_weights_dict,\n",
    "                }\n",
    "            if cfg.device == 'gpu':\n",
    "                xgb_params['tree_method'] = 'gpu_hist'\n",
    "                xgb_params['predictor'] = 'gpu_predictor'\n",
    "                    \n",
    "            xgb_params2=xgb_params.copy() \n",
    "            xgb_params2['subsample']= 0.3\n",
    "            xgb_params2['max_depth']=8\n",
    "            xgb_params2['learning_rate']=0.005\n",
    "            xgb_params2['colsample_bytree']=0.9\n",
    "    \n",
    "            \n",
    "            lgb_params = {\n",
    "                'n_estimators': cfg.n_estimators,\n",
    "                'max_depth': 8,\n",
    "                'learning_rate': 0.02,\n",
    "                'subsample': 0.20,\n",
    "                'colsample_bytree': 0.56,\n",
    "                'reg_alpha': 0.25,\n",
    "                'reg_lambda': 5e-08,\n",
    "                'objective': 'multiclass',\n",
    "                'metric': 'multi_logloss',\n",
    "                'boosting_type': 'gbdt',\n",
    "                'device': cfg.device,\n",
    "                'random_state': cfg.random_state,\n",
    "                'class_weight':cfg.class_weights_dict,\n",
    "                'verbosity': -1\n",
    "            }\n",
    "            lgb_params2 = {\n",
    "                'n_estimators': cfg.n_estimators,\n",
    "                'max_depth': 5,\n",
    "                'learning_rate': 0.05,\n",
    "                'subsample': 0.20,\n",
    "                'colsample_bytree': 0.56,\n",
    "                'reg_alpha': 0.25,\n",
    "                'reg_lambda': 5e-08,\n",
    "                'objective': 'multiclass',\n",
    "                'metric': 'multi_logloss',\n",
    "                'boosting_type': 'gbdt',\n",
    "                'device': cfg.device,\n",
    "                'random_state': cfg.random_state,\n",
    "                'class_weight':cfg.class_weights_dict,\n",
    "                'verbosity': -1\n",
    "            }\n",
    "            lgb_params3=lgb_params.copy()  \n",
    "            lgb_params3['subsample']=0.9\n",
    "            lgb_params3['reg_lambda']=0.3461495211744402\n",
    "            lgb_params3['reg_alpha']=0.3095626288582237\n",
    "            lgb_params3['max_depth']=9\n",
    "            lgb_params3['learning_rate']=0.007\n",
    "            lgb_params3['colsample_bytree']=0.5\n",
    "    \n",
    "                    \n",
    "            cb_params = {\n",
    "                'iterations': cfg.n_estimators,\n",
    "                'depth': 6,\n",
    "                'learning_rate': 0.05,\n",
    "                'l2_leaf_reg': 0.7,\n",
    "                'random_strength': 0.2,\n",
    "                'max_bin': 200,\n",
    "                'od_wait': 65,\n",
    "                'one_hot_max_size': 70,\n",
    "                'grow_policy': 'Depthwise',\n",
    "                'bootstrap_type': 'Bayesian',\n",
    "                'od_type': 'Iter',\n",
    "                'eval_metric': 'TotalF1',\n",
    "                'loss_function': 'MultiClass',\n",
    "                'task_type': cfg.device.upper(),\n",
    "                'random_state': cfg.random_state,\n",
    "            }\n",
    "            cb_sym_params = cb_params.copy()\n",
    "            cb_sym_params['grow_policy'] = 'SymmetricTree'\n",
    "            cb_loss_params = cb_params.copy()\n",
    "            cb_loss_params['grow_policy'] = 'Lossguide'\n",
    "            \n",
    "            cb_params2=  cb_params.copy()\n",
    "            cb_params2['learning_rate']=0.01\n",
    "            cb_params2['depth']=8\n",
    "            \n",
    "            cb_params3={\n",
    "                'iterations': cfg.n_estimators,\n",
    "                'random_strength': 0.1, \n",
    "                'one_hot_max_size': 70, 'max_bin': 100, \n",
    "                'learning_rate': 0.008, \n",
    "                'l2_leaf_reg': 0.3, \n",
    "                'grow_policy': 'Depthwise', \n",
    "                'depth': 9, \n",
    "                'max_bin': 200,\n",
    "                'od_wait': 65,\n",
    "                'bootstrap_type': 'Bayesian',\n",
    "                'od_type': 'Iter',\n",
    "                'eval_metric': 'TotalF1',\n",
    "                'loss_function': 'MultiClass',\n",
    "                'task_type': cfg.device.upper(),\n",
    "                'random_state': cfg.random_state,\n",
    "            }\n",
    "            models = {\n",
    "                'svc': SVC(gamma=\"auto\", probability=True, random_state=cfg.random_state),\n",
    "                'xgb': xgb.XGBClassifier(**xgb_params),\n",
    "                'xgb2': xgb.XGBClassifier(**xgb_params2),\n",
    "                'lgb': lgb.LGBMClassifier(**lgb_params),\n",
    "                'lgb2': lgb.LGBMClassifier(**lgb_params2),\n",
    "                'lgb3': lgb.LGBMClassifier(**lgb_params3),\n",
    "                'cat': CatBoostClassifier(**cb_params),\n",
    "                \"cat_sym\": CatBoostClassifier(**cb_sym_params),\n",
    "                \"cat_loss\": CatBoostClassifier(**cb_loss_params),\n",
    "                'cat2': CatBoostClassifier(**cb_params2),\n",
    "                'rf': RandomForestClassifier(n_estimators=1000, random_state=cfg.random_state),\n",
    "                'hist_gbm' : HistGradientBoostingClassifier (max_iter=300, learning_rate=0.001,  max_leaf_nodes=80,\n",
    "                                                             max_depth=6,class_weight=cfg.class_weights_dict, random_state=cfg.random_state)\n",
    "            }\n",
    "            return models\n",
    "\n",
    "        else:\n",
    "            print(f\"No such choice {self.model_type} --- valid are [main/base]\")"
   ]
  },
  {
   "cell_type": "code",
   "execution_count": 9,
   "id": "ccc691ce",
   "metadata": {
    "execution": {
     "iopub.execute_input": "2025-07-31T19:30:22.622133Z",
     "iopub.status.busy": "2025-07-31T19:30:22.621234Z",
     "iopub.status.idle": "2025-07-31T19:30:22.630656Z",
     "shell.execute_reply": "2025-07-31T19:30:22.629882Z"
    },
    "papermill": {
     "duration": 0.016648,
     "end_time": "2025-07-31T19:30:22.632267",
     "exception": false,
     "start_time": "2025-07-31T19:30:22.615619",
     "status": "completed"
    },
    "tags": []
   },
   "outputs": [],
   "source": [
    "class OptunaWeights:\n",
    "    def __init__(self, cfg=cfg):\n",
    "        self.study = None\n",
    "        self.weights = None\n",
    "        self.random_state = cfg.random_state\n",
    "        self.n_trials = cfg.n_trials\n",
    "\n",
    "    def objective(self, trial, y_true, y_preds):\n",
    "        # Define the weights for the predictions from each model\n",
    "        weights = [trial.suggest_float(f\"weight{n}\", -1, 2) for n in range(len(y_preds))]\n",
    "\n",
    "        # Calculate the weighted prediction\n",
    "        weighted_pred = np.average(np.array(y_preds), axis=0, weights=weights)\n",
    "        \n",
    "        weighted_pred_labels = np.argmax(weighted_pred, axis=1)\n",
    "    \n",
    "        return score(y_true, weighted_pred_labels)\n",
    "\n",
    "    def fit(self, y_true, y_preds):\n",
    "        optuna.logging.set_verbosity(optuna.logging.ERROR)\n",
    "        sampler = optuna.samplers.CmaEsSampler(seed=self.random_state)\n",
    "        pruner = optuna.pruners.HyperbandPruner()\n",
    "        self.study = optuna.create_study(sampler=sampler, pruner=pruner, study_name=\"OptunaWeights\", direction='maximize')\n",
    "        objective_partial = partial(self.objective, y_true=y_true, y_preds=y_preds)\n",
    "        self.study.optimize(objective_partial, n_trials=self.n_trials)\n",
    "        self.weights = [self.study.best_params[f\"weight{n}\"] for n in range(len(y_preds))]\n",
    "\n",
    "    def predict(self, y_preds):\n",
    "        assert self.weights is not None, 'OptunaWeights error, must be fitted before predict'\n",
    "        weighted_pred = np.average(np.array(y_preds), axis=0, weights=self.weights)\n",
    "        return weighted_pred\n",
    "\n",
    "    def fit_predict(self, y_true, y_preds):\n",
    "        self.fit(y_true, y_preds)\n",
    "        return self.predict(y_preds)\n",
    "    \n",
    "    def get_weights(self):\n",
    "        return self.weights"
   ]
  },
  {
   "cell_type": "markdown",
   "id": "a9c072ca",
   "metadata": {
    "papermill": {
     "duration": 0.004395,
     "end_time": "2025-07-31T19:30:22.641434",
     "exception": false,
     "start_time": "2025-07-31T19:30:22.637039",
     "status": "completed"
    },
    "tags": []
   },
   "source": [
    "## <p style=\"font-family:Roboto Slab; font-weight:bold; letter-spacing: 2px; color:#8A2BE2; font-size:150%; text-align:left; padding: 0px; display: inline-block; border-bottom: 4px solid #4B0082;\"> Base Model </p>"
   ]
  },
  {
   "cell_type": "code",
   "execution_count": 10,
   "id": "4dd6350b",
   "metadata": {
    "execution": {
     "iopub.execute_input": "2025-07-31T19:30:22.652619Z",
     "iopub.status.busy": "2025-07-31T19:30:22.651624Z",
     "iopub.status.idle": "2025-07-31T19:30:22.892034Z",
     "shell.execute_reply": "2025-07-31T19:30:22.890957Z"
    },
    "papermill": {
     "duration": 0.247752,
     "end_time": "2025-07-31T19:30:22.893760",
     "exception": false,
     "start_time": "2025-07-31T19:30:22.646008",
     "status": "completed"
    },
    "tags": []
   },
   "outputs": [
    {
     "name": "stdout",
     "output_type": "stream",
     "text": [
      "\u001b[94m 0.44660194174757284\u001b[00m\n"
     ]
    }
   ],
   "source": [
    "c = Classifier('base')\n",
    "svc = c.prepare_model()[0]\n",
    "\n",
    "base_splitter = Splitter(kfold=False)\n",
    "X_train, X_val, y_train, y_val = train_test_split(X, y)\n",
    "\n",
    "svc.fit(X_train, y_train)\n",
    "\n",
    "print(f\"\\033[94m {score(y_val, svc.predict(X_val))}\\033[00m\")\n",
    "\n",
    "\n",
    "del base_splitter, X_train, X_val, y_train, y_val, svc, c\n",
    "gc.collect();"
   ]
  },
  {
   "cell_type": "markdown",
   "id": "1da1c9b6",
   "metadata": {
    "papermill": {
     "duration": 0.004497,
     "end_time": "2025-07-31T19:30:22.903161",
     "exception": false,
     "start_time": "2025-07-31T19:30:22.898664",
     "status": "completed"
    },
    "tags": []
   },
   "source": [
    "## <p style=\"font-family:Roboto Slab; font-weight:bold; letter-spacing: 2px; color:#8A2BE2; font-size:150%; text-align:left; padding: 0px; display: inline-block; border-bottom: 4px solid #4B0082;\"> Train Actual Model </p>"
   ]
  },
  {
   "cell_type": "code",
   "execution_count": 11,
   "id": "f7df54ca",
   "metadata": {
    "execution": {
     "iopub.execute_input": "2025-07-31T19:30:22.915331Z",
     "iopub.status.busy": "2025-07-31T19:30:22.914238Z",
     "iopub.status.idle": "2025-07-31T19:30:22.927171Z",
     "shell.execute_reply": "2025-07-31T19:30:22.926094Z"
    },
    "papermill": {
     "duration": 0.020778,
     "end_time": "2025-07-31T19:30:22.928766",
     "exception": false,
     "start_time": "2025-07-31T19:30:22.907988",
     "status": "completed"
    },
    "tags": []
   },
   "outputs": [],
   "source": [
    "def train_find_weights(X, y, cfg=cfg):\n",
    "    \n",
    "    ensemble_score = []\n",
    "    ensemble_f1_score = []\n",
    "    weights = []\n",
    "    trained_models = {'svc': [],\n",
    "    'xgb': [], 'xgb2': [],\n",
    "    'lgb': [], 'lgb2': [], 'lgb3': [],\n",
    "    'cat': [], 'cat_sym': [], 'cat_loss': [], 'cat2': [],\n",
    "    'rf': [],\n",
    "    'hist_gbm': []}\n",
    "    \n",
    "    splitter = Splitter(cfg=cfg)\n",
    "    for i, (X_train, X_val, y_train, y_val) in enumerate(splitter.split_data(X, y)):\n",
    "        \n",
    "        classifier = Classifier('main', cfg)\n",
    "        models = classifier.models\n",
    "\n",
    "        oof_preds = []\n",
    "        test_preds = []\n",
    "\n",
    "        max_score = -1\n",
    "        mname = ''\n",
    "\n",
    "        print(f\"================ Fold {i + 1} ================\")\n",
    "\n",
    "        text = ''\n",
    "        pbar = tqdm(models.items(), total=len(models.items()), file=sys.stdout, colour='GREEN', unit='it')\n",
    "        for name, model in pbar:\n",
    "            if ('xgb' in name) or ('cat' in name)  :\n",
    "                model.fit(X_train, y_train, eval_set=[(X_val, y_val)], early_stopping_rounds=cfg.early_stopping_rounds, verbose=cfg.verbose)\n",
    "\n",
    "            elif ('lgb' in name):\n",
    "                model.fit(X_train, y_train, eval_set=[(X_val, y_val)])\n",
    "            else:\n",
    "                model.fit(X_train, y_train)\n",
    "                \n",
    "            trained_models[f'{name}'].append(deepcopy(model))\n",
    "            \n",
    "            y_val_pred = model.predict_proba(X_val)\n",
    "    \n",
    "            y_val_pred_labels = np.argmax(y_val_pred, axis=1)\n",
    "            f1_micro_score = score(y_val, y_val_pred_labels)\n",
    "            oof_preds.append(y_val_pred)\n",
    "            \n",
    "            text += f'{name} ----- F1 Micro Score: {f1_micro_score:.5f}\\n'\n",
    "            \n",
    "            ord_dict = {\n",
    "                \"Current\": name,\n",
    "                \"Best Model\": mname,\n",
    "                \"Best Score\": round(max_score, 2)\n",
    "            }\n",
    "\n",
    "            pbar.set_postfix(ord_dict, refresh=True)\n",
    "            if f1_micro_score > max_score:\n",
    "                max_score = f1_micro_score\n",
    "                mname = name\n",
    "                \n",
    "        optweights = OptunaWeights(cfg)\n",
    "        y_val_pred = optweights.fit_predict(y_val, oof_preds)\n",
    "        \n",
    "        y_val_pred_labels = np.argmax(y_val_pred, axis=1)\n",
    "        f1_micro_score = score(y_val, y_val_pred_labels)\n",
    "\n",
    "        text += f'Ensemble Score ----- F1 Micro Score: {f1_micro_score:.5f}'\n",
    "        print(text)\n",
    "\n",
    "        ensemble_score.append(score)\n",
    "        ensemble_f1_score.append(f1_micro_score)\n",
    "        weights.append(optweights.weights)  \n",
    "\n",
    "    save_file('trained_models.pkl', trained_models)\n",
    "    save_file('ensemble_score.pkl', ensemble_score)\n",
    "    save_file('weights.pkl', weights)\n",
    "    save_file('ensemble_f1_score.pkl', ensemble_f1_score)\n",
    "    \n",
    "    return trained_models, weights, ensemble_score, ensemble_f1_score"
   ]
  },
  {
   "cell_type": "markdown",
   "id": "c830ee6d",
   "metadata": {
    "papermill": {
     "duration": 0.004356,
     "end_time": "2025-07-31T19:30:22.937878",
     "exception": false,
     "start_time": "2025-07-31T19:30:22.933522",
     "status": "completed"
    },
    "tags": []
   },
   "source": [
    "# <p style=\"font-family:Roboto Slab; font-weight:bold; letter-spacing: 2px; color:#8A2BE2; font-size:200%; text-align:left; padding: 0px; display: inline-block; border-bottom: 4px solid #4B0082;\"> Inference </p>"
   ]
  },
  {
   "cell_type": "code",
   "execution_count": 12,
   "id": "e2fa532c",
   "metadata": {
    "execution": {
     "iopub.execute_input": "2025-07-31T19:30:22.948395Z",
     "iopub.status.busy": "2025-07-31T19:30:22.948030Z",
     "iopub.status.idle": "2025-07-31T19:30:22.956453Z",
     "shell.execute_reply": "2025-07-31T19:30:22.955284Z"
    },
    "papermill": {
     "duration": 0.015624,
     "end_time": "2025-07-31T19:30:22.958092",
     "exception": false,
     "start_time": "2025-07-31T19:30:22.942468",
     "status": "completed"
    },
    "tags": []
   },
   "outputs": [],
   "source": [
    "def predict(test, trained_models=None, weights=None, cfg=cfg):\n",
    "    if trained_models == None:\n",
    "        trained_models = load_file('trained_models.pkl')\n",
    "\n",
    "    if weights == None:\n",
    "        weights = np.array(load_file('weights.pkl'))\n",
    "\n",
    "    test = preprocessing(test, le_cols=cfg.binary_col, ohe_cols=cfg.ohe_cols)\n",
    "\n",
    "    models = list(trained_models.keys())\n",
    "    n_folds = len(weights)\n",
    "    n_models = len(models)\n",
    "\n",
    "    # store the fold result\n",
    "    test_preds = np.zeros((test.shape[0], cfg.n_classes))\n",
    "\n",
    "    assert weights.shape == (n_folds, n_models), \"Weights shape mismatch!\"\n",
    "    \n",
    "    for i, w in enumerate(weights):\n",
    "        print(f\"================ Fold {i + 1} ================\")\n",
    "        pbar = tqdm(enumerate(models), total=n_models, file=sys.stdout, colour='GREEN', unit='model', desc=\"Predicting\")\n",
    "\n",
    "        # store the model result here\n",
    "        fold_weights = weights[i]\n",
    "        ttest = np.zeros_like(test_preds)\n",
    "        \n",
    "        for j, m in pbar:\n",
    "            model_pred = trained_models[m][i].predict_proba(test)\n",
    "            ttest += fold_weights[j] * model_pred\n",
    "\n",
    "        # only one move forward\n",
    "        test_preds += ttest / np.sum(fold_weights)\n",
    "\n",
    "    test_preds /= n_folds\n",
    "\n",
    "\n",
    "    return np.argmax(test_preds, axis=1)"
   ]
  },
  {
   "cell_type": "code",
   "execution_count": 13,
   "id": "3f0084ca",
   "metadata": {
    "execution": {
     "iopub.execute_input": "2025-07-31T19:30:22.968981Z",
     "iopub.status.busy": "2025-07-31T19:30:22.968652Z",
     "iopub.status.idle": "2025-07-31T19:30:22.974673Z",
     "shell.execute_reply": "2025-07-31T19:30:22.973738Z"
    },
    "papermill": {
     "duration": 0.013112,
     "end_time": "2025-07-31T19:30:22.976133",
     "exception": false,
     "start_time": "2025-07-31T19:30:22.963021",
     "status": "completed"
    },
    "tags": []
   },
   "outputs": [],
   "source": [
    "def create_submission(id_, preds):\n",
    "    output = pd.DataFrame()\n",
    "\n",
    "    preds = pd.Series(preds).map({0: 'died', 1:'lived', 2:'euthanized'})\n",
    "    output[\"id\"] = id_\n",
    "    output['outcome'] = preds\n",
    "\n",
    "    counts = preds.value_counts()\n",
    "\n",
    "    output.to_csv(\"submission.csv\", index=False)\n",
    "\n",
    "    plt.pie(counts, labels=counts.index, autopct='%1.1f%%', startangle=90, colors=['#9370DB', '#9400D3', '#A020F0'])\n",
    "    plt.title(\"Test Predictions\")\n",
    "    plt.tight_layout()\n",
    "    plt.show()"
   ]
  },
  {
   "cell_type": "code",
   "execution_count": 14,
   "id": "69613ea0",
   "metadata": {
    "execution": {
     "iopub.execute_input": "2025-07-31T19:30:22.987035Z",
     "iopub.status.busy": "2025-07-31T19:30:22.986693Z",
     "iopub.status.idle": "2025-07-31T19:43:56.360898Z",
     "shell.execute_reply": "2025-07-31T19:43:56.359955Z"
    },
    "papermill": {
     "duration": 813.381909,
     "end_time": "2025-07-31T19:43:56.362729",
     "exception": false,
     "start_time": "2025-07-31T19:30:22.980820",
     "status": "completed"
    },
    "tags": []
   },
   "outputs": [
    {
     "name": "stdout",
     "output_type": "stream",
     "text": [
      "========= Training =========\n",
      "================ Fold 1 ================\n",
      "100%|\u001b[32m██████████\u001b[0m| 12/12 [00:34<00:00,  2.88s/it, Current=hist_gbm, Best Model=xgb, Best Score=0.75]\n",
      "svc ----- F1 Micro Score: 0.53846\n",
      "xgb ----- F1 Micro Score: 0.74899\n",
      "xgb2 ----- F1 Micro Score: 0.72470\n",
      "lgb ----- F1 Micro Score: 0.69231\n",
      "lgb2 ----- F1 Micro Score: 0.68421\n",
      "lgb3 ----- F1 Micro Score: 0.69231\n",
      "cat ----- F1 Micro Score: 0.72065\n",
      "cat_sym ----- F1 Micro Score: 0.74089\n",
      "cat_loss ----- F1 Micro Score: 0.73684\n",
      "cat2 ----- F1 Micro Score: 0.72065\n",
      "rf ----- F1 Micro Score: 0.71255\n",
      "hist_gbm ----- F1 Micro Score: 0.56680\n",
      "Ensemble Score ----- F1 Micro Score: 0.76923\n",
      "================ Fold 2 ================\n",
      "100%|\u001b[32m██████████\u001b[0m| 12/12 [00:35<00:00,  2.97s/it, Current=hist_gbm, Best Model=xgb, Best Score=0.78]\n",
      "svc ----- F1 Micro Score: 0.46964\n",
      "xgb ----- F1 Micro Score: 0.78138\n",
      "xgb2 ----- F1 Micro Score: 0.74089\n",
      "lgb ----- F1 Micro Score: 0.77328\n",
      "lgb2 ----- F1 Micro Score: 0.75304\n",
      "lgb3 ----- F1 Micro Score: 0.77733\n",
      "cat ----- F1 Micro Score: 0.74089\n",
      "cat_sym ----- F1 Micro Score: 0.75709\n",
      "cat_loss ----- F1 Micro Score: 0.74899\n",
      "cat2 ----- F1 Micro Score: 0.72065\n",
      "rf ----- F1 Micro Score: 0.72874\n",
      "hist_gbm ----- F1 Micro Score: 0.51417\n",
      "Ensemble Score ----- F1 Micro Score: 0.80567\n",
      "================ Fold 3 ================\n",
      "100%|\u001b[32m██████████\u001b[0m| 12/12 [00:34<00:00,  2.85s/it, Current=hist_gbm, Best Model=xgb, Best Score=0.74]\n",
      "svc ----- F1 Micro Score: 0.53441\n",
      "xgb ----- F1 Micro Score: 0.73684\n",
      "xgb2 ----- F1 Micro Score: 0.68016\n",
      "lgb ----- F1 Micro Score: 0.71255\n",
      "lgb2 ----- F1 Micro Score: 0.70445\n",
      "lgb3 ----- F1 Micro Score: 0.70850\n",
      "cat ----- F1 Micro Score: 0.70040\n",
      "cat_sym ----- F1 Micro Score: 0.69636\n",
      "cat_loss ----- F1 Micro Score: 0.69636\n",
      "cat2 ----- F1 Micro Score: 0.69636\n",
      "rf ----- F1 Micro Score: 0.66802\n",
      "hist_gbm ----- F1 Micro Score: 0.58704\n",
      "Ensemble Score ----- F1 Micro Score: 0.72065\n",
      "================ Fold 4 ================\n",
      "100%|\u001b[32m██████████\u001b[0m| 12/12 [00:30<00:00,  2.50s/it, Current=hist_gbm, Best Model=xgb, Best Score=0.75]\n",
      "svc ----- F1 Micro Score: 0.51012\n",
      "xgb ----- F1 Micro Score: 0.75304\n",
      "xgb2 ----- F1 Micro Score: 0.71255\n",
      "lgb ----- F1 Micro Score: 0.72874\n",
      "lgb2 ----- F1 Micro Score: 0.70850\n",
      "lgb3 ----- F1 Micro Score: 0.72470\n",
      "cat ----- F1 Micro Score: 0.70040\n",
      "cat_sym ----- F1 Micro Score: 0.71255\n",
      "cat_loss ----- F1 Micro Score: 0.70850\n",
      "cat2 ----- F1 Micro Score: 0.72470\n",
      "rf ----- F1 Micro Score: 0.69231\n",
      "hist_gbm ----- F1 Micro Score: 0.54656\n",
      "Ensemble Score ----- F1 Micro Score: 0.79352\n",
      "================ Fold 5 ================\n",
      "100%|\u001b[32m██████████\u001b[0m| 12/12 [00:31<00:00,  2.60s/it, Current=hist_gbm, Best Model=xgb, Best Score=0.73]\n",
      "svc ----- F1 Micro Score: 0.48583\n",
      "xgb ----- F1 Micro Score: 0.73279\n",
      "xgb2 ----- F1 Micro Score: 0.69231\n",
      "lgb ----- F1 Micro Score: 0.69231\n",
      "lgb2 ----- F1 Micro Score: 0.69231\n",
      "lgb3 ----- F1 Micro Score: 0.68826\n",
      "cat ----- F1 Micro Score: 0.70445\n",
      "cat_sym ----- F1 Micro Score: 0.69231\n",
      "cat_loss ----- F1 Micro Score: 0.70040\n",
      "cat2 ----- F1 Micro Score: 0.70445\n",
      "rf ----- F1 Micro Score: 0.65587\n",
      "hist_gbm ----- F1 Micro Score: 0.50202\n",
      "Ensemble Score ----- F1 Micro Score: 0.74089\n",
      "\n",
      "\n",
      "\n",
      "\n",
      "\n",
      "========= Predicting =========\n",
      "================ Fold 1 ================\n",
      "Predicting: 100%|\u001b[32m██████████\u001b[0m| 12/12 [00:01<00:00,  7.61model/s]\n",
      "================ Fold 2 ================\n",
      "Predicting: 100%|\u001b[32m██████████\u001b[0m| 12/12 [00:01<00:00,  7.25model/s]\n",
      "================ Fold 3 ================\n",
      "Predicting: 100%|\u001b[32m██████████\u001b[0m| 12/12 [00:01<00:00,  6.99model/s]\n",
      "================ Fold 4 ================\n",
      "Predicting: 100%|\u001b[32m██████████\u001b[0m| 12/12 [00:01<00:00,  8.20model/s]\n",
      "================ Fold 5 ================\n",
      "Predicting: 100%|\u001b[32m██████████\u001b[0m| 12/12 [00:01<00:00,  6.88model/s]\n",
      "\n",
      "\n",
      "\n",
      "\n",
      "\n",
      "========= Creating Submission =========\n"
     ]
    },
    {
     "data": {
      "image/png": "[encoded data removed]",
      "text/plain": [
       "<Figure size 640x480 with 1 Axes>"
      ]
     },
     "metadata": {},
     "output_type": "display_data"
    }
   ],
   "source": [
    "if __name__ == \"__main__\":\n",
    "    # preproccss the train \n",
    "\n",
    "    if cfg.TRAIN:\n",
    "        print(\"========= Training =========\")\n",
    "        train_find_weights(X, y)\n",
    "\n",
    "\n",
    "    # predict test\n",
    "\n",
    "\n",
    "    print(\"\\n\"* 4)\n",
    "    print(\"========= Predicting =========\")\n",
    "    predictions = predict(test)\n",
    "\n",
    "    print(\"\\n\"* 4)\n",
    "    print(\"========= Creating Submission =========\")\n",
    "    create_submission(id_, predictions)"
   ]
  }
 ],
 "metadata": {
  "kaggle": {
   "accelerator": "none",
   "dataSources": [
    {
     "databundleVersionId": 6536030,
     "sourceId": 59110,
     "sourceType": "competition"
    }
   ],
   "dockerImageVersionId": 31089,
   "isGpuEnabled": false,
   "isInternetEnabled": true,
   "language": "python",
   "sourceType": "notebook"
  },
  "kernelspec": {
   "display_name": "Python 3",
   "language": "python",
   "name": "python3"
  },
  "language_info": {
   "codemirror_mode": {
    "name": "ipython",
    "version": 3
   },
   "file_extension": ".py",
   "mimetype": "text/x-python",
   "name": "python",
   "nbconvert_exporter": "python",
   "pygments_lexer": "ipython3",
   "version": "3.11.13"
  },
  "papermill": {
   "default_parameters": {},
   "duration": 841.616429,
   "end_time": "2025-07-31T19:43:58.588021",
   "environment_variables": {},
   "exception": null,
   "input_path": "__notebook__.ipynb",
   "output_path": "__notebook__.ipynb",
   "parameters": {},
   "start_time": "2025-07-31T19:29:56.971592",
   "version": "2.6.0"
  }
 },
 "nbformat": 4,
 "nbformat_minor": 5
}
